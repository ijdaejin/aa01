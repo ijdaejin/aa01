{
  "nbformat": 4,
  "nbformat_minor": 0,
  "metadata": {
    "colab": {
      "name": "iot_nano33_json.ipynb",
      "provenance": []
    },
    "kernelspec": {
      "display_name": "Python 3",
      "name": "python3"
    },
    "language_info": {
      "codemirror_mode": {
        "name": "ipython",
        "version": 3
      },
      "file_extension": ".py",
      "mimetype": "text/x-python",
      "name": "python",
      "nbconvert_exporter": "python",
      "pygments_lexer": "ipython3",
      "version": "3.8.5"
    }
  },
  "cells": [
    {
      "cell_type": "markdown",
      "metadata": {
        "id": "oYht3IoGwlyU"
      },
      "source": [
        "## Pandas: access to the remote json from MongoDB\n",
        "- The json file is generated on the fly from the express server of Node.js.\n",
        "- The data stored in MongoDB are saved in the json file.\n",
        "- The data are composed of three time series; temperature, humidity, and luminosity.\n"
      ]
    },
    {
      "cell_type": "code",
      "metadata": {
        "id": "GYezm0oWwlyW"
      },
      "source": [
        "import pandas as pd\n",
        "import numpy as np\n",
        "import matplotlib.pyplot as plt\n",
        "from matplotlib import animation, rc"
      ],
      "execution_count": 2,
      "outputs": []
    },
    {
      "cell_type": "markdown",
      "metadata": {
        "id": "1xQdk1RkeFpY"
      },
      "source": [
        "## [데이터 로드 1.]\n",
        "- loading real-time json file from MongoDB via web\n",
        "\n",
        "- http://chaos.inje.ac.kr:3030/client_33.html"
      ]
    },
    {
      "cell_type": "code",
      "metadata": {
        "id": "jguBydRLwlyc",
        "colab": {
          "base_uri": "https://localhost:8080/"
        },
        "outputId": "56922da8-6a03-4018-9548-fc1b9fb87c42"
      },
      "source": [
        "# loading real-time json file from MongoDB via web (CORS, port=3030)\n",
        "url=\"http://chaos.inje.ac.kr:3030/iot\"\n",
        "df=pd.read_json(url)\n",
        "print('Large IoT data was retrieved successfully from MongoDB!')"
      ],
      "execution_count": 3,
      "outputs": [
        {
          "output_type": "stream",
          "name": "stdout",
          "text": [
            "Large IoT data was retrieved successfully from MongoDB!\n"
          ]
        }
      ]
    },
    {
      "cell_type": "markdown",
      "metadata": {
        "id": "TpDlu78Hd37h"
      },
      "source": [
        "## [데이터 로드 2.]\n",
        "- Load the compressed data from github.com"
      ]
    },
    {
      "cell_type": "code",
      "source": [
        "df.head()"
      ],
      "metadata": {
        "id": "NzUlB5YECVfm",
        "outputId": "9aa1ad7b-f27c-4f49-9d92-cc5cf7888028",
        "colab": {
          "base_uri": "https://localhost:8080/",
          "height": 357
        }
      },
      "execution_count": 8,
      "outputs": [
        {
          "output_type": "execute_result",
          "data": {
            "text/plain": [
              "                        _id                    date  temperature  humidity  \\\n",
              "0  6372dced4ae845251c1cd863 2022-11-15 09:27:25.144         27.9      26.5   \n",
              "1  6372dcf24ae845251c1cd864 2022-11-15 09:27:30.188         27.9      26.6   \n",
              "2  6372dcf74ae845251c1cd865 2022-11-15 09:27:35.232         28.0      26.6   \n",
              "3  6372dcfc4ae845251c1cd866 2022-11-15 09:27:40.277         27.9      26.6   \n",
              "4  6372dd014ae845251c1cd867 2022-11-15 09:27:45.322         27.9      26.6   \n",
              "\n",
              "   luminosity  pressure  r_ratio  g_ratio  b_ratio  __v  \n",
              "0         376    1008.4     37.6     33.3     29.1    0  \n",
              "1         374    1008.6     37.7     33.3     29.1    0  \n",
              "2         373    1008.5     37.7     33.3     29.1    0  \n",
              "3         374    1008.5     37.6     33.2     29.2    0  \n",
              "4         373    1008.4     37.7     33.3     29.1    0  "
            ],
            "text/html": [
              "\n",
              "  <div id=\"df-1e9fec74-8eb7-43ae-8e2f-61ac2678b7b9\">\n",
              "    <div class=\"colab-df-container\">\n",
              "      <div>\n",
              "<style scoped>\n",
              "    .dataframe tbody tr th:only-of-type {\n",
              "        vertical-align: middle;\n",
              "    }\n",
              "\n",
              "    .dataframe tbody tr th {\n",
              "        vertical-align: top;\n",
              "    }\n",
              "\n",
              "    .dataframe thead th {\n",
              "        text-align: right;\n",
              "    }\n",
              "</style>\n",
              "<table border=\"1\" class=\"dataframe\">\n",
              "  <thead>\n",
              "    <tr style=\"text-align: right;\">\n",
              "      <th></th>\n",
              "      <th>_id</th>\n",
              "      <th>date</th>\n",
              "      <th>temperature</th>\n",
              "      <th>humidity</th>\n",
              "      <th>luminosity</th>\n",
              "      <th>pressure</th>\n",
              "      <th>r_ratio</th>\n",
              "      <th>g_ratio</th>\n",
              "      <th>b_ratio</th>\n",
              "      <th>__v</th>\n",
              "    </tr>\n",
              "  </thead>\n",
              "  <tbody>\n",
              "    <tr>\n",
              "      <th>0</th>\n",
              "      <td>6372dced4ae845251c1cd863</td>\n",
              "      <td>2022-11-15 09:27:25.144</td>\n",
              "      <td>27.9</td>\n",
              "      <td>26.5</td>\n",
              "      <td>376</td>\n",
              "      <td>1008.4</td>\n",
              "      <td>37.6</td>\n",
              "      <td>33.3</td>\n",
              "      <td>29.1</td>\n",
              "      <td>0</td>\n",
              "    </tr>\n",
              "    <tr>\n",
              "      <th>1</th>\n",
              "      <td>6372dcf24ae845251c1cd864</td>\n",
              "      <td>2022-11-15 09:27:30.188</td>\n",
              "      <td>27.9</td>\n",
              "      <td>26.6</td>\n",
              "      <td>374</td>\n",
              "      <td>1008.6</td>\n",
              "      <td>37.7</td>\n",
              "      <td>33.3</td>\n",
              "      <td>29.1</td>\n",
              "      <td>0</td>\n",
              "    </tr>\n",
              "    <tr>\n",
              "      <th>2</th>\n",
              "      <td>6372dcf74ae845251c1cd865</td>\n",
              "      <td>2022-11-15 09:27:35.232</td>\n",
              "      <td>28.0</td>\n",
              "      <td>26.6</td>\n",
              "      <td>373</td>\n",
              "      <td>1008.5</td>\n",
              "      <td>37.7</td>\n",
              "      <td>33.3</td>\n",
              "      <td>29.1</td>\n",
              "      <td>0</td>\n",
              "    </tr>\n",
              "    <tr>\n",
              "      <th>3</th>\n",
              "      <td>6372dcfc4ae845251c1cd866</td>\n",
              "      <td>2022-11-15 09:27:40.277</td>\n",
              "      <td>27.9</td>\n",
              "      <td>26.6</td>\n",
              "      <td>374</td>\n",
              "      <td>1008.5</td>\n",
              "      <td>37.6</td>\n",
              "      <td>33.2</td>\n",
              "      <td>29.2</td>\n",
              "      <td>0</td>\n",
              "    </tr>\n",
              "    <tr>\n",
              "      <th>4</th>\n",
              "      <td>6372dd014ae845251c1cd867</td>\n",
              "      <td>2022-11-15 09:27:45.322</td>\n",
              "      <td>27.9</td>\n",
              "      <td>26.6</td>\n",
              "      <td>373</td>\n",
              "      <td>1008.4</td>\n",
              "      <td>37.7</td>\n",
              "      <td>33.3</td>\n",
              "      <td>29.1</td>\n",
              "      <td>0</td>\n",
              "    </tr>\n",
              "  </tbody>\n",
              "</table>\n",
              "</div>\n",
              "      <button class=\"colab-df-convert\" onclick=\"convertToInteractive('df-1e9fec74-8eb7-43ae-8e2f-61ac2678b7b9')\"\n",
              "              title=\"Convert this dataframe to an interactive table.\"\n",
              "              style=\"display:none;\">\n",
              "        \n",
              "  <svg xmlns=\"http://www.w3.org/2000/svg\" height=\"24px\"viewBox=\"0 0 24 24\"\n",
              "       width=\"24px\">\n",
              "    <path d=\"M0 0h24v24H0V0z\" fill=\"none\"/>\n",
              "    <path d=\"M18.56 5.44l.94 2.06.94-2.06 2.06-.94-2.06-.94-.94-2.06-.94 2.06-2.06.94zm-11 1L8.5 8.5l.94-2.06 2.06-.94-2.06-.94L8.5 2.5l-.94 2.06-2.06.94zm10 10l.94 2.06.94-2.06 2.06-.94-2.06-.94-.94-2.06-.94 2.06-2.06.94z\"/><path d=\"M17.41 7.96l-1.37-1.37c-.4-.4-.92-.59-1.43-.59-.52 0-1.04.2-1.43.59L10.3 9.45l-7.72 7.72c-.78.78-.78 2.05 0 2.83L4 21.41c.39.39.9.59 1.41.59.51 0 1.02-.2 1.41-.59l7.78-7.78 2.81-2.81c.8-.78.8-2.07 0-2.86zM5.41 20L4 18.59l7.72-7.72 1.47 1.35L5.41 20z\"/>\n",
              "  </svg>\n",
              "      </button>\n",
              "      \n",
              "  <style>\n",
              "    .colab-df-container {\n",
              "      display:flex;\n",
              "      flex-wrap:wrap;\n",
              "      gap: 12px;\n",
              "    }\n",
              "\n",
              "    .colab-df-convert {\n",
              "      background-color: #E8F0FE;\n",
              "      border: none;\n",
              "      border-radius: 50%;\n",
              "      cursor: pointer;\n",
              "      display: none;\n",
              "      fill: #1967D2;\n",
              "      height: 32px;\n",
              "      padding: 0 0 0 0;\n",
              "      width: 32px;\n",
              "    }\n",
              "\n",
              "    .colab-df-convert:hover {\n",
              "      background-color: #E2EBFA;\n",
              "      box-shadow: 0px 1px 2px rgba(60, 64, 67, 0.3), 0px 1px 3px 1px rgba(60, 64, 67, 0.15);\n",
              "      fill: #174EA6;\n",
              "    }\n",
              "\n",
              "    [theme=dark] .colab-df-convert {\n",
              "      background-color: #3B4455;\n",
              "      fill: #D2E3FC;\n",
              "    }\n",
              "\n",
              "    [theme=dark] .colab-df-convert:hover {\n",
              "      background-color: #434B5C;\n",
              "      box-shadow: 0px 1px 3px 1px rgba(0, 0, 0, 0.15);\n",
              "      filter: drop-shadow(0px 1px 2px rgba(0, 0, 0, 0.3));\n",
              "      fill: #FFFFFF;\n",
              "    }\n",
              "  </style>\n",
              "\n",
              "      <script>\n",
              "        const buttonEl =\n",
              "          document.querySelector('#df-1e9fec74-8eb7-43ae-8e2f-61ac2678b7b9 button.colab-df-convert');\n",
              "        buttonEl.style.display =\n",
              "          google.colab.kernel.accessAllowed ? 'block' : 'none';\n",
              "\n",
              "        async function convertToInteractive(key) {\n",
              "          const element = document.querySelector('#df-1e9fec74-8eb7-43ae-8e2f-61ac2678b7b9');\n",
              "          const dataTable =\n",
              "            await google.colab.kernel.invokeFunction('convertToInteractive',\n",
              "                                                     [key], {});\n",
              "          if (!dataTable) return;\n",
              "\n",
              "          const docLinkHtml = 'Like what you see? Visit the ' +\n",
              "            '<a target=\"_blank\" href=https://colab.research.google.com/notebooks/data_table.ipynb>data table notebook</a>'\n",
              "            + ' to learn more about interactive tables.';\n",
              "          element.innerHTML = '';\n",
              "          dataTable['output_type'] = 'display_data';\n",
              "          await google.colab.output.renderOutput(dataTable, element);\n",
              "          const docLink = document.createElement('div');\n",
              "          docLink.innerHTML = docLinkHtml;\n",
              "          element.appendChild(docLink);\n",
              "        }\n",
              "      </script>\n",
              "    </div>\n",
              "  </div>\n",
              "  "
            ]
          },
          "metadata": {},
          "execution_count": 8
        }
      ]
    },
    {
      "cell_type": "code",
      "metadata": {
        "colab": {
          "base_uri": "https://localhost:8080/",
          "height": 357
        },
        "id": "Qz0XxhI4wlyn",
        "outputId": "4145e2a0-b3ef-4e9a-ee32-7ebd7ab16f9c"
      },
      "source": [
        "df.tail()"
      ],
      "execution_count": 9,
      "outputs": [
        {
          "output_type": "execute_result",
          "data": {
            "text/plain": [
              "                            _id                    date  temperature  \\\n",
              "39171  6375e0c04ae845251c1d7166 2022-11-17 16:20:32.021         26.4   \n",
              "39172  6375e0c54ae845251c1d7167 2022-11-17 16:20:37.066         26.4   \n",
              "39173  6375e0ca4ae845251c1d7168 2022-11-17 16:20:42.111         26.4   \n",
              "39174  6375e0cf4ae845251c1d7169 2022-11-17 16:20:47.156         26.4   \n",
              "39175  6375e0d44ae845251c1d716a 2022-11-17 16:20:52.201         26.4   \n",
              "\n",
              "       humidity  luminosity  pressure  r_ratio  g_ratio  b_ratio  __v  \n",
              "39171      28.5           8    1014.4     33.3     33.3     33.3    0  \n",
              "39172      28.5           8    1014.1     33.3     33.3     33.3    0  \n",
              "39173      28.6           8    1014.1     33.3     33.3     33.3    0  \n",
              "39174      28.6           8    1014.1     33.3     33.3     33.3    0  \n",
              "39175      28.5           8    1014.1     33.3     33.3     33.3    0  "
            ],
            "text/html": [
              "\n",
              "  <div id=\"df-e3468929-85d8-4cac-9417-6fd2182ea104\">\n",
              "    <div class=\"colab-df-container\">\n",
              "      <div>\n",
              "<style scoped>\n",
              "    .dataframe tbody tr th:only-of-type {\n",
              "        vertical-align: middle;\n",
              "    }\n",
              "\n",
              "    .dataframe tbody tr th {\n",
              "        vertical-align: top;\n",
              "    }\n",
              "\n",
              "    .dataframe thead th {\n",
              "        text-align: right;\n",
              "    }\n",
              "</style>\n",
              "<table border=\"1\" class=\"dataframe\">\n",
              "  <thead>\n",
              "    <tr style=\"text-align: right;\">\n",
              "      <th></th>\n",
              "      <th>_id</th>\n",
              "      <th>date</th>\n",
              "      <th>temperature</th>\n",
              "      <th>humidity</th>\n",
              "      <th>luminosity</th>\n",
              "      <th>pressure</th>\n",
              "      <th>r_ratio</th>\n",
              "      <th>g_ratio</th>\n",
              "      <th>b_ratio</th>\n",
              "      <th>__v</th>\n",
              "    </tr>\n",
              "  </thead>\n",
              "  <tbody>\n",
              "    <tr>\n",
              "      <th>39171</th>\n",
              "      <td>6375e0c04ae845251c1d7166</td>\n",
              "      <td>2022-11-17 16:20:32.021</td>\n",
              "      <td>26.4</td>\n",
              "      <td>28.5</td>\n",
              "      <td>8</td>\n",
              "      <td>1014.4</td>\n",
              "      <td>33.3</td>\n",
              "      <td>33.3</td>\n",
              "      <td>33.3</td>\n",
              "      <td>0</td>\n",
              "    </tr>\n",
              "    <tr>\n",
              "      <th>39172</th>\n",
              "      <td>6375e0c54ae845251c1d7167</td>\n",
              "      <td>2022-11-17 16:20:37.066</td>\n",
              "      <td>26.4</td>\n",
              "      <td>28.5</td>\n",
              "      <td>8</td>\n",
              "      <td>1014.1</td>\n",
              "      <td>33.3</td>\n",
              "      <td>33.3</td>\n",
              "      <td>33.3</td>\n",
              "      <td>0</td>\n",
              "    </tr>\n",
              "    <tr>\n",
              "      <th>39173</th>\n",
              "      <td>6375e0ca4ae845251c1d7168</td>\n",
              "      <td>2022-11-17 16:20:42.111</td>\n",
              "      <td>26.4</td>\n",
              "      <td>28.6</td>\n",
              "      <td>8</td>\n",
              "      <td>1014.1</td>\n",
              "      <td>33.3</td>\n",
              "      <td>33.3</td>\n",
              "      <td>33.3</td>\n",
              "      <td>0</td>\n",
              "    </tr>\n",
              "    <tr>\n",
              "      <th>39174</th>\n",
              "      <td>6375e0cf4ae845251c1d7169</td>\n",
              "      <td>2022-11-17 16:20:47.156</td>\n",
              "      <td>26.4</td>\n",
              "      <td>28.6</td>\n",
              "      <td>8</td>\n",
              "      <td>1014.1</td>\n",
              "      <td>33.3</td>\n",
              "      <td>33.3</td>\n",
              "      <td>33.3</td>\n",
              "      <td>0</td>\n",
              "    </tr>\n",
              "    <tr>\n",
              "      <th>39175</th>\n",
              "      <td>6375e0d44ae845251c1d716a</td>\n",
              "      <td>2022-11-17 16:20:52.201</td>\n",
              "      <td>26.4</td>\n",
              "      <td>28.5</td>\n",
              "      <td>8</td>\n",
              "      <td>1014.1</td>\n",
              "      <td>33.3</td>\n",
              "      <td>33.3</td>\n",
              "      <td>33.3</td>\n",
              "      <td>0</td>\n",
              "    </tr>\n",
              "  </tbody>\n",
              "</table>\n",
              "</div>\n",
              "      <button class=\"colab-df-convert\" onclick=\"convertToInteractive('df-e3468929-85d8-4cac-9417-6fd2182ea104')\"\n",
              "              title=\"Convert this dataframe to an interactive table.\"\n",
              "              style=\"display:none;\">\n",
              "        \n",
              "  <svg xmlns=\"http://www.w3.org/2000/svg\" height=\"24px\"viewBox=\"0 0 24 24\"\n",
              "       width=\"24px\">\n",
              "    <path d=\"M0 0h24v24H0V0z\" fill=\"none\"/>\n",
              "    <path d=\"M18.56 5.44l.94 2.06.94-2.06 2.06-.94-2.06-.94-.94-2.06-.94 2.06-2.06.94zm-11 1L8.5 8.5l.94-2.06 2.06-.94-2.06-.94L8.5 2.5l-.94 2.06-2.06.94zm10 10l.94 2.06.94-2.06 2.06-.94-2.06-.94-.94-2.06-.94 2.06-2.06.94z\"/><path d=\"M17.41 7.96l-1.37-1.37c-.4-.4-.92-.59-1.43-.59-.52 0-1.04.2-1.43.59L10.3 9.45l-7.72 7.72c-.78.78-.78 2.05 0 2.83L4 21.41c.39.39.9.59 1.41.59.51 0 1.02-.2 1.41-.59l7.78-7.78 2.81-2.81c.8-.78.8-2.07 0-2.86zM5.41 20L4 18.59l7.72-7.72 1.47 1.35L5.41 20z\"/>\n",
              "  </svg>\n",
              "      </button>\n",
              "      \n",
              "  <style>\n",
              "    .colab-df-container {\n",
              "      display:flex;\n",
              "      flex-wrap:wrap;\n",
              "      gap: 12px;\n",
              "    }\n",
              "\n",
              "    .colab-df-convert {\n",
              "      background-color: #E8F0FE;\n",
              "      border: none;\n",
              "      border-radius: 50%;\n",
              "      cursor: pointer;\n",
              "      display: none;\n",
              "      fill: #1967D2;\n",
              "      height: 32px;\n",
              "      padding: 0 0 0 0;\n",
              "      width: 32px;\n",
              "    }\n",
              "\n",
              "    .colab-df-convert:hover {\n",
              "      background-color: #E2EBFA;\n",
              "      box-shadow: 0px 1px 2px rgba(60, 64, 67, 0.3), 0px 1px 3px 1px rgba(60, 64, 67, 0.15);\n",
              "      fill: #174EA6;\n",
              "    }\n",
              "\n",
              "    [theme=dark] .colab-df-convert {\n",
              "      background-color: #3B4455;\n",
              "      fill: #D2E3FC;\n",
              "    }\n",
              "\n",
              "    [theme=dark] .colab-df-convert:hover {\n",
              "      background-color: #434B5C;\n",
              "      box-shadow: 0px 1px 3px 1px rgba(0, 0, 0, 0.15);\n",
              "      filter: drop-shadow(0px 1px 2px rgba(0, 0, 0, 0.3));\n",
              "      fill: #FFFFFF;\n",
              "    }\n",
              "  </style>\n",
              "\n",
              "      <script>\n",
              "        const buttonEl =\n",
              "          document.querySelector('#df-e3468929-85d8-4cac-9417-6fd2182ea104 button.colab-df-convert');\n",
              "        buttonEl.style.display =\n",
              "          google.colab.kernel.accessAllowed ? 'block' : 'none';\n",
              "\n",
              "        async function convertToInteractive(key) {\n",
              "          const element = document.querySelector('#df-e3468929-85d8-4cac-9417-6fd2182ea104');\n",
              "          const dataTable =\n",
              "            await google.colab.kernel.invokeFunction('convertToInteractive',\n",
              "                                                     [key], {});\n",
              "          if (!dataTable) return;\n",
              "\n",
              "          const docLinkHtml = 'Like what you see? Visit the ' +\n",
              "            '<a target=\"_blank\" href=https://colab.research.google.com/notebooks/data_table.ipynb>data table notebook</a>'\n",
              "            + ' to learn more about interactive tables.';\n",
              "          element.innerHTML = '';\n",
              "          dataTable['output_type'] = 'display_data';\n",
              "          await google.colab.output.renderOutput(dataTable, element);\n",
              "          const docLink = document.createElement('div');\n",
              "          docLink.innerHTML = docLinkHtml;\n",
              "          element.appendChild(docLink);\n",
              "        }\n",
              "      </script>\n",
              "    </div>\n",
              "  </div>\n",
              "  "
            ]
          },
          "metadata": {},
          "execution_count": 9
        }
      ]
    },
    {
      "cell_type": "code",
      "metadata": {
        "colab": {
          "base_uri": "https://localhost:8080/"
        },
        "id": "xu5T5omfwlys",
        "outputId": "1167d7ca-13f3-4486-841d-3703f76626ad"
      },
      "source": [
        "df.shape, type(df)"
      ],
      "execution_count": 10,
      "outputs": [
        {
          "output_type": "execute_result",
          "data": {
            "text/plain": [
              "((39176, 10), pandas.core.frame.DataFrame)"
            ]
          },
          "metadata": {},
          "execution_count": 10
        }
      ]
    },
    {
      "cell_type": "code",
      "metadata": {
        "colab": {
          "base_uri": "https://localhost:8080/"
        },
        "id": "IGr_hz20Il9L",
        "outputId": "1902ed1f-6002-489d-eaad-8e381a4fde49"
      },
      "source": [
        "df['date'][:1],df['date'][-1:]"
      ],
      "execution_count": 11,
      "outputs": [
        {
          "output_type": "execute_result",
          "data": {
            "text/plain": [
              "(0   2022-11-15 09:27:25.144\n",
              " Name: date, dtype: datetime64[ns], 39175   2022-11-17 16:20:52.201\n",
              " Name: date, dtype: datetime64[ns])"
            ]
          },
          "metadata": {},
          "execution_count": 11
        }
      ]
    },
    {
      "cell_type": "code",
      "metadata": {
        "colab": {
          "base_uri": "https://localhost:8080/"
        },
        "id": "Ba7jYmgKwlyx",
        "outputId": "c96ecc5c-8b5f-42ad-afc3-823072cf5bdc"
      },
      "source": [
        "df.info()"
      ],
      "execution_count": 12,
      "outputs": [
        {
          "output_type": "stream",
          "name": "stdout",
          "text": [
            "<class 'pandas.core.frame.DataFrame'>\n",
            "RangeIndex: 39176 entries, 0 to 39175\n",
            "Data columns (total 10 columns):\n",
            " #   Column       Non-Null Count  Dtype         \n",
            "---  ------       --------------  -----         \n",
            " 0   _id          39176 non-null  object        \n",
            " 1   date         39176 non-null  datetime64[ns]\n",
            " 2   temperature  39176 non-null  float64       \n",
            " 3   humidity     39176 non-null  float64       \n",
            " 4   luminosity   39176 non-null  int64         \n",
            " 5   pressure     39176 non-null  float64       \n",
            " 6   r_ratio      19782 non-null  float64       \n",
            " 7   g_ratio      19782 non-null  float64       \n",
            " 8   b_ratio      19782 non-null  float64       \n",
            " 9   __v          39176 non-null  int64         \n",
            "dtypes: datetime64[ns](1), float64(6), int64(2), object(1)\n",
            "memory usage: 3.0+ MB\n"
          ]
        }
      ]
    },
    {
      "cell_type": "code",
      "metadata": {
        "colab": {
          "base_uri": "https://localhost:8080/",
          "height": 364
        },
        "id": "6VGEIgiEydOV",
        "outputId": "1e67b098-a32c-4c66-fa9f-1796e9cbd7df"
      },
      "source": [
        "df.describe()"
      ],
      "execution_count": 13,
      "outputs": [
        {
          "output_type": "execute_result",
          "data": {
            "text/plain": [
              "        temperature      humidity    luminosity      pressure       r_ratio  \\\n",
              "count  39176.000000  39176.000000  39176.000000  39176.000000  19782.000000   \n",
              "mean      26.584605     29.304385     84.232004   1011.180759     34.080007   \n",
              "std        0.918654      1.473426    149.849954      2.432381      4.189611   \n",
              "min       24.900000     24.600000      0.000000   1006.000000      0.000000   \n",
              "25%       25.900000     28.100000      0.000000   1009.800000     31.600000   \n",
              "50%       26.400000     29.900000      2.000000   1011.000000     33.300000   \n",
              "75%       26.800000     30.500000     60.000000   1013.200000     37.500000   \n",
              "max       29.300000     31.500000    661.000000   1016.000000     50.000000   \n",
              "\n",
              "            g_ratio       b_ratio      __v  \n",
              "count  19782.000000  19782.000000  39176.0  \n",
              "mean      33.750313     32.164437      0.0  \n",
              "std        2.277570      4.758796      0.0  \n",
              "min        0.000000     26.200000      0.0  \n",
              "25%       33.100000     29.300000      0.0  \n",
              "50%       33.300000     31.700000      0.0  \n",
              "75%       34.800000     34.500000      0.0  \n",
              "max       50.000000    100.000000      0.0  "
            ],
            "text/html": [
              "\n",
              "  <div id=\"df-be89785d-60d4-4009-aaa6-62712708e0ef\">\n",
              "    <div class=\"colab-df-container\">\n",
              "      <div>\n",
              "<style scoped>\n",
              "    .dataframe tbody tr th:only-of-type {\n",
              "        vertical-align: middle;\n",
              "    }\n",
              "\n",
              "    .dataframe tbody tr th {\n",
              "        vertical-align: top;\n",
              "    }\n",
              "\n",
              "    .dataframe thead th {\n",
              "        text-align: right;\n",
              "    }\n",
              "</style>\n",
              "<table border=\"1\" class=\"dataframe\">\n",
              "  <thead>\n",
              "    <tr style=\"text-align: right;\">\n",
              "      <th></th>\n",
              "      <th>temperature</th>\n",
              "      <th>humidity</th>\n",
              "      <th>luminosity</th>\n",
              "      <th>pressure</th>\n",
              "      <th>r_ratio</th>\n",
              "      <th>g_ratio</th>\n",
              "      <th>b_ratio</th>\n",
              "      <th>__v</th>\n",
              "    </tr>\n",
              "  </thead>\n",
              "  <tbody>\n",
              "    <tr>\n",
              "      <th>count</th>\n",
              "      <td>39176.000000</td>\n",
              "      <td>39176.000000</td>\n",
              "      <td>39176.000000</td>\n",
              "      <td>39176.000000</td>\n",
              "      <td>19782.000000</td>\n",
              "      <td>19782.000000</td>\n",
              "      <td>19782.000000</td>\n",
              "      <td>39176.0</td>\n",
              "    </tr>\n",
              "    <tr>\n",
              "      <th>mean</th>\n",
              "      <td>26.584605</td>\n",
              "      <td>29.304385</td>\n",
              "      <td>84.232004</td>\n",
              "      <td>1011.180759</td>\n",
              "      <td>34.080007</td>\n",
              "      <td>33.750313</td>\n",
              "      <td>32.164437</td>\n",
              "      <td>0.0</td>\n",
              "    </tr>\n",
              "    <tr>\n",
              "      <th>std</th>\n",
              "      <td>0.918654</td>\n",
              "      <td>1.473426</td>\n",
              "      <td>149.849954</td>\n",
              "      <td>2.432381</td>\n",
              "      <td>4.189611</td>\n",
              "      <td>2.277570</td>\n",
              "      <td>4.758796</td>\n",
              "      <td>0.0</td>\n",
              "    </tr>\n",
              "    <tr>\n",
              "      <th>min</th>\n",
              "      <td>24.900000</td>\n",
              "      <td>24.600000</td>\n",
              "      <td>0.000000</td>\n",
              "      <td>1006.000000</td>\n",
              "      <td>0.000000</td>\n",
              "      <td>0.000000</td>\n",
              "      <td>26.200000</td>\n",
              "      <td>0.0</td>\n",
              "    </tr>\n",
              "    <tr>\n",
              "      <th>25%</th>\n",
              "      <td>25.900000</td>\n",
              "      <td>28.100000</td>\n",
              "      <td>0.000000</td>\n",
              "      <td>1009.800000</td>\n",
              "      <td>31.600000</td>\n",
              "      <td>33.100000</td>\n",
              "      <td>29.300000</td>\n",
              "      <td>0.0</td>\n",
              "    </tr>\n",
              "    <tr>\n",
              "      <th>50%</th>\n",
              "      <td>26.400000</td>\n",
              "      <td>29.900000</td>\n",
              "      <td>2.000000</td>\n",
              "      <td>1011.000000</td>\n",
              "      <td>33.300000</td>\n",
              "      <td>33.300000</td>\n",
              "      <td>31.700000</td>\n",
              "      <td>0.0</td>\n",
              "    </tr>\n",
              "    <tr>\n",
              "      <th>75%</th>\n",
              "      <td>26.800000</td>\n",
              "      <td>30.500000</td>\n",
              "      <td>60.000000</td>\n",
              "      <td>1013.200000</td>\n",
              "      <td>37.500000</td>\n",
              "      <td>34.800000</td>\n",
              "      <td>34.500000</td>\n",
              "      <td>0.0</td>\n",
              "    </tr>\n",
              "    <tr>\n",
              "      <th>max</th>\n",
              "      <td>29.300000</td>\n",
              "      <td>31.500000</td>\n",
              "      <td>661.000000</td>\n",
              "      <td>1016.000000</td>\n",
              "      <td>50.000000</td>\n",
              "      <td>50.000000</td>\n",
              "      <td>100.000000</td>\n",
              "      <td>0.0</td>\n",
              "    </tr>\n",
              "  </tbody>\n",
              "</table>\n",
              "</div>\n",
              "      <button class=\"colab-df-convert\" onclick=\"convertToInteractive('df-be89785d-60d4-4009-aaa6-62712708e0ef')\"\n",
              "              title=\"Convert this dataframe to an interactive table.\"\n",
              "              style=\"display:none;\">\n",
              "        \n",
              "  <svg xmlns=\"http://www.w3.org/2000/svg\" height=\"24px\"viewBox=\"0 0 24 24\"\n",
              "       width=\"24px\">\n",
              "    <path d=\"M0 0h24v24H0V0z\" fill=\"none\"/>\n",
              "    <path d=\"M18.56 5.44l.94 2.06.94-2.06 2.06-.94-2.06-.94-.94-2.06-.94 2.06-2.06.94zm-11 1L8.5 8.5l.94-2.06 2.06-.94-2.06-.94L8.5 2.5l-.94 2.06-2.06.94zm10 10l.94 2.06.94-2.06 2.06-.94-2.06-.94-.94-2.06-.94 2.06-2.06.94z\"/><path d=\"M17.41 7.96l-1.37-1.37c-.4-.4-.92-.59-1.43-.59-.52 0-1.04.2-1.43.59L10.3 9.45l-7.72 7.72c-.78.78-.78 2.05 0 2.83L4 21.41c.39.39.9.59 1.41.59.51 0 1.02-.2 1.41-.59l7.78-7.78 2.81-2.81c.8-.78.8-2.07 0-2.86zM5.41 20L4 18.59l7.72-7.72 1.47 1.35L5.41 20z\"/>\n",
              "  </svg>\n",
              "      </button>\n",
              "      \n",
              "  <style>\n",
              "    .colab-df-container {\n",
              "      display:flex;\n",
              "      flex-wrap:wrap;\n",
              "      gap: 12px;\n",
              "    }\n",
              "\n",
              "    .colab-df-convert {\n",
              "      background-color: #E8F0FE;\n",
              "      border: none;\n",
              "      border-radius: 50%;\n",
              "      cursor: pointer;\n",
              "      display: none;\n",
              "      fill: #1967D2;\n",
              "      height: 32px;\n",
              "      padding: 0 0 0 0;\n",
              "      width: 32px;\n",
              "    }\n",
              "\n",
              "    .colab-df-convert:hover {\n",
              "      background-color: #E2EBFA;\n",
              "      box-shadow: 0px 1px 2px rgba(60, 64, 67, 0.3), 0px 1px 3px 1px rgba(60, 64, 67, 0.15);\n",
              "      fill: #174EA6;\n",
              "    }\n",
              "\n",
              "    [theme=dark] .colab-df-convert {\n",
              "      background-color: #3B4455;\n",
              "      fill: #D2E3FC;\n",
              "    }\n",
              "\n",
              "    [theme=dark] .colab-df-convert:hover {\n",
              "      background-color: #434B5C;\n",
              "      box-shadow: 0px 1px 3px 1px rgba(0, 0, 0, 0.15);\n",
              "      filter: drop-shadow(0px 1px 2px rgba(0, 0, 0, 0.3));\n",
              "      fill: #FFFFFF;\n",
              "    }\n",
              "  </style>\n",
              "\n",
              "      <script>\n",
              "        const buttonEl =\n",
              "          document.querySelector('#df-be89785d-60d4-4009-aaa6-62712708e0ef button.colab-df-convert');\n",
              "        buttonEl.style.display =\n",
              "          google.colab.kernel.accessAllowed ? 'block' : 'none';\n",
              "\n",
              "        async function convertToInteractive(key) {\n",
              "          const element = document.querySelector('#df-be89785d-60d4-4009-aaa6-62712708e0ef');\n",
              "          const dataTable =\n",
              "            await google.colab.kernel.invokeFunction('convertToInteractive',\n",
              "                                                     [key], {});\n",
              "          if (!dataTable) return;\n",
              "\n",
              "          const docLinkHtml = 'Like what you see? Visit the ' +\n",
              "            '<a target=\"_blank\" href=https://colab.research.google.com/notebooks/data_table.ipynb>data table notebook</a>'\n",
              "            + ' to learn more about interactive tables.';\n",
              "          element.innerHTML = '';\n",
              "          dataTable['output_type'] = 'display_data';\n",
              "          await google.colab.output.renderOutput(dataTable, element);\n",
              "          const docLink = document.createElement('div');\n",
              "          docLink.innerHTML = docLinkHtml;\n",
              "          element.appendChild(docLink);\n",
              "        }\n",
              "      </script>\n",
              "    </div>\n",
              "  </div>\n",
              "  "
            ]
          },
          "metadata": {},
          "execution_count": 13
        }
      ]
    },
    {
      "cell_type": "code",
      "metadata": {
        "id": "hhP06hHOLHVg"
      },
      "source": [
        "# Save iot data in csv file.\n",
        "df.to_csv('iot33_data_221117_raw.csv')"
      ],
      "execution_count": null,
      "outputs": []
    },
    {
      "cell_type": "markdown",
      "metadata": {
        "id": "g9Z8adSvNEp_"
      },
      "source": [
        "## Check data\n",
        "- NaN\n",
        "- missing value"
      ]
    },
    {
      "cell_type": "code",
      "metadata": {
        "colab": {
          "base_uri": "https://localhost:8080/"
        },
        "id": "c35w4k5fNJRI",
        "outputId": "c283d1d7-6ccf-4d0c-b6d8-2cd42826b8f7"
      },
      "source": [
        "df.isnull().sum() #/df.shape[0]*100"
      ],
      "execution_count": 14,
      "outputs": [
        {
          "output_type": "execute_result",
          "data": {
            "text/plain": [
              "_id                0\n",
              "date               0\n",
              "temperature        0\n",
              "humidity           0\n",
              "luminosity         0\n",
              "pressure           0\n",
              "r_ratio        19394\n",
              "g_ratio        19394\n",
              "b_ratio        19394\n",
              "__v                0\n",
              "dtype: int64"
            ]
          },
          "metadata": {},
          "execution_count": 14
        }
      ]
    },
    {
      "cell_type": "code",
      "metadata": {
        "colab": {
          "base_uri": "https://localhost:8080/"
        },
        "id": "V6txumYNbERU",
        "outputId": "47cd0615-3de9-4385-8ed9-973adf6e0733"
      },
      "source": [
        "df.isna().sum()"
      ],
      "execution_count": 15,
      "outputs": [
        {
          "output_type": "execute_result",
          "data": {
            "text/plain": [
              "_id                0\n",
              "date               0\n",
              "temperature        0\n",
              "humidity           0\n",
              "luminosity         0\n",
              "pressure           0\n",
              "r_ratio        19394\n",
              "g_ratio        19394\n",
              "b_ratio        19394\n",
              "__v                0\n",
              "dtype: int64"
            ]
          },
          "metadata": {},
          "execution_count": 15
        }
      ]
    },
    {
      "cell_type": "markdown",
      "metadata": {
        "id": "eR-9lPsaN1ce"
      },
      "source": [
        "## Replace NaN with mean: Imputation\n",
        "- NaN ==>> 33.3 (100/3)"
      ]
    },
    {
      "cell_type": "code",
      "metadata": {
        "colab": {
          "base_uri": "https://localhost:8080/"
        },
        "id": "aOZec4f9Z4uB",
        "outputId": "9b66a6bc-960e-4605-e8b5-728cd5c1b0b7"
      },
      "source": [
        "df=df.fillna(33.3)\n",
        "df.isna().sum()"
      ],
      "execution_count": 16,
      "outputs": [
        {
          "output_type": "execute_result",
          "data": {
            "text/plain": [
              "_id            0\n",
              "date           0\n",
              "temperature    0\n",
              "humidity       0\n",
              "luminosity     0\n",
              "pressure       0\n",
              "r_ratio        0\n",
              "g_ratio        0\n",
              "b_ratio        0\n",
              "__v            0\n",
              "dtype: int64"
            ]
          },
          "metadata": {},
          "execution_count": 16
        }
      ]
    },
    {
      "cell_type": "code",
      "metadata": {
        "id": "azt9NJNhOGI-",
        "outputId": "26b60ecb-6879-4a1b-d06e-0239e8f41679",
        "colab": {
          "base_uri": "https://localhost:8080/"
        }
      },
      "source": [
        "# for whole dataframe\n",
        "# df = df.replace(np.nan, 33.3)\n",
        "df.isnull().sum()"
      ],
      "execution_count": 17,
      "outputs": [
        {
          "output_type": "execute_result",
          "data": {
            "text/plain": [
              "_id            0\n",
              "date           0\n",
              "temperature    0\n",
              "humidity       0\n",
              "luminosity     0\n",
              "pressure       0\n",
              "r_ratio        0\n",
              "g_ratio        0\n",
              "b_ratio        0\n",
              "__v            0\n",
              "dtype: int64"
            ]
          },
          "metadata": {},
          "execution_count": 17
        }
      ]
    },
    {
      "cell_type": "markdown",
      "metadata": {
        "id": "fMZWYEMxOmSy"
      },
      "source": [
        "## IoT data were cleaned!"
      ]
    },
    {
      "cell_type": "code",
      "source": [
        "# Save cleaned iot data in csv file.\n",
        "df.to_csv('iot33_data_cleaned_221117_raw.csv')"
      ],
      "metadata": {
        "id": "N6MPFoVPDKAV"
      },
      "execution_count": 18,
      "outputs": []
    },
    {
      "cell_type": "code",
      "metadata": {
        "colab": {
          "base_uri": "https://localhost:8080/",
          "height": 357
        },
        "id": "PG38R4s0pU4B",
        "outputId": "6866ad49-1583-49b1-ff4a-238d2a86db3c"
      },
      "source": [
        "df.head()"
      ],
      "execution_count": 19,
      "outputs": [
        {
          "output_type": "execute_result",
          "data": {
            "text/plain": [
              "                        _id                    date  temperature  humidity  \\\n",
              "0  6372dced4ae845251c1cd863 2022-11-15 09:27:25.144         27.9      26.5   \n",
              "1  6372dcf24ae845251c1cd864 2022-11-15 09:27:30.188         27.9      26.6   \n",
              "2  6372dcf74ae845251c1cd865 2022-11-15 09:27:35.232         28.0      26.6   \n",
              "3  6372dcfc4ae845251c1cd866 2022-11-15 09:27:40.277         27.9      26.6   \n",
              "4  6372dd014ae845251c1cd867 2022-11-15 09:27:45.322         27.9      26.6   \n",
              "\n",
              "   luminosity  pressure  r_ratio  g_ratio  b_ratio  __v  \n",
              "0         376    1008.4     37.6     33.3     29.1    0  \n",
              "1         374    1008.6     37.7     33.3     29.1    0  \n",
              "2         373    1008.5     37.7     33.3     29.1    0  \n",
              "3         374    1008.5     37.6     33.2     29.2    0  \n",
              "4         373    1008.4     37.7     33.3     29.1    0  "
            ],
            "text/html": [
              "\n",
              "  <div id=\"df-193010e0-7332-4b8c-96f0-30d33bc01b91\">\n",
              "    <div class=\"colab-df-container\">\n",
              "      <div>\n",
              "<style scoped>\n",
              "    .dataframe tbody tr th:only-of-type {\n",
              "        vertical-align: middle;\n",
              "    }\n",
              "\n",
              "    .dataframe tbody tr th {\n",
              "        vertical-align: top;\n",
              "    }\n",
              "\n",
              "    .dataframe thead th {\n",
              "        text-align: right;\n",
              "    }\n",
              "</style>\n",
              "<table border=\"1\" class=\"dataframe\">\n",
              "  <thead>\n",
              "    <tr style=\"text-align: right;\">\n",
              "      <th></th>\n",
              "      <th>_id</th>\n",
              "      <th>date</th>\n",
              "      <th>temperature</th>\n",
              "      <th>humidity</th>\n",
              "      <th>luminosity</th>\n",
              "      <th>pressure</th>\n",
              "      <th>r_ratio</th>\n",
              "      <th>g_ratio</th>\n",
              "      <th>b_ratio</th>\n",
              "      <th>__v</th>\n",
              "    </tr>\n",
              "  </thead>\n",
              "  <tbody>\n",
              "    <tr>\n",
              "      <th>0</th>\n",
              "      <td>6372dced4ae845251c1cd863</td>\n",
              "      <td>2022-11-15 09:27:25.144</td>\n",
              "      <td>27.9</td>\n",
              "      <td>26.5</td>\n",
              "      <td>376</td>\n",
              "      <td>1008.4</td>\n",
              "      <td>37.6</td>\n",
              "      <td>33.3</td>\n",
              "      <td>29.1</td>\n",
              "      <td>0</td>\n",
              "    </tr>\n",
              "    <tr>\n",
              "      <th>1</th>\n",
              "      <td>6372dcf24ae845251c1cd864</td>\n",
              "      <td>2022-11-15 09:27:30.188</td>\n",
              "      <td>27.9</td>\n",
              "      <td>26.6</td>\n",
              "      <td>374</td>\n",
              "      <td>1008.6</td>\n",
              "      <td>37.7</td>\n",
              "      <td>33.3</td>\n",
              "      <td>29.1</td>\n",
              "      <td>0</td>\n",
              "    </tr>\n",
              "    <tr>\n",
              "      <th>2</th>\n",
              "      <td>6372dcf74ae845251c1cd865</td>\n",
              "      <td>2022-11-15 09:27:35.232</td>\n",
              "      <td>28.0</td>\n",
              "      <td>26.6</td>\n",
              "      <td>373</td>\n",
              "      <td>1008.5</td>\n",
              "      <td>37.7</td>\n",
              "      <td>33.3</td>\n",
              "      <td>29.1</td>\n",
              "      <td>0</td>\n",
              "    </tr>\n",
              "    <tr>\n",
              "      <th>3</th>\n",
              "      <td>6372dcfc4ae845251c1cd866</td>\n",
              "      <td>2022-11-15 09:27:40.277</td>\n",
              "      <td>27.9</td>\n",
              "      <td>26.6</td>\n",
              "      <td>374</td>\n",
              "      <td>1008.5</td>\n",
              "      <td>37.6</td>\n",
              "      <td>33.2</td>\n",
              "      <td>29.2</td>\n",
              "      <td>0</td>\n",
              "    </tr>\n",
              "    <tr>\n",
              "      <th>4</th>\n",
              "      <td>6372dd014ae845251c1cd867</td>\n",
              "      <td>2022-11-15 09:27:45.322</td>\n",
              "      <td>27.9</td>\n",
              "      <td>26.6</td>\n",
              "      <td>373</td>\n",
              "      <td>1008.4</td>\n",
              "      <td>37.7</td>\n",
              "      <td>33.3</td>\n",
              "      <td>29.1</td>\n",
              "      <td>0</td>\n",
              "    </tr>\n",
              "  </tbody>\n",
              "</table>\n",
              "</div>\n",
              "      <button class=\"colab-df-convert\" onclick=\"convertToInteractive('df-193010e0-7332-4b8c-96f0-30d33bc01b91')\"\n",
              "              title=\"Convert this dataframe to an interactive table.\"\n",
              "              style=\"display:none;\">\n",
              "        \n",
              "  <svg xmlns=\"http://www.w3.org/2000/svg\" height=\"24px\"viewBox=\"0 0 24 24\"\n",
              "       width=\"24px\">\n",
              "    <path d=\"M0 0h24v24H0V0z\" fill=\"none\"/>\n",
              "    <path d=\"M18.56 5.44l.94 2.06.94-2.06 2.06-.94-2.06-.94-.94-2.06-.94 2.06-2.06.94zm-11 1L8.5 8.5l.94-2.06 2.06-.94-2.06-.94L8.5 2.5l-.94 2.06-2.06.94zm10 10l.94 2.06.94-2.06 2.06-.94-2.06-.94-.94-2.06-.94 2.06-2.06.94z\"/><path d=\"M17.41 7.96l-1.37-1.37c-.4-.4-.92-.59-1.43-.59-.52 0-1.04.2-1.43.59L10.3 9.45l-7.72 7.72c-.78.78-.78 2.05 0 2.83L4 21.41c.39.39.9.59 1.41.59.51 0 1.02-.2 1.41-.59l7.78-7.78 2.81-2.81c.8-.78.8-2.07 0-2.86zM5.41 20L4 18.59l7.72-7.72 1.47 1.35L5.41 20z\"/>\n",
              "  </svg>\n",
              "      </button>\n",
              "      \n",
              "  <style>\n",
              "    .colab-df-container {\n",
              "      display:flex;\n",
              "      flex-wrap:wrap;\n",
              "      gap: 12px;\n",
              "    }\n",
              "\n",
              "    .colab-df-convert {\n",
              "      background-color: #E8F0FE;\n",
              "      border: none;\n",
              "      border-radius: 50%;\n",
              "      cursor: pointer;\n",
              "      display: none;\n",
              "      fill: #1967D2;\n",
              "      height: 32px;\n",
              "      padding: 0 0 0 0;\n",
              "      width: 32px;\n",
              "    }\n",
              "\n",
              "    .colab-df-convert:hover {\n",
              "      background-color: #E2EBFA;\n",
              "      box-shadow: 0px 1px 2px rgba(60, 64, 67, 0.3), 0px 1px 3px 1px rgba(60, 64, 67, 0.15);\n",
              "      fill: #174EA6;\n",
              "    }\n",
              "\n",
              "    [theme=dark] .colab-df-convert {\n",
              "      background-color: #3B4455;\n",
              "      fill: #D2E3FC;\n",
              "    }\n",
              "\n",
              "    [theme=dark] .colab-df-convert:hover {\n",
              "      background-color: #434B5C;\n",
              "      box-shadow: 0px 1px 3px 1px rgba(0, 0, 0, 0.15);\n",
              "      filter: drop-shadow(0px 1px 2px rgba(0, 0, 0, 0.3));\n",
              "      fill: #FFFFFF;\n",
              "    }\n",
              "  </style>\n",
              "\n",
              "      <script>\n",
              "        const buttonEl =\n",
              "          document.querySelector('#df-193010e0-7332-4b8c-96f0-30d33bc01b91 button.colab-df-convert');\n",
              "        buttonEl.style.display =\n",
              "          google.colab.kernel.accessAllowed ? 'block' : 'none';\n",
              "\n",
              "        async function convertToInteractive(key) {\n",
              "          const element = document.querySelector('#df-193010e0-7332-4b8c-96f0-30d33bc01b91');\n",
              "          const dataTable =\n",
              "            await google.colab.kernel.invokeFunction('convertToInteractive',\n",
              "                                                     [key], {});\n",
              "          if (!dataTable) return;\n",
              "\n",
              "          const docLinkHtml = 'Like what you see? Visit the ' +\n",
              "            '<a target=\"_blank\" href=https://colab.research.google.com/notebooks/data_table.ipynb>data table notebook</a>'\n",
              "            + ' to learn more about interactive tables.';\n",
              "          element.innerHTML = '';\n",
              "          dataTable['output_type'] = 'display_data';\n",
              "          await google.colab.output.renderOutput(dataTable, element);\n",
              "          const docLink = document.createElement('div');\n",
              "          docLink.innerHTML = docLinkHtml;\n",
              "          element.appendChild(docLink);\n",
              "        }\n",
              "      </script>\n",
              "    </div>\n",
              "  </div>\n",
              "  "
            ]
          },
          "metadata": {},
          "execution_count": 19
        }
      ]
    },
    {
      "cell_type": "markdown",
      "metadata": {
        "id": "H5gtQbgCw62w"
      },
      "source": [
        "## New DataFrame : iot_data\n",
        "### Dataframe with date and sensor values(temperature, humidity, luminosity, pressure, r, g, b)"
      ]
    },
    {
      "cell_type": "code",
      "source": [
        "df.columns"
      ],
      "metadata": {
        "id": "_3eyOgNqdZXZ",
        "outputId": "81c4cad7-5041-40ac-b06d-7af5221b894d",
        "colab": {
          "base_uri": "https://localhost:8080/"
        }
      },
      "execution_count": 20,
      "outputs": [
        {
          "output_type": "execute_result",
          "data": {
            "text/plain": [
              "Index(['_id', 'date', 'temperature', 'humidity', 'luminosity', 'pressure',\n",
              "       'r_ratio', 'g_ratio', 'b_ratio', '__v'],\n",
              "      dtype='object')"
            ]
          },
          "metadata": {},
          "execution_count": 20
        }
      ]
    },
    {
      "cell_type": "code",
      "metadata": {
        "id": "5VTfTsldfaGj"
      },
      "source": [
        "#  select columns\n",
        "cols = ['date', 'temperature', 'humidity', 'luminosity', 'pressure', 'r_ratio', 'g_ratio', 'b_ratio']"
      ],
      "execution_count": 21,
      "outputs": []
    },
    {
      "cell_type": "code",
      "metadata": {
        "id": "wLi8PDa_wly3"
      },
      "source": [
        "# Make iot data\n",
        "iot_data = df[cols]"
      ],
      "execution_count": 22,
      "outputs": []
    },
    {
      "cell_type": "code",
      "metadata": {
        "colab": {
          "base_uri": "https://localhost:8080/"
        },
        "id": "NWW0Y_Zswly8",
        "outputId": "8180ce00-2ec8-43e2-8b97-e5e9f69c7fe1"
      },
      "source": [
        "iot_data.shape"
      ],
      "execution_count": 23,
      "outputs": [
        {
          "output_type": "execute_result",
          "data": {
            "text/plain": [
              "(39176, 8)"
            ]
          },
          "metadata": {},
          "execution_count": 23
        }
      ]
    },
    {
      "cell_type": "code",
      "metadata": {
        "colab": {
          "base_uri": "https://localhost:8080/",
          "height": 206
        },
        "id": "QrsngVb8wlzA",
        "outputId": "c8ec1c45-d058-4acb-a4eb-8f31ed6c4547"
      },
      "source": [
        "iot_data.head()  # date와 7 개의 신호를 확인."
      ],
      "execution_count": 24,
      "outputs": [
        {
          "output_type": "execute_result",
          "data": {
            "text/plain": [
              "                     date  temperature  humidity  luminosity  pressure  \\\n",
              "0 2022-11-15 09:27:25.144         27.9      26.5         376    1008.4   \n",
              "1 2022-11-15 09:27:30.188         27.9      26.6         374    1008.6   \n",
              "2 2022-11-15 09:27:35.232         28.0      26.6         373    1008.5   \n",
              "3 2022-11-15 09:27:40.277         27.9      26.6         374    1008.5   \n",
              "4 2022-11-15 09:27:45.322         27.9      26.6         373    1008.4   \n",
              "\n",
              "   r_ratio  g_ratio  b_ratio  \n",
              "0     37.6     33.3     29.1  \n",
              "1     37.7     33.3     29.1  \n",
              "2     37.7     33.3     29.1  \n",
              "3     37.6     33.2     29.2  \n",
              "4     37.7     33.3     29.1  "
            ],
            "text/html": [
              "\n",
              "  <div id=\"df-278fb54d-028b-4e60-be67-94555b3ac013\">\n",
              "    <div class=\"colab-df-container\">\n",
              "      <div>\n",
              "<style scoped>\n",
              "    .dataframe tbody tr th:only-of-type {\n",
              "        vertical-align: middle;\n",
              "    }\n",
              "\n",
              "    .dataframe tbody tr th {\n",
              "        vertical-align: top;\n",
              "    }\n",
              "\n",
              "    .dataframe thead th {\n",
              "        text-align: right;\n",
              "    }\n",
              "</style>\n",
              "<table border=\"1\" class=\"dataframe\">\n",
              "  <thead>\n",
              "    <tr style=\"text-align: right;\">\n",
              "      <th></th>\n",
              "      <th>date</th>\n",
              "      <th>temperature</th>\n",
              "      <th>humidity</th>\n",
              "      <th>luminosity</th>\n",
              "      <th>pressure</th>\n",
              "      <th>r_ratio</th>\n",
              "      <th>g_ratio</th>\n",
              "      <th>b_ratio</th>\n",
              "    </tr>\n",
              "  </thead>\n",
              "  <tbody>\n",
              "    <tr>\n",
              "      <th>0</th>\n",
              "      <td>2022-11-15 09:27:25.144</td>\n",
              "      <td>27.9</td>\n",
              "      <td>26.5</td>\n",
              "      <td>376</td>\n",
              "      <td>1008.4</td>\n",
              "      <td>37.6</td>\n",
              "      <td>33.3</td>\n",
              "      <td>29.1</td>\n",
              "    </tr>\n",
              "    <tr>\n",
              "      <th>1</th>\n",
              "      <td>2022-11-15 09:27:30.188</td>\n",
              "      <td>27.9</td>\n",
              "      <td>26.6</td>\n",
              "      <td>374</td>\n",
              "      <td>1008.6</td>\n",
              "      <td>37.7</td>\n",
              "      <td>33.3</td>\n",
              "      <td>29.1</td>\n",
              "    </tr>\n",
              "    <tr>\n",
              "      <th>2</th>\n",
              "      <td>2022-11-15 09:27:35.232</td>\n",
              "      <td>28.0</td>\n",
              "      <td>26.6</td>\n",
              "      <td>373</td>\n",
              "      <td>1008.5</td>\n",
              "      <td>37.7</td>\n",
              "      <td>33.3</td>\n",
              "      <td>29.1</td>\n",
              "    </tr>\n",
              "    <tr>\n",
              "      <th>3</th>\n",
              "      <td>2022-11-15 09:27:40.277</td>\n",
              "      <td>27.9</td>\n",
              "      <td>26.6</td>\n",
              "      <td>374</td>\n",
              "      <td>1008.5</td>\n",
              "      <td>37.6</td>\n",
              "      <td>33.2</td>\n",
              "      <td>29.2</td>\n",
              "    </tr>\n",
              "    <tr>\n",
              "      <th>4</th>\n",
              "      <td>2022-11-15 09:27:45.322</td>\n",
              "      <td>27.9</td>\n",
              "      <td>26.6</td>\n",
              "      <td>373</td>\n",
              "      <td>1008.4</td>\n",
              "      <td>37.7</td>\n",
              "      <td>33.3</td>\n",
              "      <td>29.1</td>\n",
              "    </tr>\n",
              "  </tbody>\n",
              "</table>\n",
              "</div>\n",
              "      <button class=\"colab-df-convert\" onclick=\"convertToInteractive('df-278fb54d-028b-4e60-be67-94555b3ac013')\"\n",
              "              title=\"Convert this dataframe to an interactive table.\"\n",
              "              style=\"display:none;\">\n",
              "        \n",
              "  <svg xmlns=\"http://www.w3.org/2000/svg\" height=\"24px\"viewBox=\"0 0 24 24\"\n",
              "       width=\"24px\">\n",
              "    <path d=\"M0 0h24v24H0V0z\" fill=\"none\"/>\n",
              "    <path d=\"M18.56 5.44l.94 2.06.94-2.06 2.06-.94-2.06-.94-.94-2.06-.94 2.06-2.06.94zm-11 1L8.5 8.5l.94-2.06 2.06-.94-2.06-.94L8.5 2.5l-.94 2.06-2.06.94zm10 10l.94 2.06.94-2.06 2.06-.94-2.06-.94-.94-2.06-.94 2.06-2.06.94z\"/><path d=\"M17.41 7.96l-1.37-1.37c-.4-.4-.92-.59-1.43-.59-.52 0-1.04.2-1.43.59L10.3 9.45l-7.72 7.72c-.78.78-.78 2.05 0 2.83L4 21.41c.39.39.9.59 1.41.59.51 0 1.02-.2 1.41-.59l7.78-7.78 2.81-2.81c.8-.78.8-2.07 0-2.86zM5.41 20L4 18.59l7.72-7.72 1.47 1.35L5.41 20z\"/>\n",
              "  </svg>\n",
              "      </button>\n",
              "      \n",
              "  <style>\n",
              "    .colab-df-container {\n",
              "      display:flex;\n",
              "      flex-wrap:wrap;\n",
              "      gap: 12px;\n",
              "    }\n",
              "\n",
              "    .colab-df-convert {\n",
              "      background-color: #E8F0FE;\n",
              "      border: none;\n",
              "      border-radius: 50%;\n",
              "      cursor: pointer;\n",
              "      display: none;\n",
              "      fill: #1967D2;\n",
              "      height: 32px;\n",
              "      padding: 0 0 0 0;\n",
              "      width: 32px;\n",
              "    }\n",
              "\n",
              "    .colab-df-convert:hover {\n",
              "      background-color: #E2EBFA;\n",
              "      box-shadow: 0px 1px 2px rgba(60, 64, 67, 0.3), 0px 1px 3px 1px rgba(60, 64, 67, 0.15);\n",
              "      fill: #174EA6;\n",
              "    }\n",
              "\n",
              "    [theme=dark] .colab-df-convert {\n",
              "      background-color: #3B4455;\n",
              "      fill: #D2E3FC;\n",
              "    }\n",
              "\n",
              "    [theme=dark] .colab-df-convert:hover {\n",
              "      background-color: #434B5C;\n",
              "      box-shadow: 0px 1px 3px 1px rgba(0, 0, 0, 0.15);\n",
              "      filter: drop-shadow(0px 1px 2px rgba(0, 0, 0, 0.3));\n",
              "      fill: #FFFFFF;\n",
              "    }\n",
              "  </style>\n",
              "\n",
              "      <script>\n",
              "        const buttonEl =\n",
              "          document.querySelector('#df-278fb54d-028b-4e60-be67-94555b3ac013 button.colab-df-convert');\n",
              "        buttonEl.style.display =\n",
              "          google.colab.kernel.accessAllowed ? 'block' : 'none';\n",
              "\n",
              "        async function convertToInteractive(key) {\n",
              "          const element = document.querySelector('#df-278fb54d-028b-4e60-be67-94555b3ac013');\n",
              "          const dataTable =\n",
              "            await google.colab.kernel.invokeFunction('convertToInteractive',\n",
              "                                                     [key], {});\n",
              "          if (!dataTable) return;\n",
              "\n",
              "          const docLinkHtml = 'Like what you see? Visit the ' +\n",
              "            '<a target=\"_blank\" href=https://colab.research.google.com/notebooks/data_table.ipynb>data table notebook</a>'\n",
              "            + ' to learn more about interactive tables.';\n",
              "          element.innerHTML = '';\n",
              "          dataTable['output_type'] = 'display_data';\n",
              "          await google.colab.output.renderOutput(dataTable, element);\n",
              "          const docLink = document.createElement('div');\n",
              "          docLink.innerHTML = docLinkHtml;\n",
              "          element.appendChild(docLink);\n",
              "        }\n",
              "      </script>\n",
              "    </div>\n",
              "  </div>\n",
              "  "
            ]
          },
          "metadata": {},
          "execution_count": 24
        }
      ]
    },
    {
      "cell_type": "code",
      "metadata": {
        "colab": {
          "base_uri": "https://localhost:8080/"
        },
        "id": "ZI7ggvWpwlzG",
        "outputId": "133c8fe5-ed98-4c86-f37b-7ceecc8670e3"
      },
      "source": [
        "iot_data.info()"
      ],
      "execution_count": 25,
      "outputs": [
        {
          "output_type": "stream",
          "name": "stdout",
          "text": [
            "<class 'pandas.core.frame.DataFrame'>\n",
            "RangeIndex: 39176 entries, 0 to 39175\n",
            "Data columns (total 8 columns):\n",
            " #   Column       Non-Null Count  Dtype         \n",
            "---  ------       --------------  -----         \n",
            " 0   date         39176 non-null  datetime64[ns]\n",
            " 1   temperature  39176 non-null  float64       \n",
            " 2   humidity     39176 non-null  float64       \n",
            " 3   luminosity   39176 non-null  int64         \n",
            " 4   pressure     39176 non-null  float64       \n",
            " 5   r_ratio      39176 non-null  float64       \n",
            " 6   g_ratio      39176 non-null  float64       \n",
            " 7   b_ratio      39176 non-null  float64       \n",
            "dtypes: datetime64[ns](1), float64(6), int64(1)\n",
            "memory usage: 2.4 MB\n"
          ]
        }
      ]
    },
    {
      "cell_type": "code",
      "metadata": {
        "colab": {
          "base_uri": "https://localhost:8080/"
        },
        "id": "YlYSuLHMdX3_",
        "outputId": "6f62ac86-adac-47e7-ad97-4c09ac64ac38"
      },
      "source": [
        "iot_data.isna().sum()"
      ],
      "execution_count": 26,
      "outputs": [
        {
          "output_type": "execute_result",
          "data": {
            "text/plain": [
              "date           0\n",
              "temperature    0\n",
              "humidity       0\n",
              "luminosity     0\n",
              "pressure       0\n",
              "r_ratio        0\n",
              "g_ratio        0\n",
              "b_ratio        0\n",
              "dtype: int64"
            ]
          },
          "metadata": {},
          "execution_count": 26
        }
      ]
    },
    {
      "cell_type": "code",
      "metadata": {
        "id": "sKH2MLA7lxjh"
      },
      "source": [
        "# Save iot data in csv file.\n",
        "iot_data.to_csv('iot_nano33_211123_clean.csv')"
      ],
      "execution_count": null,
      "outputs": []
    },
    {
      "cell_type": "markdown",
      "metadata": {
        "id": "tqGuXzIPfYbZ"
      },
      "source": [
        "## EDA (Exploratory Data Analysis, 탐색적 자료 분석) "
      ]
    },
    {
      "cell_type": "code",
      "metadata": {
        "colab": {
          "base_uri": "https://localhost:8080/",
          "height": 330
        },
        "id": "2QB6w7uvuN6R",
        "outputId": "e5551b55-1083-46d5-9cf9-eaa257b9076a"
      },
      "source": [
        "# Plot boxplot\n",
        "# iot_data[['temperature','humidity','luminosity']].plot.box(title='Boxplot of temperature, humidity, and luminosity')\n",
        "# iot_data.loc[:,'temperature':'luminosity'].plot.box(title='Boxplot of temperature, humidity, and luminosity')\n",
        "iot_data.iloc[:,1:].plot.box(title='Boxplot of all signals')\n",
        "plt.xticks(rotation=60)\n",
        "plt.show()"
      ],
      "execution_count": 27,
      "outputs": [
        {
          "output_type": "display_data",
          "data": {
            "text/plain": [
              "<Figure size 432x288 with 1 Axes>"
            ],
            "image/png": "[encoded data removed]"
          },
          "metadata": {
            "needs_background": "light"
          }
        }
      ]
    },
    {
      "cell_type": "markdown",
      "metadata": {
        "id": "feFqm_ocxRjV"
      },
      "source": [
        "### Plot time series of sensor data"
      ]
    },
    {
      "cell_type": "code",
      "metadata": {
        "colab": {
          "base_uri": "https://localhost:8080/",
          "height": 206
        },
        "id": "4HhOr7ivOnN3",
        "outputId": "4e3d703e-9494-4dfd-b72a-c49e12e09f8b"
      },
      "source": [
        "iot_data.head()"
      ],
      "execution_count": 28,
      "outputs": [
        {
          "output_type": "execute_result",
          "data": {
            "text/plain": [
              "                     date  temperature  humidity  luminosity  pressure  \\\n",
              "0 2022-11-15 09:27:25.144         27.9      26.5         376    1008.4   \n",
              "1 2022-11-15 09:27:30.188         27.9      26.6         374    1008.6   \n",
              "2 2022-11-15 09:27:35.232         28.0      26.6         373    1008.5   \n",
              "3 2022-11-15 09:27:40.277         27.9      26.6         374    1008.5   \n",
              "4 2022-11-15 09:27:45.322         27.9      26.6         373    1008.4   \n",
              "\n",
              "   r_ratio  g_ratio  b_ratio  \n",
              "0     37.6     33.3     29.1  \n",
              "1     37.7     33.3     29.1  \n",
              "2     37.7     33.3     29.1  \n",
              "3     37.6     33.2     29.2  \n",
              "4     37.7     33.3     29.1  "
            ],
            "text/html": [
              "\n",
              "  <div id=\"df-d29db8e8-8568-40fe-9ca5-9a9360999326\">\n",
              "    <div class=\"colab-df-container\">\n",
              "      <div>\n",
              "<style scoped>\n",
              "    .dataframe tbody tr th:only-of-type {\n",
              "        vertical-align: middle;\n",
              "    }\n",
              "\n",
              "    .dataframe tbody tr th {\n",
              "        vertical-align: top;\n",
              "    }\n",
              "\n",
              "    .dataframe thead th {\n",
              "        text-align: right;\n",
              "    }\n",
              "</style>\n",
              "<table border=\"1\" class=\"dataframe\">\n",
              "  <thead>\n",
              "    <tr style=\"text-align: right;\">\n",
              "      <th></th>\n",
              "      <th>date</th>\n",
              "      <th>temperature</th>\n",
              "      <th>humidity</th>\n",
              "      <th>luminosity</th>\n",
              "      <th>pressure</th>\n",
              "      <th>r_ratio</th>\n",
              "      <th>g_ratio</th>\n",
              "      <th>b_ratio</th>\n",
              "    </tr>\n",
              "  </thead>\n",
              "  <tbody>\n",
              "    <tr>\n",
              "      <th>0</th>\n",
              "      <td>2022-11-15 09:27:25.144</td>\n",
              "      <td>27.9</td>\n",
              "      <td>26.5</td>\n",
              "      <td>376</td>\n",
              "      <td>1008.4</td>\n",
              "      <td>37.6</td>\n",
              "      <td>33.3</td>\n",
              "      <td>29.1</td>\n",
              "    </tr>\n",
              "    <tr>\n",
              "      <th>1</th>\n",
              "      <td>2022-11-15 09:27:30.188</td>\n",
              "      <td>27.9</td>\n",
              "      <td>26.6</td>\n",
              "      <td>374</td>\n",
              "      <td>1008.6</td>\n",
              "      <td>37.7</td>\n",
              "      <td>33.3</td>\n",
              "      <td>29.1</td>\n",
              "    </tr>\n",
              "    <tr>\n",
              "      <th>2</th>\n",
              "      <td>2022-11-15 09:27:35.232</td>\n",
              "      <td>28.0</td>\n",
              "      <td>26.6</td>\n",
              "      <td>373</td>\n",
              "      <td>1008.5</td>\n",
              "      <td>37.7</td>\n",
              "      <td>33.3</td>\n",
              "      <td>29.1</td>\n",
              "    </tr>\n",
              "    <tr>\n",
              "      <th>3</th>\n",
              "      <td>2022-11-15 09:27:40.277</td>\n",
              "      <td>27.9</td>\n",
              "      <td>26.6</td>\n",
              "      <td>374</td>\n",
              "      <td>1008.5</td>\n",
              "      <td>37.6</td>\n",
              "      <td>33.2</td>\n",
              "      <td>29.2</td>\n",
              "    </tr>\n",
              "    <tr>\n",
              "      <th>4</th>\n",
              "      <td>2022-11-15 09:27:45.322</td>\n",
              "      <td>27.9</td>\n",
              "      <td>26.6</td>\n",
              "      <td>373</td>\n",
              "      <td>1008.4</td>\n",
              "      <td>37.7</td>\n",
              "      <td>33.3</td>\n",
              "      <td>29.1</td>\n",
              "    </tr>\n",
              "  </tbody>\n",
              "</table>\n",
              "</div>\n",
              "      <button class=\"colab-df-convert\" onclick=\"convertToInteractive('df-d29db8e8-8568-40fe-9ca5-9a9360999326')\"\n",
              "              title=\"Convert this dataframe to an interactive table.\"\n",
              "              style=\"display:none;\">\n",
              "        \n",
              "  <svg xmlns=\"http://www.w3.org/2000/svg\" height=\"24px\"viewBox=\"0 0 24 24\"\n",
              "       width=\"24px\">\n",
              "    <path d=\"M0 0h24v24H0V0z\" fill=\"none\"/>\n",
              "    <path d=\"M18.56 5.44l.94 2.06.94-2.06 2.06-.94-2.06-.94-.94-2.06-.94 2.06-2.06.94zm-11 1L8.5 8.5l.94-2.06 2.06-.94-2.06-.94L8.5 2.5l-.94 2.06-2.06.94zm10 10l.94 2.06.94-2.06 2.06-.94-2.06-.94-.94-2.06-.94 2.06-2.06.94z\"/><path d=\"M17.41 7.96l-1.37-1.37c-.4-.4-.92-.59-1.43-.59-.52 0-1.04.2-1.43.59L10.3 9.45l-7.72 7.72c-.78.78-.78 2.05 0 2.83L4 21.41c.39.39.9.59 1.41.59.51 0 1.02-.2 1.41-.59l7.78-7.78 2.81-2.81c.8-.78.8-2.07 0-2.86zM5.41 20L4 18.59l7.72-7.72 1.47 1.35L5.41 20z\"/>\n",
              "  </svg>\n",
              "      </button>\n",
              "      \n",
              "  <style>\n",
              "    .colab-df-container {\n",
              "      display:flex;\n",
              "      flex-wrap:wrap;\n",
              "      gap: 12px;\n",
              "    }\n",
              "\n",
              "    .colab-df-convert {\n",
              "      background-color: #E8F0FE;\n",
              "      border: none;\n",
              "      border-radius: 50%;\n",
              "      cursor: pointer;\n",
              "      display: none;\n",
              "      fill: #1967D2;\n",
              "      height: 32px;\n",
              "      padding: 0 0 0 0;\n",
              "      width: 32px;\n",
              "    }\n",
              "\n",
              "    .colab-df-convert:hover {\n",
              "      background-color: #E2EBFA;\n",
              "      box-shadow: 0px 1px 2px rgba(60, 64, 67, 0.3), 0px 1px 3px 1px rgba(60, 64, 67, 0.15);\n",
              "      fill: #174EA6;\n",
              "    }\n",
              "\n",
              "    [theme=dark] .colab-df-convert {\n",
              "      background-color: #3B4455;\n",
              "      fill: #D2E3FC;\n",
              "    }\n",
              "\n",
              "    [theme=dark] .colab-df-convert:hover {\n",
              "      background-color: #434B5C;\n",
              "      box-shadow: 0px 1px 3px 1px rgba(0, 0, 0, 0.15);\n",
              "      filter: drop-shadow(0px 1px 2px rgba(0, 0, 0, 0.3));\n",
              "      fill: #FFFFFF;\n",
              "    }\n",
              "  </style>\n",
              "\n",
              "      <script>\n",
              "        const buttonEl =\n",
              "          document.querySelector('#df-d29db8e8-8568-40fe-9ca5-9a9360999326 button.colab-df-convert');\n",
              "        buttonEl.style.display =\n",
              "          google.colab.kernel.accessAllowed ? 'block' : 'none';\n",
              "\n",
              "        async function convertToInteractive(key) {\n",
              "          const element = document.querySelector('#df-d29db8e8-8568-40fe-9ca5-9a9360999326');\n",
              "          const dataTable =\n",
              "            await google.colab.kernel.invokeFunction('convertToInteractive',\n",
              "                                                     [key], {});\n",
              "          if (!dataTable) return;\n",
              "\n",
              "          const docLinkHtml = 'Like what you see? Visit the ' +\n",
              "            '<a target=\"_blank\" href=https://colab.research.google.com/notebooks/data_table.ipynb>data table notebook</a>'\n",
              "            + ' to learn more about interactive tables.';\n",
              "          element.innerHTML = '';\n",
              "          dataTable['output_type'] = 'display_data';\n",
              "          await google.colab.output.renderOutput(dataTable, element);\n",
              "          const docLink = document.createElement('div');\n",
              "          docLink.innerHTML = docLinkHtml;\n",
              "          element.appendChild(docLink);\n",
              "        }\n",
              "      </script>\n",
              "    </div>\n",
              "  </div>\n",
              "  "
            ]
          },
          "metadata": {},
          "execution_count": 28
        }
      ]
    },
    {
      "cell_type": "code",
      "metadata": {
        "colab": {
          "base_uri": "https://localhost:8080/",
          "height": 358
        },
        "id": "AM_CyVjawlzM",
        "outputId": "3b1b0bd4-51ee-4109-9487-4b5bc69b05e6"
      },
      "source": [
        "iot_data.plot(x='date', y='temperature', figsize=(10,5), title='temperature')\n",
        "plt.xticks(rotation=90)\n",
        "plt.show()"
      ],
      "execution_count": 29,
      "outputs": [
        {
          "output_type": "display_data",
          "data": {
            "text/plain": [
              "<Figure size 720x360 with 1 Axes>"
            ],
            "image/png": "[encoded data removed]"
          },
          "metadata": {
            "needs_background": "light"
          }
        }
      ]
    },
    {
      "cell_type": "markdown",
      "metadata": {
        "id": "RzdQY6Nbf7ET"
      },
      "source": [
        "### Set style of graph\n",
        "- plt.style.use('fivethirtyeight')\n",
        "- plt.style.use('ggplot')"
      ]
    },
    {
      "cell_type": "code",
      "metadata": {
        "colab": {
          "base_uri": "https://localhost:8080/"
        },
        "id": "e0GNB13ngjo2",
        "outputId": "ba6551e6-6ace-4d00-9258-c91e90736b5c"
      },
      "source": [
        "plt.style.available"
      ],
      "execution_count": 30,
      "outputs": [
        {
          "output_type": "execute_result",
          "data": {
            "text/plain": [
              "['Solarize_Light2',\n",
              " '_classic_test_patch',\n",
              " 'bmh',\n",
              " 'classic',\n",
              " 'dark_background',\n",
              " 'fast',\n",
              " 'fivethirtyeight',\n",
              " 'ggplot',\n",
              " 'grayscale',\n",
              " 'seaborn',\n",
              " 'seaborn-bright',\n",
              " 'seaborn-colorblind',\n",
              " 'seaborn-dark',\n",
              " 'seaborn-dark-palette',\n",
              " 'seaborn-darkgrid',\n",
              " 'seaborn-deep',\n",
              " 'seaborn-muted',\n",
              " 'seaborn-notebook',\n",
              " 'seaborn-paper',\n",
              " 'seaborn-pastel',\n",
              " 'seaborn-poster',\n",
              " 'seaborn-talk',\n",
              " 'seaborn-ticks',\n",
              " 'seaborn-white',\n",
              " 'seaborn-whitegrid',\n",
              " 'tableau-colorblind10']"
            ]
          },
          "metadata": {},
          "execution_count": 30
        }
      ]
    },
    {
      "cell_type": "code",
      "metadata": {
        "colab": {
          "base_uri": "https://localhost:8080/",
          "height": 357
        },
        "id": "iUAvX6E_gMkU",
        "outputId": "ef30edd7-6bcd-4e4d-81fd-135cbccdc89b"
      },
      "source": [
        "iot_data.plot(x='date', y='temperature', figsize=(10,5), title='temperature')\n",
        "plt.xticks(rotation=60)\n",
        "plt.style.use('seaborn-pastel') # 'seaborn-pastel', 'fivethirtyeight'\n",
        "plt.show()"
      ],
      "execution_count": 31,
      "outputs": [
        {
          "output_type": "display_data",
          "data": {
            "text/plain": [
              "<Figure size 720x360 with 1 Axes>"
            ],
            "image/png": "[encoded data removed]"
          },
          "metadata": {
            "needs_background": "light"
          }
        }
      ]
    },
    {
      "cell_type": "code",
      "metadata": {
        "colab": {
          "base_uri": "https://localhost:8080/",
          "height": 357
        },
        "id": "yEIaJZVVgT8u",
        "outputId": "e5691df9-9bfe-4066-9c5d-f8a77211759f"
      },
      "source": [
        "iot_data.plot(x='date', y='temperature', figsize=(10,5), title='temperature')\n",
        "plt.xticks(rotation=60)\n",
        "plt.style.use('ggplot')\n",
        "plt.show()"
      ],
      "execution_count": 32,
      "outputs": [
        {
          "output_type": "display_data",
          "data": {
            "text/plain": [
              "<Figure size 720x360 with 1 Axes>"
            ],
            "image/png": "[encoded data removed]"
          },
          "metadata": {
            "needs_background": "light"
          }
        }
      ]
    },
    {
      "cell_type": "code",
      "metadata": {
        "id": "b3s_-fushN1y"
      },
      "source": [
        "# restore default style\n",
        "plt.style.use('default')"
      ],
      "execution_count": 33,
      "outputs": []
    },
    {
      "cell_type": "code",
      "metadata": {
        "colab": {
          "base_uri": "https://localhost:8080/",
          "height": 489
        },
        "id": "SAy74_iEwlzQ",
        "outputId": "1461a394-1428-4c9a-ee12-204acd7a84a0"
      },
      "source": [
        "iot_data.plot(x='date', y='humidity', figsize=(10,5), title='humidity')\n",
        "plt.xticks(rotation=60)\n",
        "plt.show()"
      ],
      "execution_count": 34,
      "outputs": [
        {
          "output_type": "display_data",
          "data": {
            "text/plain": [
              "<Figure size 1000x500 with 1 Axes>"
            ],
            "image/png": "[encoded data removed]"
          },
          "metadata": {}
        }
      ]
    },
    {
      "cell_type": "code",
      "metadata": {
        "colab": {
          "base_uri": "https://localhost:8080/",
          "height": 489
        },
        "id": "d7kyWhVDwlzW",
        "outputId": "bd2d9da0-c409-4dba-de3a-bd5427ad391d"
      },
      "source": [
        "iot_data.plot(x='date', y='luminosity', figsize=(10,5), title='luminosity')\n",
        "plt.xticks(rotation=60)\n",
        "plt.show()"
      ],
      "execution_count": 35,
      "outputs": [
        {
          "output_type": "display_data",
          "data": {
            "text/plain": [
              "<Figure size 1000x500 with 1 Axes>"
            ],
            "image/png": "[encoded data removed]"
          },
          "metadata": {}
        }
      ]
    },
    {
      "cell_type": "code",
      "metadata": {
        "colab": {
          "base_uri": "https://localhost:8080/",
          "height": 489
        },
        "id": "MbaBO6uRKCjj",
        "outputId": "1b636861-75e9-45c6-fd09-cb9f9ddf12c0"
      },
      "source": [
        "iot_data.plot(x='date', y='pressure', figsize=(10,5), title='pressure')\n",
        "plt.xticks(rotation=90)\n",
        "plt.show()"
      ],
      "execution_count": 36,
      "outputs": [
        {
          "output_type": "display_data",
          "data": {
            "text/plain": [
              "<Figure size 1000x500 with 1 Axes>"
            ],
            "image/png": "[encoded data removed]"
          },
          "metadata": {}
        }
      ]
    },
    {
      "cell_type": "markdown",
      "metadata": {
        "id": "4W2OVUXZ0eKc"
      },
      "source": [
        "#### 다중그래프 (multiple graphs)"
      ]
    },
    {
      "cell_type": "code",
      "metadata": {
        "id": "7XiF7ghFwlzc"
      },
      "source": [
        "# Plot of ['temperature','humidity']\n",
        "iot_data.plot(x='date', y=['temperature','humidity'], figsize=(10,5), title='temperature and humidity')"
      ],
      "execution_count": null,
      "outputs": []
    },
    {
      "cell_type": "code",
      "metadata": {
        "id": "LuuSGIiwJD4x"
      },
      "source": [
        "# Plot of ['humidity', 'pressure']\n",
        "iot_data.plot(x='date', y=['humidity','pressure'], figsize=(10,5), title='humidity and pressure')\n",
        "# ax = iot_data.plot(x='date', y=['humidity'], figsize=(10,5), title='humidity and pressure')\n",
        "# iot_data.plot(x='date', y=['pressure'], figsize=(10,5), secondary_y=True, ax=ax)\n"
      ],
      "execution_count": null,
      "outputs": []
    },
    {
      "cell_type": "code",
      "metadata": {
        "id": "3tH-ca5Jwlzi"
      },
      "source": [
        "# Plot of ['temperature','humidity','luminosity','pressure']\n",
        "iot_data.plot(x='date', y=['temperature','humidity','luminosity','pressure'], figsize=(10,6), \n",
        "             title='temperature, humidity, luminosity and pressure')\n",
        "plt.xticks(rotation=60)\n",
        "plt.show()"
      ],
      "execution_count": null,
      "outputs": []
    },
    {
      "cell_type": "code",
      "metadata": {
        "id": "yySs3JEuJD4x"
      },
      "source": [
        "# Plot of ['temperature','humidity','luminosity','pressure']\n",
        "ax = iot_data.plot(x='date', y=['temperature','humidity','luminosity'], figsize=(10,6), \n",
        "             title='temperature, humidity, luminosity and pressure')\n",
        "iot_data.plot(x='date', y=['pressure'], figsize=(10,5), secondary_y=True, ax=ax)\n",
        "plt.xticks(rotation=60)\n",
        "plt.show()"
      ],
      "execution_count": null,
      "outputs": []
    },
    {
      "cell_type": "markdown",
      "metadata": {
        "id": "6yaOaE05xthv"
      },
      "source": [
        "#### Plot the mean of sensor data"
      ]
    },
    {
      "cell_type": "code",
      "metadata": {
        "id": "455qOpbbwlzp"
      },
      "source": [
        "iot_data[['temperature','humidity','luminosity']].mean()  "
      ],
      "execution_count": null,
      "outputs": []
    },
    {
      "cell_type": "code",
      "metadata": {
        "colab": {
          "base_uri": "https://localhost:8080/",
          "height": 209
        },
        "id": "26ZUc5ULwlzw",
        "outputId": "95583eef-d7cf-4932-ca3c-5112202daa82"
      },
      "source": [
        "iot_data[['temperature','humidity','luminosity']].mean().plot.bar(figsize=(8,5), \n",
        "                                                                  title=\"Mean of temperature, humidity, and luminosity\")"
      ],
      "execution_count": 7,
      "outputs": [
        {
          "output_type": "error",
          "ename": "NameError",
          "evalue": "ignored",
          "traceback": [
            "\u001b[0;31m---------------------------------------------------------------------------\u001b[0m",
            "\u001b[0;31mNameError\u001b[0m                                 Traceback (most recent call last)",
            "\u001b[0;32m<ipython-input-7-6f65994b43d3>\u001b[0m in \u001b[0;36m<module>\u001b[0;34m\u001b[0m\n\u001b[0;32m----> 1\u001b[0;31m iot_data[['temperature','humidity','luminosity']].mean().plot.bar(figsize=(8,5), \n\u001b[0m\u001b[1;32m      2\u001b[0m                                                                   title=\"Mean of temperature, humidity, and luminosity\")\n",
            "\u001b[0;31mNameError\u001b[0m: name 'iot_data' is not defined"
          ]
        }
      ]
    },
    {
      "cell_type": "code",
      "metadata": {
        "id": "0aQZ0HN_ihK4"
      },
      "source": [
        "plt.style.use('seaborn-pastel')   # fivethirtyeight, ggplot\n",
        "iot_data[['temperature','humidity','luminosity']].mean().plot.bar(figsize=(6,3), \n",
        "                                                                  title=\"Mean of temperature, humidity, and luminosity\")"
      ],
      "execution_count": null,
      "outputs": []
    },
    {
      "cell_type": "markdown",
      "metadata": {
        "id": "DwAOwL1kdEUn"
      },
      "source": [
        "# Advanced graphics using pandas"
      ]
    },
    {
      "cell_type": "markdown",
      "metadata": {
        "id": "LxgcWZ2wx6TQ"
      },
      "source": [
        "### Plot the change of sensor data over various time spans.\n",
        "\n",
        "> time span: 60 sec, 1 hour, 1 day, 1 week"
      ]
    },
    {
      "cell_type": "code",
      "metadata": {
        "id": "xopxI05ggHJb",
        "colab": {
          "base_uri": "https://localhost:8080/",
          "height": 205
        },
        "outputId": "37e2ca4e-719a-4135-be3b-82530de42fa6"
      },
      "source": [
        "iot_data.head()"
      ],
      "execution_count": null,
      "outputs": [
        {
          "output_type": "execute_result",
          "data": {
            "text/html": [
              "<div>\n",
              "<style scoped>\n",
              "    .dataframe tbody tr th:only-of-type {\n",
              "        vertical-align: middle;\n",
              "    }\n",
              "\n",
              "    .dataframe tbody tr th {\n",
              "        vertical-align: top;\n",
              "    }\n",
              "\n",
              "    .dataframe thead th {\n",
              "        text-align: right;\n",
              "    }\n",
              "</style>\n",
              "<table border=\"1\" class=\"dataframe\">\n",
              "  <thead>\n",
              "    <tr style=\"text-align: right;\">\n",
              "      <th></th>\n",
              "      <th>date</th>\n",
              "      <th>temperature</th>\n",
              "      <th>humidity</th>\n",
              "      <th>luminosity</th>\n",
              "      <th>pressure</th>\n",
              "      <th>r_ratio</th>\n",
              "      <th>g_ratio</th>\n",
              "      <th>b_ratio</th>\n",
              "    </tr>\n",
              "  </thead>\n",
              "  <tbody>\n",
              "    <tr>\n",
              "      <th>0</th>\n",
              "      <td>2021-11-19 15:55:08.449</td>\n",
              "      <td>24.3</td>\n",
              "      <td>39.4</td>\n",
              "      <td>98</td>\n",
              "      <td>1010.8</td>\n",
              "      <td>32.5</td>\n",
              "      <td>33.7</td>\n",
              "      <td>33.7</td>\n",
              "    </tr>\n",
              "    <tr>\n",
              "      <th>1</th>\n",
              "      <td>2021-11-19 15:55:13.491</td>\n",
              "      <td>24.4</td>\n",
              "      <td>39.3</td>\n",
              "      <td>98</td>\n",
              "      <td>1010.8</td>\n",
              "      <td>32.5</td>\n",
              "      <td>33.7</td>\n",
              "      <td>33.7</td>\n",
              "    </tr>\n",
              "    <tr>\n",
              "      <th>2</th>\n",
              "      <td>2021-11-19 15:55:18.533</td>\n",
              "      <td>24.4</td>\n",
              "      <td>39.3</td>\n",
              "      <td>98</td>\n",
              "      <td>1010.8</td>\n",
              "      <td>32.5</td>\n",
              "      <td>33.7</td>\n",
              "      <td>33.7</td>\n",
              "    </tr>\n",
              "    <tr>\n",
              "      <th>3</th>\n",
              "      <td>2021-11-19 15:55:23.575</td>\n",
              "      <td>24.4</td>\n",
              "      <td>39.3</td>\n",
              "      <td>98</td>\n",
              "      <td>1010.8</td>\n",
              "      <td>32.5</td>\n",
              "      <td>33.7</td>\n",
              "      <td>33.7</td>\n",
              "    </tr>\n",
              "    <tr>\n",
              "      <th>4</th>\n",
              "      <td>2021-11-19 15:55:28.616</td>\n",
              "      <td>24.4</td>\n",
              "      <td>39.4</td>\n",
              "      <td>98</td>\n",
              "      <td>1010.8</td>\n",
              "      <td>32.5</td>\n",
              "      <td>33.7</td>\n",
              "      <td>33.7</td>\n",
              "    </tr>\n",
              "  </tbody>\n",
              "</table>\n",
              "</div>"
            ],
            "text/plain": [
              "                     date  temperature  humidity  ...  r_ratio  g_ratio  b_ratio\n",
              "0 2021-11-19 15:55:08.449         24.3      39.4  ...     32.5     33.7     33.7\n",
              "1 2021-11-19 15:55:13.491         24.4      39.3  ...     32.5     33.7     33.7\n",
              "2 2021-11-19 15:55:18.533         24.4      39.3  ...     32.5     33.7     33.7\n",
              "3 2021-11-19 15:55:23.575         24.4      39.3  ...     32.5     33.7     33.7\n",
              "4 2021-11-19 15:55:28.616         24.4      39.4  ...     32.5     33.7     33.7\n",
              "\n",
              "[5 rows x 8 columns]"
            ]
          },
          "metadata": {},
          "execution_count": 42
        }
      ]
    },
    {
      "cell_type": "markdown",
      "metadata": {
        "id": "ndt4b_ZTwlz1"
      },
      "source": [
        "#### Set date as index of timestamp"
      ]
    },
    {
      "cell_type": "code",
      "metadata": {
        "id": "V6MpkrDhwlz2"
      },
      "source": [
        "iot_data.set_index('date',inplace=True)"
      ],
      "execution_count": null,
      "outputs": []
    },
    {
      "cell_type": "code",
      "metadata": {
        "colab": {
          "base_uri": "https://localhost:8080/",
          "height": 237
        },
        "id": "w9ztE8jDUAta",
        "outputId": "7781c5a6-8713-4d65-f9d0-bd7347ae33c0"
      },
      "source": [
        "iot_data.head()"
      ],
      "execution_count": null,
      "outputs": [
        {
          "output_type": "execute_result",
          "data": {
            "text/plain": [
              "                         temperature  humidity  luminosity  pressure  r_ratio  \\\n",
              "date                                                                            \n",
              "2022-11-15 09:27:25.144         27.9      26.5         376    1008.4     37.6   \n",
              "2022-11-15 09:27:30.188         27.9      26.6         374    1008.6     37.7   \n",
              "2022-11-15 09:27:35.232         28.0      26.6         373    1008.5     37.7   \n",
              "2022-11-15 09:27:40.277         27.9      26.6         374    1008.5     37.6   \n",
              "2022-11-15 09:27:45.322         27.9      26.6         373    1008.4     37.7   \n",
              "\n",
              "                         g_ratio  b_ratio  \n",
              "date                                       \n",
              "2022-11-15 09:27:25.144     33.3     29.1  \n",
              "2022-11-15 09:27:30.188     33.3     29.1  \n",
              "2022-11-15 09:27:35.232     33.3     29.1  \n",
              "2022-11-15 09:27:40.277     33.2     29.2  \n",
              "2022-11-15 09:27:45.322     33.3     29.1  "
            ],
            "text/html": [
              "\n",
              "  <div id=\"df-5f2e6c73-3aac-4ca5-97f9-f50ea3bee135\">\n",
              "    <div class=\"colab-df-container\">\n",
              "      <div>\n",
              "<style scoped>\n",
              "    .dataframe tbody tr th:only-of-type {\n",
              "        vertical-align: middle;\n",
              "    }\n",
              "\n",
              "    .dataframe tbody tr th {\n",
              "        vertical-align: top;\n",
              "    }\n",
              "\n",
              "    .dataframe thead th {\n",
              "        text-align: right;\n",
              "    }\n",
              "</style>\n",
              "<table border=\"1\" class=\"dataframe\">\n",
              "  <thead>\n",
              "    <tr style=\"text-align: right;\">\n",
              "      <th></th>\n",
              "      <th>temperature</th>\n",
              "      <th>humidity</th>\n",
              "      <th>luminosity</th>\n",
              "      <th>pressure</th>\n",
              "      <th>r_ratio</th>\n",
              "      <th>g_ratio</th>\n",
              "      <th>b_ratio</th>\n",
              "    </tr>\n",
              "    <tr>\n",
              "      <th>date</th>\n",
              "      <th></th>\n",
              "      <th></th>\n",
              "      <th></th>\n",
              "      <th></th>\n",
              "      <th></th>\n",
              "      <th></th>\n",
              "      <th></th>\n",
              "    </tr>\n",
              "  </thead>\n",
              "  <tbody>\n",
              "    <tr>\n",
              "      <th>2022-11-15 09:27:25.144</th>\n",
              "      <td>27.9</td>\n",
              "      <td>26.5</td>\n",
              "      <td>376</td>\n",
              "      <td>1008.4</td>\n",
              "      <td>37.6</td>\n",
              "      <td>33.3</td>\n",
              "      <td>29.1</td>\n",
              "    </tr>\n",
              "    <tr>\n",
              "      <th>2022-11-15 09:27:30.188</th>\n",
              "      <td>27.9</td>\n",
              "      <td>26.6</td>\n",
              "      <td>374</td>\n",
              "      <td>1008.6</td>\n",
              "      <td>37.7</td>\n",
              "      <td>33.3</td>\n",
              "      <td>29.1</td>\n",
              "    </tr>\n",
              "    <tr>\n",
              "      <th>2022-11-15 09:27:35.232</th>\n",
              "      <td>28.0</td>\n",
              "      <td>26.6</td>\n",
              "      <td>373</td>\n",
              "      <td>1008.5</td>\n",
              "      <td>37.7</td>\n",
              "      <td>33.3</td>\n",
              "      <td>29.1</td>\n",
              "    </tr>\n",
              "    <tr>\n",
              "      <th>2022-11-15 09:27:40.277</th>\n",
              "      <td>27.9</td>\n",
              "      <td>26.6</td>\n",
              "      <td>374</td>\n",
              "      <td>1008.5</td>\n",
              "      <td>37.6</td>\n",
              "      <td>33.2</td>\n",
              "      <td>29.2</td>\n",
              "    </tr>\n",
              "    <tr>\n",
              "      <th>2022-11-15 09:27:45.322</th>\n",
              "      <td>27.9</td>\n",
              "      <td>26.6</td>\n",
              "      <td>373</td>\n",
              "      <td>1008.4</td>\n",
              "      <td>37.7</td>\n",
              "      <td>33.3</td>\n",
              "      <td>29.1</td>\n",
              "    </tr>\n",
              "  </tbody>\n",
              "</table>\n",
              "</div>\n",
              "      <button class=\"colab-df-convert\" onclick=\"convertToInteractive('df-5f2e6c73-3aac-4ca5-97f9-f50ea3bee135')\"\n",
              "              title=\"Convert this dataframe to an interactive table.\"\n",
              "              style=\"display:none;\">\n",
              "        \n",
              "  <svg xmlns=\"http://www.w3.org/2000/svg\" height=\"24px\"viewBox=\"0 0 24 24\"\n",
              "       width=\"24px\">\n",
              "    <path d=\"M0 0h24v24H0V0z\" fill=\"none\"/>\n",
              "    <path d=\"M18.56 5.44l.94 2.06.94-2.06 2.06-.94-2.06-.94-.94-2.06-.94 2.06-2.06.94zm-11 1L8.5 8.5l.94-2.06 2.06-.94-2.06-.94L8.5 2.5l-.94 2.06-2.06.94zm10 10l.94 2.06.94-2.06 2.06-.94-2.06-.94-.94-2.06-.94 2.06-2.06.94z\"/><path d=\"M17.41 7.96l-1.37-1.37c-.4-.4-.92-.59-1.43-.59-.52 0-1.04.2-1.43.59L10.3 9.45l-7.72 7.72c-.78.78-.78 2.05 0 2.83L4 21.41c.39.39.9.59 1.41.59.51 0 1.02-.2 1.41-.59l7.78-7.78 2.81-2.81c.8-.78.8-2.07 0-2.86zM5.41 20L4 18.59l7.72-7.72 1.47 1.35L5.41 20z\"/>\n",
              "  </svg>\n",
              "      </button>\n",
              "      \n",
              "  <style>\n",
              "    .colab-df-container {\n",
              "      display:flex;\n",
              "      flex-wrap:wrap;\n",
              "      gap: 12px;\n",
              "    }\n",
              "\n",
              "    .colab-df-convert {\n",
              "      background-color: #E8F0FE;\n",
              "      border: none;\n",
              "      border-radius: 50%;\n",
              "      cursor: pointer;\n",
              "      display: none;\n",
              "      fill: #1967D2;\n",
              "      height: 32px;\n",
              "      padding: 0 0 0 0;\n",
              "      width: 32px;\n",
              "    }\n",
              "\n",
              "    .colab-df-convert:hover {\n",
              "      background-color: #E2EBFA;\n",
              "      box-shadow: 0px 1px 2px rgba(60, 64, 67, 0.3), 0px 1px 3px 1px rgba(60, 64, 67, 0.15);\n",
              "      fill: #174EA6;\n",
              "    }\n",
              "\n",
              "    [theme=dark] .colab-df-convert {\n",
              "      background-color: #3B4455;\n",
              "      fill: #D2E3FC;\n",
              "    }\n",
              "\n",
              "    [theme=dark] .colab-df-convert:hover {\n",
              "      background-color: #434B5C;\n",
              "      box-shadow: 0px 1px 3px 1px rgba(0, 0, 0, 0.15);\n",
              "      filter: drop-shadow(0px 1px 2px rgba(0, 0, 0, 0.3));\n",
              "      fill: #FFFFFF;\n",
              "    }\n",
              "  </style>\n",
              "\n",
              "      <script>\n",
              "        const buttonEl =\n",
              "          document.querySelector('#df-5f2e6c73-3aac-4ca5-97f9-f50ea3bee135 button.colab-df-convert');\n",
              "        buttonEl.style.display =\n",
              "          google.colab.kernel.accessAllowed ? 'block' : 'none';\n",
              "\n",
              "        async function convertToInteractive(key) {\n",
              "          const element = document.querySelector('#df-5f2e6c73-3aac-4ca5-97f9-f50ea3bee135');\n",
              "          const dataTable =\n",
              "            await google.colab.kernel.invokeFunction('convertToInteractive',\n",
              "                                                     [key], {});\n",
              "          if (!dataTable) return;\n",
              "\n",
              "          const docLinkHtml = 'Like what you see? Visit the ' +\n",
              "            '<a target=\"_blank\" href=https://colab.research.google.com/notebooks/data_table.ipynb>data table notebook</a>'\n",
              "            + ' to learn more about interactive tables.';\n",
              "          element.innerHTML = '';\n",
              "          dataTable['output_type'] = 'display_data';\n",
              "          await google.colab.output.renderOutput(dataTable, element);\n",
              "          const docLink = document.createElement('div');\n",
              "          docLink.innerHTML = docLinkHtml;\n",
              "          element.appendChild(docLink);\n",
              "        }\n",
              "      </script>\n",
              "    </div>\n",
              "  </div>\n",
              "  "
            ]
          },
          "metadata": {},
          "execution_count": 50
        }
      ]
    },
    {
      "cell_type": "code",
      "metadata": {
        "colab": {
          "base_uri": "https://localhost:8080/"
        },
        "id": "HR2XersJUIH2",
        "outputId": "d9e062b8-2108-47bc-dd28-5dd7db71d225"
      },
      "source": [
        "iot_data.info()"
      ],
      "execution_count": null,
      "outputs": [
        {
          "output_type": "stream",
          "name": "stdout",
          "text": [
            "<class 'pandas.core.frame.DataFrame'>\n",
            "DatetimeIndex: 24423 entries, 2022-11-15 09:27:25.144000 to 2022-11-16 19:40:35.606000\n",
            "Data columns (total 7 columns):\n",
            " #   Column       Non-Null Count  Dtype  \n",
            "---  ------       --------------  -----  \n",
            " 0   temperature  24423 non-null  float64\n",
            " 1   humidity     24423 non-null  float64\n",
            " 2   luminosity   24423 non-null  int64  \n",
            " 3   pressure     24423 non-null  float64\n",
            " 4   r_ratio      24423 non-null  float64\n",
            " 5   g_ratio      24423 non-null  float64\n",
            " 6   b_ratio      24423 non-null  float64\n",
            "dtypes: float64(6), int64(1)\n",
            "memory usage: 1.5 MB\n"
          ]
        }
      ]
    },
    {
      "cell_type": "code",
      "metadata": {
        "id": "g1MtmghfiQk7"
      },
      "source": [
        "# Convert date index to Datetime index, 중요!!!\n",
        "iot_data.index = pd.to_datetime(iot_data.index)"
      ],
      "execution_count": null,
      "outputs": []
    },
    {
      "cell_type": "code",
      "metadata": {
        "colab": {
          "base_uri": "https://localhost:8080/"
        },
        "id": "gY7QvLKbwlz5",
        "outputId": "3d76b47c-ca37-498f-9be4-154d3b4ca8fc"
      },
      "source": [
        "iot_data.info() # Range index -> timestamp(Datetime) index "
      ],
      "execution_count": null,
      "outputs": [
        {
          "output_type": "stream",
          "name": "stdout",
          "text": [
            "<class 'pandas.core.frame.DataFrame'>\n",
            "DatetimeIndex: 24423 entries, 2022-11-15 09:27:25.144000 to 2022-11-16 19:40:35.606000\n",
            "Data columns (total 7 columns):\n",
            " #   Column       Non-Null Count  Dtype  \n",
            "---  ------       --------------  -----  \n",
            " 0   temperature  24423 non-null  float64\n",
            " 1   humidity     24423 non-null  float64\n",
            " 2   luminosity   24423 non-null  int64  \n",
            " 3   pressure     24423 non-null  float64\n",
            " 4   r_ratio      24423 non-null  float64\n",
            " 5   g_ratio      24423 non-null  float64\n",
            " 6   b_ratio      24423 non-null  float64\n",
            "dtypes: float64(6), int64(1)\n",
            "memory usage: 1.5 MB\n"
          ]
        }
      ]
    },
    {
      "cell_type": "code",
      "metadata": {
        "colab": {
          "base_uri": "https://localhost:8080/",
          "height": 237
        },
        "id": "5fjfDVvhwlz-",
        "outputId": "a79ebb2f-ff47-46ed-be4e-4e21a5e027f9"
      },
      "source": [
        "iot_data.head()"
      ],
      "execution_count": null,
      "outputs": [
        {
          "output_type": "execute_result",
          "data": {
            "text/plain": [
              "                         temperature  humidity  luminosity  pressure  r_ratio  \\\n",
              "date                                                                            \n",
              "2022-11-15 09:27:25.144         27.9      26.5         376    1008.4     37.6   \n",
              "2022-11-15 09:27:30.188         27.9      26.6         374    1008.6     37.7   \n",
              "2022-11-15 09:27:35.232         28.0      26.6         373    1008.5     37.7   \n",
              "2022-11-15 09:27:40.277         27.9      26.6         374    1008.5     37.6   \n",
              "2022-11-15 09:27:45.322         27.9      26.6         373    1008.4     37.7   \n",
              "\n",
              "                         g_ratio  b_ratio  \n",
              "date                                       \n",
              "2022-11-15 09:27:25.144     33.3     29.1  \n",
              "2022-11-15 09:27:30.188     33.3     29.1  \n",
              "2022-11-15 09:27:35.232     33.3     29.1  \n",
              "2022-11-15 09:27:40.277     33.2     29.2  \n",
              "2022-11-15 09:27:45.322     33.3     29.1  "
            ],
            "text/html": [
              "\n",
              "  <div id=\"df-25c9b927-d472-4c2a-aad6-2bdf9299034d\">\n",
              "    <div class=\"colab-df-container\">\n",
              "      <div>\n",
              "<style scoped>\n",
              "    .dataframe tbody tr th:only-of-type {\n",
              "        vertical-align: middle;\n",
              "    }\n",
              "\n",
              "    .dataframe tbody tr th {\n",
              "        vertical-align: top;\n",
              "    }\n",
              "\n",
              "    .dataframe thead th {\n",
              "        text-align: right;\n",
              "    }\n",
              "</style>\n",
              "<table border=\"1\" class=\"dataframe\">\n",
              "  <thead>\n",
              "    <tr style=\"text-align: right;\">\n",
              "      <th></th>\n",
              "      <th>temperature</th>\n",
              "      <th>humidity</th>\n",
              "      <th>luminosity</th>\n",
              "      <th>pressure</th>\n",
              "      <th>r_ratio</th>\n",
              "      <th>g_ratio</th>\n",
              "      <th>b_ratio</th>\n",
              "    </tr>\n",
              "    <tr>\n",
              "      <th>date</th>\n",
              "      <th></th>\n",
              "      <th></th>\n",
              "      <th></th>\n",
              "      <th></th>\n",
              "      <th></th>\n",
              "      <th></th>\n",
              "      <th></th>\n",
              "    </tr>\n",
              "  </thead>\n",
              "  <tbody>\n",
              "    <tr>\n",
              "      <th>2022-11-15 09:27:25.144</th>\n",
              "      <td>27.9</td>\n",
              "      <td>26.5</td>\n",
              "      <td>376</td>\n",
              "      <td>1008.4</td>\n",
              "      <td>37.6</td>\n",
              "      <td>33.3</td>\n",
              "      <td>29.1</td>\n",
              "    </tr>\n",
              "    <tr>\n",
              "      <th>2022-11-15 09:27:30.188</th>\n",
              "      <td>27.9</td>\n",
              "      <td>26.6</td>\n",
              "      <td>374</td>\n",
              "      <td>1008.6</td>\n",
              "      <td>37.7</td>\n",
              "      <td>33.3</td>\n",
              "      <td>29.1</td>\n",
              "    </tr>\n",
              "    <tr>\n",
              "      <th>2022-11-15 09:27:35.232</th>\n",
              "      <td>28.0</td>\n",
              "      <td>26.6</td>\n",
              "      <td>373</td>\n",
              "      <td>1008.5</td>\n",
              "      <td>37.7</td>\n",
              "      <td>33.3</td>\n",
              "      <td>29.1</td>\n",
              "    </tr>\n",
              "    <tr>\n",
              "      <th>2022-11-15 09:27:40.277</th>\n",
              "      <td>27.9</td>\n",
              "      <td>26.6</td>\n",
              "      <td>374</td>\n",
              "      <td>1008.5</td>\n",
              "      <td>37.6</td>\n",
              "      <td>33.2</td>\n",
              "      <td>29.2</td>\n",
              "    </tr>\n",
              "    <tr>\n",
              "      <th>2022-11-15 09:27:45.322</th>\n",
              "      <td>27.9</td>\n",
              "      <td>26.6</td>\n",
              "      <td>373</td>\n",
              "      <td>1008.4</td>\n",
              "      <td>37.7</td>\n",
              "      <td>33.3</td>\n",
              "      <td>29.1</td>\n",
              "    </tr>\n",
              "  </tbody>\n",
              "</table>\n",
              "</div>\n",
              "      <button class=\"colab-df-convert\" onclick=\"convertToInteractive('df-25c9b927-d472-4c2a-aad6-2bdf9299034d')\"\n",
              "              title=\"Convert this dataframe to an interactive table.\"\n",
              "              style=\"display:none;\">\n",
              "        \n",
              "  <svg xmlns=\"http://www.w3.org/2000/svg\" height=\"24px\"viewBox=\"0 0 24 24\"\n",
              "       width=\"24px\">\n",
              "    <path d=\"M0 0h24v24H0V0z\" fill=\"none\"/>\n",
              "    <path d=\"M18.56 5.44l.94 2.06.94-2.06 2.06-.94-2.06-.94-.94-2.06-.94 2.06-2.06.94zm-11 1L8.5 8.5l.94-2.06 2.06-.94-2.06-.94L8.5 2.5l-.94 2.06-2.06.94zm10 10l.94 2.06.94-2.06 2.06-.94-2.06-.94-.94-2.06-.94 2.06-2.06.94z\"/><path d=\"M17.41 7.96l-1.37-1.37c-.4-.4-.92-.59-1.43-.59-.52 0-1.04.2-1.43.59L10.3 9.45l-7.72 7.72c-.78.78-.78 2.05 0 2.83L4 21.41c.39.39.9.59 1.41.59.51 0 1.02-.2 1.41-.59l7.78-7.78 2.81-2.81c.8-.78.8-2.07 0-2.86zM5.41 20L4 18.59l7.72-7.72 1.47 1.35L5.41 20z\"/>\n",
              "  </svg>\n",
              "      </button>\n",
              "      \n",
              "  <style>\n",
              "    .colab-df-container {\n",
              "      display:flex;\n",
              "      flex-wrap:wrap;\n",
              "      gap: 12px;\n",
              "    }\n",
              "\n",
              "    .colab-df-convert {\n",
              "      background-color: #E8F0FE;\n",
              "      border: none;\n",
              "      border-radius: 50%;\n",
              "      cursor: pointer;\n",
              "      display: none;\n",
              "      fill: #1967D2;\n",
              "      height: 32px;\n",
              "      padding: 0 0 0 0;\n",
              "      width: 32px;\n",
              "    }\n",
              "\n",
              "    .colab-df-convert:hover {\n",
              "      background-color: #E2EBFA;\n",
              "      box-shadow: 0px 1px 2px rgba(60, 64, 67, 0.3), 0px 1px 3px 1px rgba(60, 64, 67, 0.15);\n",
              "      fill: #174EA6;\n",
              "    }\n",
              "\n",
              "    [theme=dark] .colab-df-convert {\n",
              "      background-color: #3B4455;\n",
              "      fill: #D2E3FC;\n",
              "    }\n",
              "\n",
              "    [theme=dark] .colab-df-convert:hover {\n",
              "      background-color: #434B5C;\n",
              "      box-shadow: 0px 1px 3px 1px rgba(0, 0, 0, 0.15);\n",
              "      filter: drop-shadow(0px 1px 2px rgba(0, 0, 0, 0.3));\n",
              "      fill: #FFFFFF;\n",
              "    }\n",
              "  </style>\n",
              "\n",
              "      <script>\n",
              "        const buttonEl =\n",
              "          document.querySelector('#df-25c9b927-d472-4c2a-aad6-2bdf9299034d button.colab-df-convert');\n",
              "        buttonEl.style.display =\n",
              "          google.colab.kernel.accessAllowed ? 'block' : 'none';\n",
              "\n",
              "        async function convertToInteractive(key) {\n",
              "          const element = document.querySelector('#df-25c9b927-d472-4c2a-aad6-2bdf9299034d');\n",
              "          const dataTable =\n",
              "            await google.colab.kernel.invokeFunction('convertToInteractive',\n",
              "                                                     [key], {});\n",
              "          if (!dataTable) return;\n",
              "\n",
              "          const docLinkHtml = 'Like what you see? Visit the ' +\n",
              "            '<a target=\"_blank\" href=https://colab.research.google.com/notebooks/data_table.ipynb>data table notebook</a>'\n",
              "            + ' to learn more about interactive tables.';\n",
              "          element.innerHTML = '';\n",
              "          dataTable['output_type'] = 'display_data';\n",
              "          await google.colab.output.renderOutput(dataTable, element);\n",
              "          const docLink = document.createElement('div');\n",
              "          docLink.innerHTML = docLinkHtml;\n",
              "          element.appendChild(docLink);\n",
              "        }\n",
              "      </script>\n",
              "    </div>\n",
              "  </div>\n",
              "  "
            ]
          },
          "metadata": {},
          "execution_count": 55
        }
      ]
    },
    {
      "cell_type": "code",
      "metadata": {
        "colab": {
          "base_uri": "https://localhost:8080/",
          "height": 455
        },
        "id": "TDkJgBRJwl0D",
        "outputId": "c3daf6c7-4e25-47ed-b405-36384324ef02"
      },
      "source": [
        "# Estimate the mean of the iot data for every minute\n",
        "iot_data.resample('60S').mean()"
      ],
      "execution_count": null,
      "outputs": [
        {
          "output_type": "execute_result",
          "data": {
            "text/plain": [
              "                     temperature   humidity  luminosity     pressure  \\\n",
              "date                                                                   \n",
              "2022-11-15 09:27:00    27.928571  26.571429  373.428571  1008.471429   \n",
              "2022-11-15 09:28:00    27.975000  26.625000  376.333333  1008.391667   \n",
              "2022-11-15 09:29:00    28.000000  26.783333  378.666667  1008.408333   \n",
              "2022-11-15 09:30:00    28.025000  26.783333  380.333333  1008.425000   \n",
              "2022-11-15 09:31:00    28.050000  26.733333  380.833333  1008.375000   \n",
              "...                          ...        ...         ...          ...   \n",
              "2022-11-16 19:36:00    26.350000  30.616667    0.000000  1012.116667   \n",
              "2022-11-16 19:37:00    26.325000  30.616667    0.000000  1012.150000   \n",
              "2022-11-16 19:38:00    26.325000  30.641667    0.000000  1012.183333   \n",
              "2022-11-16 19:39:00    26.336364  30.609091    0.000000  1012.218182   \n",
              "2022-11-16 19:40:00    26.350000  30.625000    0.000000  1012.187500   \n",
              "\n",
              "                       r_ratio    g_ratio    b_ratio  \n",
              "date                                                  \n",
              "2022-11-15 09:27:00  37.642857  33.257143  29.142857  \n",
              "2022-11-15 09:28:00  37.625000  33.233333  29.166667  \n",
              "2022-11-15 09:29:00  37.600000  33.275000  29.133333  \n",
              "2022-11-15 09:30:00  37.633333  33.233333  29.175000  \n",
              "2022-11-15 09:31:00  37.600000  33.208333  29.216667  \n",
              "...                        ...        ...        ...  \n",
              "2022-11-16 19:36:00  33.300000  33.300000  33.300000  \n",
              "2022-11-16 19:37:00  33.300000  33.300000  33.300000  \n",
              "2022-11-16 19:38:00  33.300000  33.300000  33.300000  \n",
              "2022-11-16 19:39:00  33.300000  33.300000  33.300000  \n",
              "2022-11-16 19:40:00  33.300000  33.300000  33.300000  \n",
              "\n",
              "[2054 rows x 7 columns]"
            ],
            "text/html": [
              "\n",
              "  <div id=\"df-81e2ee2e-42a2-40c8-8dd6-56ac56bf65c6\">\n",
              "    <div class=\"colab-df-container\">\n",
              "      <div>\n",
              "<style scoped>\n",
              "    .dataframe tbody tr th:only-of-type {\n",
              "        vertical-align: middle;\n",
              "    }\n",
              "\n",
              "    .dataframe tbody tr th {\n",
              "        vertical-align: top;\n",
              "    }\n",
              "\n",
              "    .dataframe thead th {\n",
              "        text-align: right;\n",
              "    }\n",
              "</style>\n",
              "<table border=\"1\" class=\"dataframe\">\n",
              "  <thead>\n",
              "    <tr style=\"text-align: right;\">\n",
              "      <th></th>\n",
              "      <th>temperature</th>\n",
              "      <th>humidity</th>\n",
              "      <th>luminosity</th>\n",
              "      <th>pressure</th>\n",
              "      <th>r_ratio</th>\n",
              "      <th>g_ratio</th>\n",
              "      <th>b_ratio</th>\n",
              "    </tr>\n",
              "    <tr>\n",
              "      <th>date</th>\n",
              "      <th></th>\n",
              "      <th></th>\n",
              "      <th></th>\n",
              "      <th></th>\n",
              "      <th></th>\n",
              "      <th></th>\n",
              "      <th></th>\n",
              "    </tr>\n",
              "  </thead>\n",
              "  <tbody>\n",
              "    <tr>\n",
              "      <th>2022-11-15 09:27:00</th>\n",
              "      <td>27.928571</td>\n",
              "      <td>26.571429</td>\n",
              "      <td>373.428571</td>\n",
              "      <td>1008.471429</td>\n",
              "      <td>37.642857</td>\n",
              "      <td>33.257143</td>\n",
              "      <td>29.142857</td>\n",
              "    </tr>\n",
              "    <tr>\n",
              "      <th>2022-11-15 09:28:00</th>\n",
              "      <td>27.975000</td>\n",
              "      <td>26.625000</td>\n",
              "      <td>376.333333</td>\n",
              "      <td>1008.391667</td>\n",
              "      <td>37.625000</td>\n",
              "      <td>33.233333</td>\n",
              "      <td>29.166667</td>\n",
              "    </tr>\n",
              "    <tr>\n",
              "      <th>2022-11-15 09:29:00</th>\n",
              "      <td>28.000000</td>\n",
              "      <td>26.783333</td>\n",
              "      <td>378.666667</td>\n",
              "      <td>1008.408333</td>\n",
              "      <td>37.600000</td>\n",
              "      <td>33.275000</td>\n",
              "      <td>29.133333</td>\n",
              "    </tr>\n",
              "    <tr>\n",
              "      <th>2022-11-15 09:30:00</th>\n",
              "      <td>28.025000</td>\n",
              "      <td>26.783333</td>\n",
              "      <td>380.333333</td>\n",
              "      <td>1008.425000</td>\n",
              "      <td>37.633333</td>\n",
              "      <td>33.233333</td>\n",
              "      <td>29.175000</td>\n",
              "    </tr>\n",
              "    <tr>\n",
              "      <th>2022-11-15 09:31:00</th>\n",
              "      <td>28.050000</td>\n",
              "      <td>26.733333</td>\n",
              "      <td>380.833333</td>\n",
              "      <td>1008.375000</td>\n",
              "      <td>37.600000</td>\n",
              "      <td>33.208333</td>\n",
              "      <td>29.216667</td>\n",
              "    </tr>\n",
              "    <tr>\n",
              "      <th>...</th>\n",
              "      <td>...</td>\n",
              "      <td>...</td>\n",
              "      <td>...</td>\n",
              "      <td>...</td>\n",
              "      <td>...</td>\n",
              "      <td>...</td>\n",
              "      <td>...</td>\n",
              "    </tr>\n",
              "    <tr>\n",
              "      <th>2022-11-16 19:36:00</th>\n",
              "      <td>26.350000</td>\n",
              "      <td>30.616667</td>\n",
              "      <td>0.000000</td>\n",
              "      <td>1012.116667</td>\n",
              "      <td>33.300000</td>\n",
              "      <td>33.300000</td>\n",
              "      <td>33.300000</td>\n",
              "    </tr>\n",
              "    <tr>\n",
              "      <th>2022-11-16 19:37:00</th>\n",
              "      <td>26.325000</td>\n",
              "      <td>30.616667</td>\n",
              "      <td>0.000000</td>\n",
              "      <td>1012.150000</td>\n",
              "      <td>33.300000</td>\n",
              "      <td>33.300000</td>\n",
              "      <td>33.300000</td>\n",
              "    </tr>\n",
              "    <tr>\n",
              "      <th>2022-11-16 19:38:00</th>\n",
              "      <td>26.325000</td>\n",
              "      <td>30.641667</td>\n",
              "      <td>0.000000</td>\n",
              "      <td>1012.183333</td>\n",
              "      <td>33.300000</td>\n",
              "      <td>33.300000</td>\n",
              "      <td>33.300000</td>\n",
              "    </tr>\n",
              "    <tr>\n",
              "      <th>2022-11-16 19:39:00</th>\n",
              "      <td>26.336364</td>\n",
              "      <td>30.609091</td>\n",
              "      <td>0.000000</td>\n",
              "      <td>1012.218182</td>\n",
              "      <td>33.300000</td>\n",
              "      <td>33.300000</td>\n",
              "      <td>33.300000</td>\n",
              "    </tr>\n",
              "    <tr>\n",
              "      <th>2022-11-16 19:40:00</th>\n",
              "      <td>26.350000</td>\n",
              "      <td>30.625000</td>\n",
              "      <td>0.000000</td>\n",
              "      <td>1012.187500</td>\n",
              "      <td>33.300000</td>\n",
              "      <td>33.300000</td>\n",
              "      <td>33.300000</td>\n",
              "    </tr>\n",
              "  </tbody>\n",
              "</table>\n",
              "<p>2054 rows × 7 columns</p>\n",
              "</div>\n",
              "      <button class=\"colab-df-convert\" onclick=\"convertToInteractive('df-81e2ee2e-42a2-40c8-8dd6-56ac56bf65c6')\"\n",
              "              title=\"Convert this dataframe to an interactive table.\"\n",
              "              style=\"display:none;\">\n",
              "        \n",
              "  <svg xmlns=\"http://www.w3.org/2000/svg\" height=\"24px\"viewBox=\"0 0 24 24\"\n",
              "       width=\"24px\">\n",
              "    <path d=\"M0 0h24v24H0V0z\" fill=\"none\"/>\n",
              "    <path d=\"M18.56 5.44l.94 2.06.94-2.06 2.06-.94-2.06-.94-.94-2.06-.94 2.06-2.06.94zm-11 1L8.5 8.5l.94-2.06 2.06-.94-2.06-.94L8.5 2.5l-.94 2.06-2.06.94zm10 10l.94 2.06.94-2.06 2.06-.94-2.06-.94-.94-2.06-.94 2.06-2.06.94z\"/><path d=\"M17.41 7.96l-1.37-1.37c-.4-.4-.92-.59-1.43-.59-.52 0-1.04.2-1.43.59L10.3 9.45l-7.72 7.72c-.78.78-.78 2.05 0 2.83L4 21.41c.39.39.9.59 1.41.59.51 0 1.02-.2 1.41-.59l7.78-7.78 2.81-2.81c.8-.78.8-2.07 0-2.86zM5.41 20L4 18.59l7.72-7.72 1.47 1.35L5.41 20z\"/>\n",
              "  </svg>\n",
              "      </button>\n",
              "      \n",
              "  <style>\n",
              "    .colab-df-container {\n",
              "      display:flex;\n",
              "      flex-wrap:wrap;\n",
              "      gap: 12px;\n",
              "    }\n",
              "\n",
              "    .colab-df-convert {\n",
              "      background-color: #E8F0FE;\n",
              "      border: none;\n",
              "      border-radius: 50%;\n",
              "      cursor: pointer;\n",
              "      display: none;\n",
              "      fill: #1967D2;\n",
              "      height: 32px;\n",
              "      padding: 0 0 0 0;\n",
              "      width: 32px;\n",
              "    }\n",
              "\n",
              "    .colab-df-convert:hover {\n",
              "      background-color: #E2EBFA;\n",
              "      box-shadow: 0px 1px 2px rgba(60, 64, 67, 0.3), 0px 1px 3px 1px rgba(60, 64, 67, 0.15);\n",
              "      fill: #174EA6;\n",
              "    }\n",
              "\n",
              "    [theme=dark] .colab-df-convert {\n",
              "      background-color: #3B4455;\n",
              "      fill: #D2E3FC;\n",
              "    }\n",
              "\n",
              "    [theme=dark] .colab-df-convert:hover {\n",
              "      background-color: #434B5C;\n",
              "      box-shadow: 0px 1px 3px 1px rgba(0, 0, 0, 0.15);\n",
              "      filter: drop-shadow(0px 1px 2px rgba(0, 0, 0, 0.3));\n",
              "      fill: #FFFFFF;\n",
              "    }\n",
              "  </style>\n",
              "\n",
              "      <script>\n",
              "        const buttonEl =\n",
              "          document.querySelector('#df-81e2ee2e-42a2-40c8-8dd6-56ac56bf65c6 button.colab-df-convert');\n",
              "        buttonEl.style.display =\n",
              "          google.colab.kernel.accessAllowed ? 'block' : 'none';\n",
              "\n",
              "        async function convertToInteractive(key) {\n",
              "          const element = document.querySelector('#df-81e2ee2e-42a2-40c8-8dd6-56ac56bf65c6');\n",
              "          const dataTable =\n",
              "            await google.colab.kernel.invokeFunction('convertToInteractive',\n",
              "                                                     [key], {});\n",
              "          if (!dataTable) return;\n",
              "\n",
              "          const docLinkHtml = 'Like what you see? Visit the ' +\n",
              "            '<a target=\"_blank\" href=https://colab.research.google.com/notebooks/data_table.ipynb>data table notebook</a>'\n",
              "            + ' to learn more about interactive tables.';\n",
              "          element.innerHTML = '';\n",
              "          dataTable['output_type'] = 'display_data';\n",
              "          await google.colab.output.renderOutput(dataTable, element);\n",
              "          const docLink = document.createElement('div');\n",
              "          docLink.innerHTML = docLinkHtml;\n",
              "          element.appendChild(docLink);\n",
              "        }\n",
              "      </script>\n",
              "    </div>\n",
              "  </div>\n",
              "  "
            ]
          },
          "metadata": {},
          "execution_count": 56
        }
      ]
    },
    {
      "cell_type": "code",
      "metadata": {
        "colab": {
          "base_uri": "https://localhost:8080/",
          "height": 538
        },
        "id": "pTaucOzzwl0H",
        "outputId": "12f51b07-2485-4799-da27-33cab5a84432"
      },
      "source": [
        "#  Plot mean of the iot data per every minute\n",
        "iot_data.resample('60S').mean().plot(figsize=(8,5), \n",
        "                                     title='Minutely change of temperature, humidity, and luminosity, and all')\n",
        "plt.legend(bbox_to_anchor=(1.02, 1.0))"
      ],
      "execution_count": null,
      "outputs": [
        {
          "output_type": "execute_result",
          "data": {
            "text/plain": [
              "<matplotlib.legend.Legend at 0x7fdc1fd54390>"
            ]
          },
          "metadata": {},
          "execution_count": 57
        },
        {
          "output_type": "display_data",
          "data": {
            "text/plain": [
              "<Figure size 800x500 with 1 Axes>"
            ],
            "image/png": "[encoded data removed]"
          },
          "metadata": {}
        }
      ]
    },
    {
      "cell_type": "code",
      "metadata": {
        "colab": {
          "base_uri": "https://localhost:8080/",
          "height": 538
        },
        "id": "12Ydfv9ULNBl",
        "outputId": "e589f867-849b-4af1-9037-74e178c8b55a"
      },
      "source": [
        "#  Plot mean of the iot data per every minute\n",
        "iot_data[['r_ratio', 'g_ratio', 'b_ratio']].resample('60S').mean().plot(figsize=(10,5), \n",
        "                                     title='Minutely change of R, G, B',\n",
        "                                     color=\"rgb\")"
      ],
      "execution_count": null,
      "outputs": [
        {
          "output_type": "execute_result",
          "data": {
            "text/plain": [
              "<matplotlib.axes._subplots.AxesSubplot at 0x7fdc20fd9410>"
            ]
          },
          "metadata": {},
          "execution_count": 58
        },
        {
          "output_type": "display_data",
          "data": {
            "text/plain": [
              "<Figure size 1000x500 with 1 Axes>"
            ],
            "image/png": "[encoded data removed]"
          },
          "metadata": {}
        }
      ]
    },
    {
      "cell_type": "code",
      "metadata": {
        "colab": {
          "base_uri": "https://localhost:8080/",
          "height": 1000
        },
        "id": "cMHVdg3awl0M",
        "outputId": "869d701a-afaa-4e48-c023-522d66f77b3d"
      },
      "source": [
        "# Estimate the mean of iot data for every hour\n",
        "iot_data.resample('H').mean()  # mean per each hour"
      ],
      "execution_count": null,
      "outputs": [
        {
          "output_type": "execute_result",
          "data": {
            "text/plain": [
              "                     temperature   humidity  luminosity     pressure  \\\n",
              "date                                                                   \n",
              "2022-11-15 09:00:00    28.321392  27.251804  400.471649  1008.570876   \n",
              "2022-11-15 10:00:00    28.966527  26.852241  452.098039  1008.410644   \n",
              "2022-11-15 11:00:00    28.858485  26.569986  361.927069  1007.861010   \n",
              "2022-11-15 12:00:00    27.952241  26.429272   98.050420  1007.147899   \n",
              "2022-11-15 13:00:00    27.102941  27.126611   57.732493  1006.651541   \n",
              "2022-11-15 14:00:00    26.776157  26.500982   48.403927  1006.433520   \n",
              "2022-11-15 15:00:00    26.696218  26.353922   15.358543  1006.753221   \n",
              "2022-11-15 16:00:00    26.827630  27.615708   23.497896  1006.981066   \n",
              "2022-11-15 17:00:00    26.834594  28.546779    2.002801  1007.445798   \n",
              "2022-11-15 18:00:00    26.601961  29.222549    0.000000  1008.103922   \n",
              "2022-11-15 19:00:00    26.437815  29.638655    0.000000  1008.780952   \n",
              "2022-11-15 20:00:00    26.435063  29.885975    0.000000  1009.232258   \n",
              "2022-11-15 21:00:00    26.506303  29.956443    0.000000  1009.724370   \n",
              "2022-11-15 22:00:00    26.468627  30.051541    0.000000  1010.046919   \n",
              "2022-11-15 23:00:00    26.399440  30.152241    0.000000  1009.930952   \n",
              "2022-11-16 00:00:00    26.316129  30.241655    0.000000  1009.879383   \n",
              "2022-11-16 01:00:00    26.093838  30.488515    0.000000  1010.020168   \n",
              "2022-11-16 02:00:00    25.869888  30.683894    0.000000  1010.142297   \n",
              "2022-11-16 03:00:00    25.825910  30.749020    0.000000  1009.863725   \n",
              "2022-11-16 04:00:00    25.800982  30.761571    0.000000  1009.804067   \n",
              "2022-11-16 05:00:00    25.536275  31.014146    0.000000  1009.876751   \n",
              "2022-11-16 06:00:00    25.235994  31.344398    0.063025  1010.313866   \n",
              "2022-11-16 07:00:00    25.230672  30.961765   74.665266  1010.711625   \n",
              "2022-11-16 08:00:00    26.332539  29.103787  502.120617  1011.478962   \n",
              "2022-11-16 09:00:00    26.822969  29.738936  347.260504  1011.852381   \n",
              "2022-11-16 10:00:00    28.339832  29.580224  364.628331  1011.932819   \n",
              "2022-11-16 11:00:00    28.333894  29.111625  295.092437  1011.694118   \n",
              "2022-11-16 12:00:00    27.547479  28.948319   92.995798  1010.944258   \n",
              "2022-11-16 13:00:00    26.451192  28.909958   35.343619  1010.499018   \n",
              "2022-11-16 14:00:00    26.360364  29.517647   22.637255  1010.259804   \n",
              "2022-11-16 15:00:00    26.538936  29.632913   12.844538  1010.343557   \n",
              "2022-11-16 16:00:00    26.601403  29.968303   18.569425  1010.704208   \n",
              "2022-11-16 17:00:00    26.714986  30.172129    1.784314  1011.073109   \n",
              "2022-11-16 18:00:00    26.550140  30.399720    0.000000  1011.951261   \n",
              "2022-11-16 19:00:00    26.417805  30.525466    0.000000  1012.025466   \n",
              "\n",
              "                       r_ratio    g_ratio    b_ratio  \n",
              "date                                                  \n",
              "2022-11-15 09:00:00  37.440722  33.288144  29.278866  \n",
              "2022-11-15 10:00:00  37.071148  33.388515  29.538936  \n",
              "2022-11-15 11:00:00  37.338008  33.104909  29.563114  \n",
              "2022-11-15 12:00:00  34.167227  33.958543  31.855742  \n",
              "2022-11-15 13:00:00  33.044118  34.786975  32.142717  \n",
              "2022-11-15 14:00:00  32.604769  34.969986  32.401403  \n",
              "2022-11-15 15:00:00  29.146359  34.233053  36.678291  \n",
              "2022-11-15 16:00:00  28.959888  35.182609  35.861711  \n",
              "2022-11-15 17:00:00  31.936555  32.790056  35.190196  \n",
              "2022-11-15 18:00:00  33.300000  33.300000  33.300000  \n",
              "2022-11-15 19:00:00  33.300000  33.300000  33.300000  \n",
              "2022-11-15 20:00:00  33.300000  33.300000  33.300000  \n",
              "2022-11-15 21:00:00  33.300000  33.300000  33.300000  \n",
              "2022-11-15 22:00:00  33.300000  33.300000  33.300000  \n",
              "2022-11-15 23:00:00  33.300000  33.300000  33.300000  \n",
              "2022-11-16 00:00:00  33.300000  33.300000  33.300000  \n",
              "2022-11-16 01:00:00  33.300000  33.300000  33.300000  \n",
              "2022-11-16 02:00:00  33.300000  33.300000  33.300000  \n",
              "2022-11-16 03:00:00  33.300000  33.300000  33.300000  \n",
              "2022-11-16 04:00:00  33.300000  33.300000  33.300000  \n",
              "2022-11-16 05:00:00  33.300000  33.300000  33.300000  \n",
              "2022-11-16 06:00:00  33.300000  33.300000  33.300000  \n",
              "2022-11-16 07:00:00  35.785014  32.818067  31.366106  \n",
              "2022-11-16 08:00:00  38.793969  33.524404  27.683590  \n",
              "2022-11-16 09:00:00  38.102801  33.188095  28.712185  \n",
              "2022-11-16 10:00:00  37.807714  33.192146  29.021038  \n",
              "2022-11-16 11:00:00  37.949160  32.887815  29.167087  \n",
              "2022-11-16 12:00:00  34.164006  33.815826  31.996499  \n",
              "2022-11-16 13:00:00  31.741515  34.054278  34.218233  \n",
              "2022-11-16 14:00:00  30.823529  34.006162  35.168067  \n",
              "2022-11-16 15:00:00  30.071008  34.184874  35.761064  \n",
              "2022-11-16 16:00:00  30.262973  34.305330  35.432959  \n",
              "2022-11-16 17:00:00  31.232353  32.913025  35.769328  \n",
              "2022-11-16 18:00:00  33.300000  33.300000  33.300000  \n",
              "2022-11-16 19:00:00  33.300000  33.300000  33.300000  "
            ],
            "text/html": [
              "\n",
              "  <div id=\"df-21b62d84-e3c5-48f6-a153-f94fcfd334ba\">\n",
              "    <div class=\"colab-df-container\">\n",
              "      <div>\n",
              "<style scoped>\n",
              "    .dataframe tbody tr th:only-of-type {\n",
              "        vertical-align: middle;\n",
              "    }\n",
              "\n",
              "    .dataframe tbody tr th {\n",
              "        vertical-align: top;\n",
              "    }\n",
              "\n",
              "    .dataframe thead th {\n",
              "        text-align: right;\n",
              "    }\n",
              "</style>\n",
              "<table border=\"1\" class=\"dataframe\">\n",
              "  <thead>\n",
              "    <tr style=\"text-align: right;\">\n",
              "      <th></th>\n",
              "      <th>temperature</th>\n",
              "      <th>humidity</th>\n",
              "      <th>luminosity</th>\n",
              "      <th>pressure</th>\n",
              "      <th>r_ratio</th>\n",
              "      <th>g_ratio</th>\n",
              "      <th>b_ratio</th>\n",
              "    </tr>\n",
              "    <tr>\n",
              "      <th>date</th>\n",
              "      <th></th>\n",
              "      <th></th>\n",
              "      <th></th>\n",
              "      <th></th>\n",
              "      <th></th>\n",
              "      <th></th>\n",
              "      <th></th>\n",
              "    </tr>\n",
              "  </thead>\n",
              "  <tbody>\n",
              "    <tr>\n",
              "      <th>2022-11-15 09:00:00</th>\n",
              "      <td>28.321392</td>\n",
              "      <td>27.251804</td>\n",
              "      <td>400.471649</td>\n",
              "      <td>1008.570876</td>\n",
              "      <td>37.440722</td>\n",
              "      <td>33.288144</td>\n",
              "      <td>29.278866</td>\n",
              "    </tr>\n",
              "    <tr>\n",
              "      <th>2022-11-15 10:00:00</th>\n",
              "      <td>28.966527</td>\n",
              "      <td>26.852241</td>\n",
              "      <td>452.098039</td>\n",
              "      <td>1008.410644</td>\n",
              "      <td>37.071148</td>\n",
              "      <td>33.388515</td>\n",
              "      <td>29.538936</td>\n",
              "    </tr>\n",
              "    <tr>\n",
              "      <th>2022-11-15 11:00:00</th>\n",
              "      <td>28.858485</td>\n",
              "      <td>26.569986</td>\n",
              "      <td>361.927069</td>\n",
              "      <td>1007.861010</td>\n",
              "      <td>37.338008</td>\n",
              "      <td>33.104909</td>\n",
              "      <td>29.563114</td>\n",
              "    </tr>\n",
              "    <tr>\n",
              "      <th>2022-11-15 12:00:00</th>\n",
              "      <td>27.952241</td>\n",
              "      <td>26.429272</td>\n",
              "      <td>98.050420</td>\n",
              "      <td>1007.147899</td>\n",
              "      <td>34.167227</td>\n",
              "      <td>33.958543</td>\n",
              "      <td>31.855742</td>\n",
              "    </tr>\n",
              "    <tr>\n",
              "      <th>2022-11-15 13:00:00</th>\n",
              "      <td>27.102941</td>\n",
              "      <td>27.126611</td>\n",
              "      <td>57.732493</td>\n",
              "      <td>1006.651541</td>\n",
              "      <td>33.044118</td>\n",
              "      <td>34.786975</td>\n",
              "      <td>32.142717</td>\n",
              "    </tr>\n",
              "    <tr>\n",
              "      <th>2022-11-15 14:00:00</th>\n",
              "      <td>26.776157</td>\n",
              "      <td>26.500982</td>\n",
              "      <td>48.403927</td>\n",
              "      <td>1006.433520</td>\n",
              "      <td>32.604769</td>\n",
              "      <td>34.969986</td>\n",
              "      <td>32.401403</td>\n",
              "    </tr>\n",
              "    <tr>\n",
              "      <th>2022-11-15 15:00:00</th>\n",
              "      <td>26.696218</td>\n",
              "      <td>26.353922</td>\n",
              "      <td>15.358543</td>\n",
              "      <td>1006.753221</td>\n",
              "      <td>29.146359</td>\n",
              "      <td>34.233053</td>\n",
              "      <td>36.678291</td>\n",
              "    </tr>\n",
              "    <tr>\n",
              "      <th>2022-11-15 16:00:00</th>\n",
              "      <td>26.827630</td>\n",
              "      <td>27.615708</td>\n",
              "      <td>23.497896</td>\n",
              "      <td>1006.981066</td>\n",
              "      <td>28.959888</td>\n",
              "      <td>35.182609</td>\n",
              "      <td>35.861711</td>\n",
              "    </tr>\n",
              "    <tr>\n",
              "      <th>2022-11-15 17:00:00</th>\n",
              "      <td>26.834594</td>\n",
              "      <td>28.546779</td>\n",
              "      <td>2.002801</td>\n",
              "      <td>1007.445798</td>\n",
              "      <td>31.936555</td>\n",
              "      <td>32.790056</td>\n",
              "      <td>35.190196</td>\n",
              "    </tr>\n",
              "    <tr>\n",
              "      <th>2022-11-15 18:00:00</th>\n",
              "      <td>26.601961</td>\n",
              "      <td>29.222549</td>\n",
              "      <td>0.000000</td>\n",
              "      <td>1008.103922</td>\n",
              "      <td>33.300000</td>\n",
              "      <td>33.300000</td>\n",
              "      <td>33.300000</td>\n",
              "    </tr>\n",
              "    <tr>\n",
              "      <th>2022-11-15 19:00:00</th>\n",
              "      <td>26.437815</td>\n",
              "      <td>29.638655</td>\n",
              "      <td>0.000000</td>\n",
              "      <td>1008.780952</td>\n",
              "      <td>33.300000</td>\n",
              "      <td>33.300000</td>\n",
              "      <td>33.300000</td>\n",
              "    </tr>\n",
              "    <tr>\n",
              "      <th>2022-11-15 20:00:00</th>\n",
              "      <td>26.435063</td>\n",
              "      <td>29.885975</td>\n",
              "      <td>0.000000</td>\n",
              "      <td>1009.232258</td>\n",
              "      <td>33.300000</td>\n",
              "      <td>33.300000</td>\n",
              "      <td>33.300000</td>\n",
              "    </tr>\n",
              "    <tr>\n",
              "      <th>2022-11-15 21:00:00</th>\n",
              "      <td>26.506303</td>\n",
              "      <td>29.956443</td>\n",
              "      <td>0.000000</td>\n",
              "      <td>1009.724370</td>\n",
              "      <td>33.300000</td>\n",
              "      <td>33.300000</td>\n",
              "      <td>33.300000</td>\n",
              "    </tr>\n",
              "    <tr>\n",
              "      <th>2022-11-15 22:00:00</th>\n",
              "      <td>26.468627</td>\n",
              "      <td>30.051541</td>\n",
              "      <td>0.000000</td>\n",
              "      <td>1010.046919</td>\n",
              "      <td>33.300000</td>\n",
              "      <td>33.300000</td>\n",
              "      <td>33.300000</td>\n",
              "    </tr>\n",
              "    <tr>\n",
              "      <th>2022-11-15 23:00:00</th>\n",
              "      <td>26.399440</td>\n",
              "      <td>30.152241</td>\n",
              "      <td>0.000000</td>\n",
              "      <td>1009.930952</td>\n",
              "      <td>33.300000</td>\n",
              "      <td>33.300000</td>\n",
              "      <td>33.300000</td>\n",
              "    </tr>\n",
              "    <tr>\n",
              "      <th>2022-11-16 00:00:00</th>\n",
              "      <td>26.316129</td>\n",
              "      <td>30.241655</td>\n",
              "      <td>0.000000</td>\n",
              "      <td>1009.879383</td>\n",
              "      <td>33.300000</td>\n",
              "      <td>33.300000</td>\n",
              "      <td>33.300000</td>\n",
              "    </tr>\n",
              "    <tr>\n",
              "      <th>2022-11-16 01:00:00</th>\n",
              "      <td>26.093838</td>\n",
              "      <td>30.488515</td>\n",
              "      <td>0.000000</td>\n",
              "      <td>1010.020168</td>\n",
              "      <td>33.300000</td>\n",
              "      <td>33.300000</td>\n",
              "      <td>33.300000</td>\n",
              "    </tr>\n",
              "    <tr>\n",
              "      <th>2022-11-16 02:00:00</th>\n",
              "      <td>25.869888</td>\n",
              "      <td>30.683894</td>\n",
              "      <td>0.000000</td>\n",
              "      <td>1010.142297</td>\n",
              "      <td>33.300000</td>\n",
              "      <td>33.300000</td>\n",
              "      <td>33.300000</td>\n",
              "    </tr>\n",
              "    <tr>\n",
              "      <th>2022-11-16 03:00:00</th>\n",
              "      <td>25.825910</td>\n",
              "      <td>30.749020</td>\n",
              "      <td>0.000000</td>\n",
              "      <td>1009.863725</td>\n",
              "      <td>33.300000</td>\n",
              "      <td>33.300000</td>\n",
              "      <td>33.300000</td>\n",
              "    </tr>\n",
              "    <tr>\n",
              "      <th>2022-11-16 04:00:00</th>\n",
              "      <td>25.800982</td>\n",
              "      <td>30.761571</td>\n",
              "      <td>0.000000</td>\n",
              "      <td>1009.804067</td>\n",
              "      <td>33.300000</td>\n",
              "      <td>33.300000</td>\n",
              "      <td>33.300000</td>\n",
              "    </tr>\n",
              "    <tr>\n",
              "      <th>2022-11-16 05:00:00</th>\n",
              "      <td>25.536275</td>\n",
              "      <td>31.014146</td>\n",
              "      <td>0.000000</td>\n",
              "      <td>1009.876751</td>\n",
              "      <td>33.300000</td>\n",
              "      <td>33.300000</td>\n",
              "      <td>33.300000</td>\n",
              "    </tr>\n",
              "    <tr>\n",
              "      <th>2022-11-16 06:00:00</th>\n",
              "      <td>25.235994</td>\n",
              "      <td>31.344398</td>\n",
              "      <td>0.063025</td>\n",
              "      <td>1010.313866</td>\n",
              "      <td>33.300000</td>\n",
              "      <td>33.300000</td>\n",
              "      <td>33.300000</td>\n",
              "    </tr>\n",
              "    <tr>\n",
              "      <th>2022-11-16 07:00:00</th>\n",
              "      <td>25.230672</td>\n",
              "      <td>30.961765</td>\n",
              "      <td>74.665266</td>\n",
              "      <td>1010.711625</td>\n",
              "      <td>35.785014</td>\n",
              "      <td>32.818067</td>\n",
              "      <td>31.366106</td>\n",
              "    </tr>\n",
              "    <tr>\n",
              "      <th>2022-11-16 08:00:00</th>\n",
              "      <td>26.332539</td>\n",
              "      <td>29.103787</td>\n",
              "      <td>502.120617</td>\n",
              "      <td>1011.478962</td>\n",
              "      <td>38.793969</td>\n",
              "      <td>33.524404</td>\n",
              "      <td>27.683590</td>\n",
              "    </tr>\n",
              "    <tr>\n",
              "      <th>2022-11-16 09:00:00</th>\n",
              "      <td>26.822969</td>\n",
              "      <td>29.738936</td>\n",
              "      <td>347.260504</td>\n",
              "      <td>1011.852381</td>\n",
              "      <td>38.102801</td>\n",
              "      <td>33.188095</td>\n",
              "      <td>28.712185</td>\n",
              "    </tr>\n",
              "    <tr>\n",
              "      <th>2022-11-16 10:00:00</th>\n",
              "      <td>28.339832</td>\n",
              "      <td>29.580224</td>\n",
              "      <td>364.628331</td>\n",
              "      <td>1011.932819</td>\n",
              "      <td>37.807714</td>\n",
              "      <td>33.192146</td>\n",
              "      <td>29.021038</td>\n",
              "    </tr>\n",
              "    <tr>\n",
              "      <th>2022-11-16 11:00:00</th>\n",
              "      <td>28.333894</td>\n",
              "      <td>29.111625</td>\n",
              "      <td>295.092437</td>\n",
              "      <td>1011.694118</td>\n",
              "      <td>37.949160</td>\n",
              "      <td>32.887815</td>\n",
              "      <td>29.167087</td>\n",
              "    </tr>\n",
              "    <tr>\n",
              "      <th>2022-11-16 12:00:00</th>\n",
              "      <td>27.547479</td>\n",
              "      <td>28.948319</td>\n",
              "      <td>92.995798</td>\n",
              "      <td>1010.944258</td>\n",
              "      <td>34.164006</td>\n",
              "      <td>33.815826</td>\n",
              "      <td>31.996499</td>\n",
              "    </tr>\n",
              "    <tr>\n",
              "      <th>2022-11-16 13:00:00</th>\n",
              "      <td>26.451192</td>\n",
              "      <td>28.909958</td>\n",
              "      <td>35.343619</td>\n",
              "      <td>1010.499018</td>\n",
              "      <td>31.741515</td>\n",
              "      <td>34.054278</td>\n",
              "      <td>34.218233</td>\n",
              "    </tr>\n",
              "    <tr>\n",
              "      <th>2022-11-16 14:00:00</th>\n",
              "      <td>26.360364</td>\n",
              "      <td>29.517647</td>\n",
              "      <td>22.637255</td>\n",
              "      <td>1010.259804</td>\n",
              "      <td>30.823529</td>\n",
              "      <td>34.006162</td>\n",
              "      <td>35.168067</td>\n",
              "    </tr>\n",
              "    <tr>\n",
              "      <th>2022-11-16 15:00:00</th>\n",
              "      <td>26.538936</td>\n",
              "      <td>29.632913</td>\n",
              "      <td>12.844538</td>\n",
              "      <td>1010.343557</td>\n",
              "      <td>30.071008</td>\n",
              "      <td>34.184874</td>\n",
              "      <td>35.761064</td>\n",
              "    </tr>\n",
              "    <tr>\n",
              "      <th>2022-11-16 16:00:00</th>\n",
              "      <td>26.601403</td>\n",
              "      <td>29.968303</td>\n",
              "      <td>18.569425</td>\n",
              "      <td>1010.704208</td>\n",
              "      <td>30.262973</td>\n",
              "      <td>34.305330</td>\n",
              "      <td>35.432959</td>\n",
              "    </tr>\n",
              "    <tr>\n",
              "      <th>2022-11-16 17:00:00</th>\n",
              "      <td>26.714986</td>\n",
              "      <td>30.172129</td>\n",
              "      <td>1.784314</td>\n",
              "      <td>1011.073109</td>\n",
              "      <td>31.232353</td>\n",
              "      <td>32.913025</td>\n",
              "      <td>35.769328</td>\n",
              "    </tr>\n",
              "    <tr>\n",
              "      <th>2022-11-16 18:00:00</th>\n",
              "      <td>26.550140</td>\n",
              "      <td>30.399720</td>\n",
              "      <td>0.000000</td>\n",
              "      <td>1011.951261</td>\n",
              "      <td>33.300000</td>\n",
              "      <td>33.300000</td>\n",
              "      <td>33.300000</td>\n",
              "    </tr>\n",
              "    <tr>\n",
              "      <th>2022-11-16 19:00:00</th>\n",
              "      <td>26.417805</td>\n",
              "      <td>30.525466</td>\n",
              "      <td>0.000000</td>\n",
              "      <td>1012.025466</td>\n",
              "      <td>33.300000</td>\n",
              "      <td>33.300000</td>\n",
              "      <td>33.300000</td>\n",
              "    </tr>\n",
              "  </tbody>\n",
              "</table>\n",
              "</div>\n",
              "      <button class=\"colab-df-convert\" onclick=\"convertToInteractive('df-21b62d84-e3c5-48f6-a153-f94fcfd334ba')\"\n",
              "              title=\"Convert this dataframe to an interactive table.\"\n",
              "              style=\"display:none;\">\n",
              "        \n",
              "  <svg xmlns=\"http://www.w3.org/2000/svg\" height=\"24px\"viewBox=\"0 0 24 24\"\n",
              "       width=\"24px\">\n",
              "    <path d=\"M0 0h24v24H0V0z\" fill=\"none\"/>\n",
              "    <path d=\"M18.56 5.44l.94 2.06.94-2.06 2.06-.94-2.06-.94-.94-2.06-.94 2.06-2.06.94zm-11 1L8.5 8.5l.94-2.06 2.06-.94-2.06-.94L8.5 2.5l-.94 2.06-2.06.94zm10 10l.94 2.06.94-2.06 2.06-.94-2.06-.94-.94-2.06-.94 2.06-2.06.94z\"/><path d=\"M17.41 7.96l-1.37-1.37c-.4-.4-.92-.59-1.43-.59-.52 0-1.04.2-1.43.59L10.3 9.45l-7.72 7.72c-.78.78-.78 2.05 0 2.83L4 21.41c.39.39.9.59 1.41.59.51 0 1.02-.2 1.41-.59l7.78-7.78 2.81-2.81c.8-.78.8-2.07 0-2.86zM5.41 20L4 18.59l7.72-7.72 1.47 1.35L5.41 20z\"/>\n",
              "  </svg>\n",
              "      </button>\n",
              "      \n",
              "  <style>\n",
              "    .colab-df-container {\n",
              "      display:flex;\n",
              "      flex-wrap:wrap;\n",
              "      gap: 12px;\n",
              "    }\n",
              "\n",
              "    .colab-df-convert {\n",
              "      background-color: #E8F0FE;\n",
              "      border: none;\n",
              "      border-radius: 50%;\n",
              "      cursor: pointer;\n",
              "      display: none;\n",
              "      fill: #1967D2;\n",
              "      height: 32px;\n",
              "      padding: 0 0 0 0;\n",
              "      width: 32px;\n",
              "    }\n",
              "\n",
              "    .colab-df-convert:hover {\n",
              "      background-color: #E2EBFA;\n",
              "      box-shadow: 0px 1px 2px rgba(60, 64, 67, 0.3), 0px 1px 3px 1px rgba(60, 64, 67, 0.15);\n",
              "      fill: #174EA6;\n",
              "    }\n",
              "\n",
              "    [theme=dark] .colab-df-convert {\n",
              "      background-color: #3B4455;\n",
              "      fill: #D2E3FC;\n",
              "    }\n",
              "\n",
              "    [theme=dark] .colab-df-convert:hover {\n",
              "      background-color: #434B5C;\n",
              "      box-shadow: 0px 1px 3px 1px rgba(0, 0, 0, 0.15);\n",
              "      filter: drop-shadow(0px 1px 2px rgba(0, 0, 0, 0.3));\n",
              "      fill: #FFFFFF;\n",
              "    }\n",
              "  </style>\n",
              "\n",
              "      <script>\n",
              "        const buttonEl =\n",
              "          document.querySelector('#df-21b62d84-e3c5-48f6-a153-f94fcfd334ba button.colab-df-convert');\n",
              "        buttonEl.style.display =\n",
              "          google.colab.kernel.accessAllowed ? 'block' : 'none';\n",
              "\n",
              "        async function convertToInteractive(key) {\n",
              "          const element = document.querySelector('#df-21b62d84-e3c5-48f6-a153-f94fcfd334ba');\n",
              "          const dataTable =\n",
              "            await google.colab.kernel.invokeFunction('convertToInteractive',\n",
              "                                                     [key], {});\n",
              "          if (!dataTable) return;\n",
              "\n",
              "          const docLinkHtml = 'Like what you see? Visit the ' +\n",
              "            '<a target=\"_blank\" href=https://colab.research.google.com/notebooks/data_table.ipynb>data table notebook</a>'\n",
              "            + ' to learn more about interactive tables.';\n",
              "          element.innerHTML = '';\n",
              "          dataTable['output_type'] = 'display_data';\n",
              "          await google.colab.output.renderOutput(dataTable, element);\n",
              "          const docLink = document.createElement('div');\n",
              "          docLink.innerHTML = docLinkHtml;\n",
              "          element.appendChild(docLink);\n",
              "        }\n",
              "      </script>\n",
              "    </div>\n",
              "  </div>\n",
              "  "
            ]
          },
          "metadata": {},
          "execution_count": 59
        }
      ]
    },
    {
      "cell_type": "code",
      "metadata": {
        "colab": {
          "base_uri": "https://localhost:8080/"
        },
        "id": "44z_H8_DPqIV",
        "outputId": "bb57bb4e-fa16-4021-b905-06b9d6e55052"
      },
      "source": [
        "iot_data.resample('H').mean().shape, iot_data.resample('H').mean().info()"
      ],
      "execution_count": null,
      "outputs": [
        {
          "output_type": "stream",
          "name": "stdout",
          "text": [
            "<class 'pandas.core.frame.DataFrame'>\n",
            "DatetimeIndex: 35 entries, 2022-11-15 09:00:00 to 2022-11-16 19:00:00\n",
            "Freq: H\n",
            "Data columns (total 7 columns):\n",
            " #   Column       Non-Null Count  Dtype  \n",
            "---  ------       --------------  -----  \n",
            " 0   temperature  35 non-null     float64\n",
            " 1   humidity     35 non-null     float64\n",
            " 2   luminosity   35 non-null     float64\n",
            " 3   pressure     35 non-null     float64\n",
            " 4   r_ratio      35 non-null     float64\n",
            " 5   g_ratio      35 non-null     float64\n",
            " 6   b_ratio      35 non-null     float64\n",
            "dtypes: float64(7)\n",
            "memory usage: 2.2 KB\n"
          ]
        },
        {
          "output_type": "execute_result",
          "data": {
            "text/plain": [
              "((35, 7), None)"
            ]
          },
          "metadata": {},
          "execution_count": 60
        }
      ]
    },
    {
      "cell_type": "code",
      "metadata": {
        "colab": {
          "base_uri": "https://localhost:8080/",
          "height": 615
        },
        "id": "7zNu8qnxwl0Q",
        "outputId": "5e1fe683-6a3f-489f-91f8-53217ab937c9"
      },
      "source": [
        "#  Plot mean of the iot data per every hour \n",
        "iot_data.resample('H').mean().plot(figsize=(10,6), \n",
        "                                   title='Hourly change of all sensor data') #, \n",
        "                                #    ylim=[0,500])"
      ],
      "execution_count": null,
      "outputs": [
        {
          "output_type": "execute_result",
          "data": {
            "text/plain": [
              "<matplotlib.axes._subplots.AxesSubplot at 0x7fdc218a6210>"
            ]
          },
          "metadata": {},
          "execution_count": 61
        },
        {
          "output_type": "display_data",
          "data": {
            "text/plain": [
              "<Figure size 1000x600 with 1 Axes>"
            ],
            "image/png": "[encoded data removed]"
          },
          "metadata": {}
        }
      ]
    },
    {
      "cell_type": "code",
      "metadata": {
        "colab": {
          "base_uri": "https://localhost:8080/",
          "height": 615
        },
        "id": "QXDpqM0IMSho",
        "outputId": "9f00af33-caea-403c-e462-39c579e38a8d"
      },
      "source": [
        "#  Plot mean of the iot data per every minute\n",
        "iot_data[['r_ratio', 'g_ratio', 'b_ratio']].resample('H').mean().plot(figsize=(10,6), \n",
        "                                    color = ['red', 'green', 'blue'],\n",
        "                                    title='Hourly change of R, G, B')"
      ],
      "execution_count": null,
      "outputs": [
        {
          "output_type": "execute_result",
          "data": {
            "text/plain": [
              "<matplotlib.axes._subplots.AxesSubplot at 0x7fdc21894890>"
            ]
          },
          "metadata": {},
          "execution_count": 62
        },
        {
          "output_type": "display_data",
          "data": {
            "text/plain": [
              "<Figure size 1000x600 with 1 Axes>"
            ],
            "image/png": "[encoded data removed]"
          },
          "metadata": {}
        }
      ]
    },
    {
      "cell_type": "markdown",
      "metadata": {
        "id": "4wCl6uERks-6"
      },
      "source": [
        "## [도전하기]  하루 24 시간 동안의 R,G,B 변화 그래프를 그려보시오."
      ]
    },
    {
      "cell_type": "code",
      "metadata": {
        "colab": {
          "base_uri": "https://localhost:8080/",
          "height": 143
        },
        "id": "JyLg04APwl0W",
        "outputId": "fd3c8d2b-a10d-43e1-f535-1020d5e3aedc"
      },
      "source": [
        "# Estimate the mean of iot data for every day\n",
        "iot_data.resample('D').mean()"
      ],
      "execution_count": null,
      "outputs": [
        {
          "output_type": "execute_result",
          "data": {
            "text/plain": [
              "            temperature   humidity  luminosity     pressure    r_ratio  \\\n",
              "date                                                                     \n",
              "2022-11-15    27.108738  28.171850   87.777071  1008.124942  33.308227   \n",
              "2022-11-16    26.446443  30.085722   89.826604  1010.747889  33.830122   \n",
              "\n",
              "              g_ratio    b_ratio  \n",
              "date                              \n",
              "2022-11-15  33.712958  32.931985  \n",
              "2022-11-16  33.431553  32.690166  "
            ],
            "text/html": [
              "\n",
              "  <div id=\"df-1e287621-a763-41c0-87b2-845329a4292a\">\n",
              "    <div class=\"colab-df-container\">\n",
              "      <div>\n",
              "<style scoped>\n",
              "    .dataframe tbody tr th:only-of-type {\n",
              "        vertical-align: middle;\n",
              "    }\n",
              "\n",
              "    .dataframe tbody tr th {\n",
              "        vertical-align: top;\n",
              "    }\n",
              "\n",
              "    .dataframe thead th {\n",
              "        text-align: right;\n",
              "    }\n",
              "</style>\n",
              "<table border=\"1\" class=\"dataframe\">\n",
              "  <thead>\n",
              "    <tr style=\"text-align: right;\">\n",
              "      <th></th>\n",
              "      <th>temperature</th>\n",
              "      <th>humidity</th>\n",
              "      <th>luminosity</th>\n",
              "      <th>pressure</th>\n",
              "      <th>r_ratio</th>\n",
              "      <th>g_ratio</th>\n",
              "      <th>b_ratio</th>\n",
              "    </tr>\n",
              "    <tr>\n",
              "      <th>date</th>\n",
              "      <th></th>\n",
              "      <th></th>\n",
              "      <th></th>\n",
              "      <th></th>\n",
              "      <th></th>\n",
              "      <th></th>\n",
              "      <th></th>\n",
              "    </tr>\n",
              "  </thead>\n",
              "  <tbody>\n",
              "    <tr>\n",
              "      <th>2022-11-15</th>\n",
              "      <td>27.108738</td>\n",
              "      <td>28.171850</td>\n",
              "      <td>87.777071</td>\n",
              "      <td>1008.124942</td>\n",
              "      <td>33.308227</td>\n",
              "      <td>33.712958</td>\n",
              "      <td>32.931985</td>\n",
              "    </tr>\n",
              "    <tr>\n",
              "      <th>2022-11-16</th>\n",
              "      <td>26.446443</td>\n",
              "      <td>30.085722</td>\n",
              "      <td>89.826604</td>\n",
              "      <td>1010.747889</td>\n",
              "      <td>33.830122</td>\n",
              "      <td>33.431553</td>\n",
              "      <td>32.690166</td>\n",
              "    </tr>\n",
              "  </tbody>\n",
              "</table>\n",
              "</div>\n",
              "      <button class=\"colab-df-convert\" onclick=\"convertToInteractive('df-1e287621-a763-41c0-87b2-845329a4292a')\"\n",
              "              title=\"Convert this dataframe to an interactive table.\"\n",
              "              style=\"display:none;\">\n",
              "        \n",
              "  <svg xmlns=\"http://www.w3.org/2000/svg\" height=\"24px\"viewBox=\"0 0 24 24\"\n",
              "       width=\"24px\">\n",
              "    <path d=\"M0 0h24v24H0V0z\" fill=\"none\"/>\n",
              "    <path d=\"M18.56 5.44l.94 2.06.94-2.06 2.06-.94-2.06-.94-.94-2.06-.94 2.06-2.06.94zm-11 1L8.5 8.5l.94-2.06 2.06-.94-2.06-.94L8.5 2.5l-.94 2.06-2.06.94zm10 10l.94 2.06.94-2.06 2.06-.94-2.06-.94-.94-2.06-.94 2.06-2.06.94z\"/><path d=\"M17.41 7.96l-1.37-1.37c-.4-.4-.92-.59-1.43-.59-.52 0-1.04.2-1.43.59L10.3 9.45l-7.72 7.72c-.78.78-.78 2.05 0 2.83L4 21.41c.39.39.9.59 1.41.59.51 0 1.02-.2 1.41-.59l7.78-7.78 2.81-2.81c.8-.78.8-2.07 0-2.86zM5.41 20L4 18.59l7.72-7.72 1.47 1.35L5.41 20z\"/>\n",
              "  </svg>\n",
              "      </button>\n",
              "      \n",
              "  <style>\n",
              "    .colab-df-container {\n",
              "      display:flex;\n",
              "      flex-wrap:wrap;\n",
              "      gap: 12px;\n",
              "    }\n",
              "\n",
              "    .colab-df-convert {\n",
              "      background-color: #E8F0FE;\n",
              "      border: none;\n",
              "      border-radius: 50%;\n",
              "      cursor: pointer;\n",
              "      display: none;\n",
              "      fill: #1967D2;\n",
              "      height: 32px;\n",
              "      padding: 0 0 0 0;\n",
              "      width: 32px;\n",
              "    }\n",
              "\n",
              "    .colab-df-convert:hover {\n",
              "      background-color: #E2EBFA;\n",
              "      box-shadow: 0px 1px 2px rgba(60, 64, 67, 0.3), 0px 1px 3px 1px rgba(60, 64, 67, 0.15);\n",
              "      fill: #174EA6;\n",
              "    }\n",
              "\n",
              "    [theme=dark] .colab-df-convert {\n",
              "      background-color: #3B4455;\n",
              "      fill: #D2E3FC;\n",
              "    }\n",
              "\n",
              "    [theme=dark] .colab-df-convert:hover {\n",
              "      background-color: #434B5C;\n",
              "      box-shadow: 0px 1px 3px 1px rgba(0, 0, 0, 0.15);\n",
              "      filter: drop-shadow(0px 1px 2px rgba(0, 0, 0, 0.3));\n",
              "      fill: #FFFFFF;\n",
              "    }\n",
              "  </style>\n",
              "\n",
              "      <script>\n",
              "        const buttonEl =\n",
              "          document.querySelector('#df-1e287621-a763-41c0-87b2-845329a4292a button.colab-df-convert');\n",
              "        buttonEl.style.display =\n",
              "          google.colab.kernel.accessAllowed ? 'block' : 'none';\n",
              "\n",
              "        async function convertToInteractive(key) {\n",
              "          const element = document.querySelector('#df-1e287621-a763-41c0-87b2-845329a4292a');\n",
              "          const dataTable =\n",
              "            await google.colab.kernel.invokeFunction('convertToInteractive',\n",
              "                                                     [key], {});\n",
              "          if (!dataTable) return;\n",
              "\n",
              "          const docLinkHtml = 'Like what you see? Visit the ' +\n",
              "            '<a target=\"_blank\" href=https://colab.research.google.com/notebooks/data_table.ipynb>data table notebook</a>'\n",
              "            + ' to learn more about interactive tables.';\n",
              "          element.innerHTML = '';\n",
              "          dataTable['output_type'] = 'display_data';\n",
              "          await google.colab.output.renderOutput(dataTable, element);\n",
              "          const docLink = document.createElement('div');\n",
              "          docLink.innerHTML = docLinkHtml;\n",
              "          element.appendChild(docLink);\n",
              "        }\n",
              "      </script>\n",
              "    </div>\n",
              "  </div>\n",
              "  "
            ]
          },
          "metadata": {},
          "execution_count": 63
        }
      ]
    },
    {
      "cell_type": "code",
      "metadata": {
        "colab": {
          "base_uri": "https://localhost:8080/"
        },
        "id": "gVG9n14NRpMr",
        "outputId": "2c8ef88a-b41f-4a71-d81d-ed378f19bb7b"
      },
      "source": [
        "iot_data.resample('D').mean().shape, iot_data.resample('D').mean().info()"
      ],
      "execution_count": null,
      "outputs": [
        {
          "output_type": "stream",
          "name": "stdout",
          "text": [
            "<class 'pandas.core.frame.DataFrame'>\n",
            "DatetimeIndex: 2 entries, 2022-11-15 to 2022-11-16\n",
            "Freq: D\n",
            "Data columns (total 7 columns):\n",
            " #   Column       Non-Null Count  Dtype  \n",
            "---  ------       --------------  -----  \n",
            " 0   temperature  2 non-null      float64\n",
            " 1   humidity     2 non-null      float64\n",
            " 2   luminosity   2 non-null      float64\n",
            " 3   pressure     2 non-null      float64\n",
            " 4   r_ratio      2 non-null      float64\n",
            " 5   g_ratio      2 non-null      float64\n",
            " 6   b_ratio      2 non-null      float64\n",
            "dtypes: float64(7)\n",
            "memory usage: 128.0 bytes\n"
          ]
        },
        {
          "output_type": "execute_result",
          "data": {
            "text/plain": [
              "((2, 7), None)"
            ]
          },
          "metadata": {},
          "execution_count": 64
        }
      ]
    },
    {
      "cell_type": "code",
      "metadata": {
        "colab": {
          "base_uri": "https://localhost:8080/",
          "height": 143
        },
        "id": "xdaLijZESQJD",
        "outputId": "d397b731-a11e-49a5-94fe-f23484475e3f"
      },
      "source": [
        "iot_data_day=iot_data.resample('D').mean()\n",
        "iot_data_day.head()"
      ],
      "execution_count": null,
      "outputs": [
        {
          "output_type": "execute_result",
          "data": {
            "text/plain": [
              "            temperature   humidity  luminosity     pressure    r_ratio  \\\n",
              "date                                                                     \n",
              "2022-11-15    27.108738  28.171850   87.777071  1008.124942  33.308227   \n",
              "2022-11-16    26.446443  30.085722   89.826604  1010.747889  33.830122   \n",
              "\n",
              "              g_ratio    b_ratio  \n",
              "date                              \n",
              "2022-11-15  33.712958  32.931985  \n",
              "2022-11-16  33.431553  32.690166  "
            ],
            "text/html": [
              "\n",
              "  <div id=\"df-20e1eead-0b0c-4d9e-9b21-f7f5361fd64e\">\n",
              "    <div class=\"colab-df-container\">\n",
              "      <div>\n",
              "<style scoped>\n",
              "    .dataframe tbody tr th:only-of-type {\n",
              "        vertical-align: middle;\n",
              "    }\n",
              "\n",
              "    .dataframe tbody tr th {\n",
              "        vertical-align: top;\n",
              "    }\n",
              "\n",
              "    .dataframe thead th {\n",
              "        text-align: right;\n",
              "    }\n",
              "</style>\n",
              "<table border=\"1\" class=\"dataframe\">\n",
              "  <thead>\n",
              "    <tr style=\"text-align: right;\">\n",
              "      <th></th>\n",
              "      <th>temperature</th>\n",
              "      <th>humidity</th>\n",
              "      <th>luminosity</th>\n",
              "      <th>pressure</th>\n",
              "      <th>r_ratio</th>\n",
              "      <th>g_ratio</th>\n",
              "      <th>b_ratio</th>\n",
              "    </tr>\n",
              "    <tr>\n",
              "      <th>date</th>\n",
              "      <th></th>\n",
              "      <th></th>\n",
              "      <th></th>\n",
              "      <th></th>\n",
              "      <th></th>\n",
              "      <th></th>\n",
              "      <th></th>\n",
              "    </tr>\n",
              "  </thead>\n",
              "  <tbody>\n",
              "    <tr>\n",
              "      <th>2022-11-15</th>\n",
              "      <td>27.108738</td>\n",
              "      <td>28.171850</td>\n",
              "      <td>87.777071</td>\n",
              "      <td>1008.124942</td>\n",
              "      <td>33.308227</td>\n",
              "      <td>33.712958</td>\n",
              "      <td>32.931985</td>\n",
              "    </tr>\n",
              "    <tr>\n",
              "      <th>2022-11-16</th>\n",
              "      <td>26.446443</td>\n",
              "      <td>30.085722</td>\n",
              "      <td>89.826604</td>\n",
              "      <td>1010.747889</td>\n",
              "      <td>33.830122</td>\n",
              "      <td>33.431553</td>\n",
              "      <td>32.690166</td>\n",
              "    </tr>\n",
              "  </tbody>\n",
              "</table>\n",
              "</div>\n",
              "      <button class=\"colab-df-convert\" onclick=\"convertToInteractive('df-20e1eead-0b0c-4d9e-9b21-f7f5361fd64e')\"\n",
              "              title=\"Convert this dataframe to an interactive table.\"\n",
              "              style=\"display:none;\">\n",
              "        \n",
              "  <svg xmlns=\"http://www.w3.org/2000/svg\" height=\"24px\"viewBox=\"0 0 24 24\"\n",
              "       width=\"24px\">\n",
              "    <path d=\"M0 0h24v24H0V0z\" fill=\"none\"/>\n",
              "    <path d=\"M18.56 5.44l.94 2.06.94-2.06 2.06-.94-2.06-.94-.94-2.06-.94 2.06-2.06.94zm-11 1L8.5 8.5l.94-2.06 2.06-.94-2.06-.94L8.5 2.5l-.94 2.06-2.06.94zm10 10l.94 2.06.94-2.06 2.06-.94-2.06-.94-.94-2.06-.94 2.06-2.06.94z\"/><path d=\"M17.41 7.96l-1.37-1.37c-.4-.4-.92-.59-1.43-.59-.52 0-1.04.2-1.43.59L10.3 9.45l-7.72 7.72c-.78.78-.78 2.05 0 2.83L4 21.41c.39.39.9.59 1.41.59.51 0 1.02-.2 1.41-.59l7.78-7.78 2.81-2.81c.8-.78.8-2.07 0-2.86zM5.41 20L4 18.59l7.72-7.72 1.47 1.35L5.41 20z\"/>\n",
              "  </svg>\n",
              "      </button>\n",
              "      \n",
              "  <style>\n",
              "    .colab-df-container {\n",
              "      display:flex;\n",
              "      flex-wrap:wrap;\n",
              "      gap: 12px;\n",
              "    }\n",
              "\n",
              "    .colab-df-convert {\n",
              "      background-color: #E8F0FE;\n",
              "      border: none;\n",
              "      border-radius: 50%;\n",
              "      cursor: pointer;\n",
              "      display: none;\n",
              "      fill: #1967D2;\n",
              "      height: 32px;\n",
              "      padding: 0 0 0 0;\n",
              "      width: 32px;\n",
              "    }\n",
              "\n",
              "    .colab-df-convert:hover {\n",
              "      background-color: #E2EBFA;\n",
              "      box-shadow: 0px 1px 2px rgba(60, 64, 67, 0.3), 0px 1px 3px 1px rgba(60, 64, 67, 0.15);\n",
              "      fill: #174EA6;\n",
              "    }\n",
              "\n",
              "    [theme=dark] .colab-df-convert {\n",
              "      background-color: #3B4455;\n",
              "      fill: #D2E3FC;\n",
              "    }\n",
              "\n",
              "    [theme=dark] .colab-df-convert:hover {\n",
              "      background-color: #434B5C;\n",
              "      box-shadow: 0px 1px 3px 1px rgba(0, 0, 0, 0.15);\n",
              "      filter: drop-shadow(0px 1px 2px rgba(0, 0, 0, 0.3));\n",
              "      fill: #FFFFFF;\n",
              "    }\n",
              "  </style>\n",
              "\n",
              "      <script>\n",
              "        const buttonEl =\n",
              "          document.querySelector('#df-20e1eead-0b0c-4d9e-9b21-f7f5361fd64e button.colab-df-convert');\n",
              "        buttonEl.style.display =\n",
              "          google.colab.kernel.accessAllowed ? 'block' : 'none';\n",
              "\n",
              "        async function convertToInteractive(key) {\n",
              "          const element = document.querySelector('#df-20e1eead-0b0c-4d9e-9b21-f7f5361fd64e');\n",
              "          const dataTable =\n",
              "            await google.colab.kernel.invokeFunction('convertToInteractive',\n",
              "                                                     [key], {});\n",
              "          if (!dataTable) return;\n",
              "\n",
              "          const docLinkHtml = 'Like what you see? Visit the ' +\n",
              "            '<a target=\"_blank\" href=https://colab.research.google.com/notebooks/data_table.ipynb>data table notebook</a>'\n",
              "            + ' to learn more about interactive tables.';\n",
              "          element.innerHTML = '';\n",
              "          dataTable['output_type'] = 'display_data';\n",
              "          await google.colab.output.renderOutput(dataTable, element);\n",
              "          const docLink = document.createElement('div');\n",
              "          docLink.innerHTML = docLinkHtml;\n",
              "          element.appendChild(docLink);\n",
              "        }\n",
              "      </script>\n",
              "    </div>\n",
              "  </div>\n",
              "  "
            ]
          },
          "metadata": {},
          "execution_count": 66
        }
      ]
    },
    {
      "cell_type": "code",
      "metadata": {
        "colab": {
          "base_uri": "https://localhost:8080/"
        },
        "id": "FRRF6x-rSacH",
        "outputId": "95ed9215-223d-415b-8dae-408b9e1022d1"
      },
      "source": [
        "iot_data_day.info()"
      ],
      "execution_count": null,
      "outputs": [
        {
          "output_type": "stream",
          "name": "stdout",
          "text": [
            "<class 'pandas.core.frame.DataFrame'>\n",
            "DatetimeIndex: 2 entries, 2022-11-15 to 2022-11-16\n",
            "Freq: D\n",
            "Data columns (total 7 columns):\n",
            " #   Column       Non-Null Count  Dtype  \n",
            "---  ------       --------------  -----  \n",
            " 0   temperature  2 non-null      float64\n",
            " 1   humidity     2 non-null      float64\n",
            " 2   luminosity   2 non-null      float64\n",
            " 3   pressure     2 non-null      float64\n",
            " 4   r_ratio      2 non-null      float64\n",
            " 5   g_ratio      2 non-null      float64\n",
            " 6   b_ratio      2 non-null      float64\n",
            "dtypes: float64(7)\n",
            "memory usage: 128.0 bytes\n"
          ]
        }
      ]
    },
    {
      "cell_type": "code",
      "metadata": {
        "colab": {
          "base_uri": "https://localhost:8080/",
          "height": 622
        },
        "id": "xuIjKqS4wl0b",
        "outputId": "2e116720-7ede-4b3d-9c46-99a02820e2fa"
      },
      "source": [
        "#  Plot mean of the iot data per every day\n",
        "iot_data.resample('D').mean().plot(kind='bar', #marker='o', ms=6, figsize=(12,6), \n",
        "                                   title='Daily change of all sensor data')"
      ],
      "execution_count": null,
      "outputs": [
        {
          "output_type": "execute_result",
          "data": {
            "text/plain": [
              "<matplotlib.axes._subplots.AxesSubplot at 0x7fdc21b26910>"
            ]
          },
          "metadata": {},
          "execution_count": 68
        },
        {
          "output_type": "display_data",
          "data": {
            "text/plain": [
              "<Figure size 640x480 with 1 Axes>"
            ],
            "image/png": "[encoded data removed]"
          },
          "metadata": {}
        }
      ]
    },
    {
      "cell_type": "code",
      "metadata": {
        "colab": {
          "base_uri": "https://localhost:8080/",
          "height": 615
        },
        "id": "hNwnad-1Mq2J",
        "outputId": "e86f405a-f595-4127-e62c-429623c58392"
      },
      "source": [
        "#  Plot mean of the iot data per every day\n",
        "iot_data[['r_ratio', 'g_ratio', 'b_ratio']].resample('D').mean().plot(figsize=(10,6), \n",
        "                                    color = ['r','g','b'], #marker='o', ms=6, \n",
        "                                    title='Dayly change of R, G, B')"
      ],
      "execution_count": null,
      "outputs": [
        {
          "output_type": "execute_result",
          "data": {
            "text/plain": [
              "<matplotlib.axes._subplots.AxesSubplot at 0x7fdc21c8a6d0>"
            ]
          },
          "metadata": {},
          "execution_count": 69
        },
        {
          "output_type": "display_data",
          "data": {
            "text/plain": [
              "<Figure size 1000x600 with 1 Axes>"
            ],
            "image/png": "[encoded data removed]"
          },
          "metadata": {}
        }
      ]
    },
    {
      "cell_type": "markdown",
      "metadata": {
        "id": "YWg8g8NLNEq5"
      },
      "source": [
        "## 위의 그래프를 파이 그래프로 그려보시오."
      ]
    },
    {
      "cell_type": "code",
      "metadata": {
        "colab": {
          "base_uri": "https://localhost:8080/",
          "height": 143
        },
        "id": "Ww1n14LgMyu0",
        "outputId": "c6dbb638-3b7b-4104-a42d-ef3af373ae6b"
      },
      "source": [
        "#  Plot mean of the iot data per every day\n",
        "# df.plot.pie(subplots=True, figsize=(6, 3))\n",
        "iot_rgb = iot_data[['r_ratio', 'g_ratio', 'b_ratio']].resample('D').mean()\n",
        "iot_rgb.head()\n"
      ],
      "execution_count": null,
      "outputs": [
        {
          "output_type": "execute_result",
          "data": {
            "text/plain": [
              "              r_ratio    g_ratio    b_ratio\n",
              "date                                       \n",
              "2022-11-15  33.308227  33.712958  32.931985\n",
              "2022-11-16  33.830122  33.431553  32.690166"
            ],
            "text/html": [
              "\n",
              "  <div id=\"df-372226b3-269c-448b-bd4d-ecb546c3d352\">\n",
              "    <div class=\"colab-df-container\">\n",
              "      <div>\n",
              "<style scoped>\n",
              "    .dataframe tbody tr th:only-of-type {\n",
              "        vertical-align: middle;\n",
              "    }\n",
              "\n",
              "    .dataframe tbody tr th {\n",
              "        vertical-align: top;\n",
              "    }\n",
              "\n",
              "    .dataframe thead th {\n",
              "        text-align: right;\n",
              "    }\n",
              "</style>\n",
              "<table border=\"1\" class=\"dataframe\">\n",
              "  <thead>\n",
              "    <tr style=\"text-align: right;\">\n",
              "      <th></th>\n",
              "      <th>r_ratio</th>\n",
              "      <th>g_ratio</th>\n",
              "      <th>b_ratio</th>\n",
              "    </tr>\n",
              "    <tr>\n",
              "      <th>date</th>\n",
              "      <th></th>\n",
              "      <th></th>\n",
              "      <th></th>\n",
              "    </tr>\n",
              "  </thead>\n",
              "  <tbody>\n",
              "    <tr>\n",
              "      <th>2022-11-15</th>\n",
              "      <td>33.308227</td>\n",
              "      <td>33.712958</td>\n",
              "      <td>32.931985</td>\n",
              "    </tr>\n",
              "    <tr>\n",
              "      <th>2022-11-16</th>\n",
              "      <td>33.830122</td>\n",
              "      <td>33.431553</td>\n",
              "      <td>32.690166</td>\n",
              "    </tr>\n",
              "  </tbody>\n",
              "</table>\n",
              "</div>\n",
              "      <button class=\"colab-df-convert\" onclick=\"convertToInteractive('df-372226b3-269c-448b-bd4d-ecb546c3d352')\"\n",
              "              title=\"Convert this dataframe to an interactive table.\"\n",
              "              style=\"display:none;\">\n",
              "        \n",
              "  <svg xmlns=\"http://www.w3.org/2000/svg\" height=\"24px\"viewBox=\"0 0 24 24\"\n",
              "       width=\"24px\">\n",
              "    <path d=\"M0 0h24v24H0V0z\" fill=\"none\"/>\n",
              "    <path d=\"M18.56 5.44l.94 2.06.94-2.06 2.06-.94-2.06-.94-.94-2.06-.94 2.06-2.06.94zm-11 1L8.5 8.5l.94-2.06 2.06-.94-2.06-.94L8.5 2.5l-.94 2.06-2.06.94zm10 10l.94 2.06.94-2.06 2.06-.94-2.06-.94-.94-2.06-.94 2.06-2.06.94z\"/><path d=\"M17.41 7.96l-1.37-1.37c-.4-.4-.92-.59-1.43-.59-.52 0-1.04.2-1.43.59L10.3 9.45l-7.72 7.72c-.78.78-.78 2.05 0 2.83L4 21.41c.39.39.9.59 1.41.59.51 0 1.02-.2 1.41-.59l7.78-7.78 2.81-2.81c.8-.78.8-2.07 0-2.86zM5.41 20L4 18.59l7.72-7.72 1.47 1.35L5.41 20z\"/>\n",
              "  </svg>\n",
              "      </button>\n",
              "      \n",
              "  <style>\n",
              "    .colab-df-container {\n",
              "      display:flex;\n",
              "      flex-wrap:wrap;\n",
              "      gap: 12px;\n",
              "    }\n",
              "\n",
              "    .colab-df-convert {\n",
              "      background-color: #E8F0FE;\n",
              "      border: none;\n",
              "      border-radius: 50%;\n",
              "      cursor: pointer;\n",
              "      display: none;\n",
              "      fill: #1967D2;\n",
              "      height: 32px;\n",
              "      padding: 0 0 0 0;\n",
              "      width: 32px;\n",
              "    }\n",
              "\n",
              "    .colab-df-convert:hover {\n",
              "      background-color: #E2EBFA;\n",
              "      box-shadow: 0px 1px 2px rgba(60, 64, 67, 0.3), 0px 1px 3px 1px rgba(60, 64, 67, 0.15);\n",
              "      fill: #174EA6;\n",
              "    }\n",
              "\n",
              "    [theme=dark] .colab-df-convert {\n",
              "      background-color: #3B4455;\n",
              "      fill: #D2E3FC;\n",
              "    }\n",
              "\n",
              "    [theme=dark] .colab-df-convert:hover {\n",
              "      background-color: #434B5C;\n",
              "      box-shadow: 0px 1px 3px 1px rgba(0, 0, 0, 0.15);\n",
              "      filter: drop-shadow(0px 1px 2px rgba(0, 0, 0, 0.3));\n",
              "      fill: #FFFFFF;\n",
              "    }\n",
              "  </style>\n",
              "\n",
              "      <script>\n",
              "        const buttonEl =\n",
              "          document.querySelector('#df-372226b3-269c-448b-bd4d-ecb546c3d352 button.colab-df-convert');\n",
              "        buttonEl.style.display =\n",
              "          google.colab.kernel.accessAllowed ? 'block' : 'none';\n",
              "\n",
              "        async function convertToInteractive(key) {\n",
              "          const element = document.querySelector('#df-372226b3-269c-448b-bd4d-ecb546c3d352');\n",
              "          const dataTable =\n",
              "            await google.colab.kernel.invokeFunction('convertToInteractive',\n",
              "                                                     [key], {});\n",
              "          if (!dataTable) return;\n",
              "\n",
              "          const docLinkHtml = 'Like what you see? Visit the ' +\n",
              "            '<a target=\"_blank\" href=https://colab.research.google.com/notebooks/data_table.ipynb>data table notebook</a>'\n",
              "            + ' to learn more about interactive tables.';\n",
              "          element.innerHTML = '';\n",
              "          dataTable['output_type'] = 'display_data';\n",
              "          await google.colab.output.renderOutput(dataTable, element);\n",
              "          const docLink = document.createElement('div');\n",
              "          docLink.innerHTML = docLinkHtml;\n",
              "          element.appendChild(docLink);\n",
              "        }\n",
              "      </script>\n",
              "    </div>\n",
              "  </div>\n",
              "  "
            ]
          },
          "metadata": {},
          "execution_count": 70
        }
      ]
    },
    {
      "cell_type": "code",
      "metadata": {
        "colab": {
          "base_uri": "https://localhost:8080/"
        },
        "id": "iHXiQOJ3hDUE",
        "outputId": "ad6aac06-57f7-413d-cbe1-64f8cd79199d"
      },
      "source": [
        "iot_rgb.iloc[0],iot_rgb.iloc[1]"
      ],
      "execution_count": null,
      "outputs": [
        {
          "output_type": "execute_result",
          "data": {
            "text/plain": [
              "(r_ratio    33.308227\n",
              " g_ratio    33.712958\n",
              " b_ratio    32.931985\n",
              " Name: 2022-11-15 00:00:00, dtype: float64, r_ratio    33.830122\n",
              " g_ratio    33.431553\n",
              " b_ratio    32.690166\n",
              " Name: 2022-11-16 00:00:00, dtype: float64)"
            ]
          },
          "metadata": {},
          "execution_count": 71
        }
      ]
    },
    {
      "cell_type": "code",
      "metadata": {
        "colab": {
          "base_uri": "https://localhost:8080/"
        },
        "id": "-j_JwzWzUMsE",
        "outputId": "011aeeed-4f7c-420d-dbb3-e339042bbf20"
      },
      "source": [
        "iot_rgb.index, len(iot_rgb.index)"
      ],
      "execution_count": null,
      "outputs": [
        {
          "output_type": "execute_result",
          "data": {
            "text/plain": [
              "(DatetimeIndex(['2022-11-15', '2022-11-16'], dtype='datetime64[ns]', name='date', freq='D'),\n",
              " 2)"
            ]
          },
          "metadata": {},
          "execution_count": 72
        }
      ]
    },
    {
      "cell_type": "code",
      "metadata": {
        "colab": {
          "base_uri": "https://localhost:8080/",
          "height": 35
        },
        "id": "njj5inFhUsNY",
        "outputId": "6c95102a-2975-41e4-bbdd-a0c26c42b0e9"
      },
      "source": [
        "# Convert timestamp to date string\n",
        "iot_rgb.index[0].strftime('%Y-%m-%d')"
      ],
      "execution_count": null,
      "outputs": [
        {
          "output_type": "execute_result",
          "data": {
            "text/plain": [
              "'2022-11-15'"
            ],
            "application/vnd.google.colaboratory.intrinsic+json": {
              "type": "string"
            }
          },
          "metadata": {},
          "execution_count": 73
        }
      ]
    },
    {
      "cell_type": "code",
      "metadata": {
        "colab": {
          "base_uri": "https://localhost:8080/",
          "height": 298
        },
        "id": "Z0qbRkwbg0Ki",
        "outputId": "55517599-ee92-4529-ef04-918320567aa0"
      },
      "source": [
        "iot_rgb.iloc[0].plot.pie(subplots=True, figsize=(5,3), \n",
        "                         colors = ['red', 'green', 'blue'], labeldistance=None, \n",
        "                         autopct='%.2f', \n",
        "                         title='Daily change of R, G, B')\n",
        "plt.ylabel(iot_rgb.index[0].strftime('%Y-%m-%d'))\n",
        "plt.show()"
      ],
      "execution_count": null,
      "outputs": [
        {
          "output_type": "display_data",
          "data": {
            "text/plain": [
              "<Figure size 500x300 with 1 Axes>"
            ],
            "image/png": "[encoded data removed]"
          },
          "metadata": {}
        }
      ]
    },
    {
      "cell_type": "markdown",
      "metadata": {
        "id": "GAwnIF7LxcBX"
      },
      "source": [
        "## Weekly graph"
      ]
    },
    {
      "cell_type": "code",
      "metadata": {
        "colab": {
          "base_uri": "https://localhost:8080/",
          "height": 112
        },
        "id": "HtVlVQjtyifN",
        "outputId": "2003e238-55c8-4cd0-b371-1bc3d26e2317"
      },
      "source": [
        "# Estimate the mean of iot data for every week\n",
        "iot_data.resample('W').mean()"
      ],
      "execution_count": null,
      "outputs": [
        {
          "output_type": "execute_result",
          "data": {
            "text/plain": [
              "            temperature   humidity  luminosity     pressure    r_ratio  \\\n",
              "date                                                                     \n",
              "2022-11-20    26.727924  29.272309   88.955534  1009.633112  33.608312   \n",
              "\n",
              "              g_ratio    b_ratio  \n",
              "date                              \n",
              "2022-11-20  33.551153  32.792941  "
            ],
            "text/html": [
              "\n",
              "  <div id=\"df-8c15c82f-b05b-4d2d-8c8b-88ff561eb8f3\">\n",
              "    <div class=\"colab-df-container\">\n",
              "      <div>\n",
              "<style scoped>\n",
              "    .dataframe tbody tr th:only-of-type {\n",
              "        vertical-align: middle;\n",
              "    }\n",
              "\n",
              "    .dataframe tbody tr th {\n",
              "        vertical-align: top;\n",
              "    }\n",
              "\n",
              "    .dataframe thead th {\n",
              "        text-align: right;\n",
              "    }\n",
              "</style>\n",
              "<table border=\"1\" class=\"dataframe\">\n",
              "  <thead>\n",
              "    <tr style=\"text-align: right;\">\n",
              "      <th></th>\n",
              "      <th>temperature</th>\n",
              "      <th>humidity</th>\n",
              "      <th>luminosity</th>\n",
              "      <th>pressure</th>\n",
              "      <th>r_ratio</th>\n",
              "      <th>g_ratio</th>\n",
              "      <th>b_ratio</th>\n",
              "    </tr>\n",
              "    <tr>\n",
              "      <th>date</th>\n",
              "      <th></th>\n",
              "      <th></th>\n",
              "      <th></th>\n",
              "      <th></th>\n",
              "      <th></th>\n",
              "      <th></th>\n",
              "      <th></th>\n",
              "    </tr>\n",
              "  </thead>\n",
              "  <tbody>\n",
              "    <tr>\n",
              "      <th>2022-11-20</th>\n",
              "      <td>26.727924</td>\n",
              "      <td>29.272309</td>\n",
              "      <td>88.955534</td>\n",
              "      <td>1009.633112</td>\n",
              "      <td>33.608312</td>\n",
              "      <td>33.551153</td>\n",
              "      <td>32.792941</td>\n",
              "    </tr>\n",
              "  </tbody>\n",
              "</table>\n",
              "</div>\n",
              "      <button class=\"colab-df-convert\" onclick=\"convertToInteractive('df-8c15c82f-b05b-4d2d-8c8b-88ff561eb8f3')\"\n",
              "              title=\"Convert this dataframe to an interactive table.\"\n",
              "              style=\"display:none;\">\n",
              "        \n",
              "  <svg xmlns=\"http://www.w3.org/2000/svg\" height=\"24px\"viewBox=\"0 0 24 24\"\n",
              "       width=\"24px\">\n",
              "    <path d=\"M0 0h24v24H0V0z\" fill=\"none\"/>\n",
              "    <path d=\"M18.56 5.44l.94 2.06.94-2.06 2.06-.94-2.06-.94-.94-2.06-.94 2.06-2.06.94zm-11 1L8.5 8.5l.94-2.06 2.06-.94-2.06-.94L8.5 2.5l-.94 2.06-2.06.94zm10 10l.94 2.06.94-2.06 2.06-.94-2.06-.94-.94-2.06-.94 2.06-2.06.94z\"/><path d=\"M17.41 7.96l-1.37-1.37c-.4-.4-.92-.59-1.43-.59-.52 0-1.04.2-1.43.59L10.3 9.45l-7.72 7.72c-.78.78-.78 2.05 0 2.83L4 21.41c.39.39.9.59 1.41.59.51 0 1.02-.2 1.41-.59l7.78-7.78 2.81-2.81c.8-.78.8-2.07 0-2.86zM5.41 20L4 18.59l7.72-7.72 1.47 1.35L5.41 20z\"/>\n",
              "  </svg>\n",
              "      </button>\n",
              "      \n",
              "  <style>\n",
              "    .colab-df-container {\n",
              "      display:flex;\n",
              "      flex-wrap:wrap;\n",
              "      gap: 12px;\n",
              "    }\n",
              "\n",
              "    .colab-df-convert {\n",
              "      background-color: #E8F0FE;\n",
              "      border: none;\n",
              "      border-radius: 50%;\n",
              "      cursor: pointer;\n",
              "      display: none;\n",
              "      fill: #1967D2;\n",
              "      height: 32px;\n",
              "      padding: 0 0 0 0;\n",
              "      width: 32px;\n",
              "    }\n",
              "\n",
              "    .colab-df-convert:hover {\n",
              "      background-color: #E2EBFA;\n",
              "      box-shadow: 0px 1px 2px rgba(60, 64, 67, 0.3), 0px 1px 3px 1px rgba(60, 64, 67, 0.15);\n",
              "      fill: #174EA6;\n",
              "    }\n",
              "\n",
              "    [theme=dark] .colab-df-convert {\n",
              "      background-color: #3B4455;\n",
              "      fill: #D2E3FC;\n",
              "    }\n",
              "\n",
              "    [theme=dark] .colab-df-convert:hover {\n",
              "      background-color: #434B5C;\n",
              "      box-shadow: 0px 1px 3px 1px rgba(0, 0, 0, 0.15);\n",
              "      filter: drop-shadow(0px 1px 2px rgba(0, 0, 0, 0.3));\n",
              "      fill: #FFFFFF;\n",
              "    }\n",
              "  </style>\n",
              "\n",
              "      <script>\n",
              "        const buttonEl =\n",
              "          document.querySelector('#df-8c15c82f-b05b-4d2d-8c8b-88ff561eb8f3 button.colab-df-convert');\n",
              "        buttonEl.style.display =\n",
              "          google.colab.kernel.accessAllowed ? 'block' : 'none';\n",
              "\n",
              "        async function convertToInteractive(key) {\n",
              "          const element = document.querySelector('#df-8c15c82f-b05b-4d2d-8c8b-88ff561eb8f3');\n",
              "          const dataTable =\n",
              "            await google.colab.kernel.invokeFunction('convertToInteractive',\n",
              "                                                     [key], {});\n",
              "          if (!dataTable) return;\n",
              "\n",
              "          const docLinkHtml = 'Like what you see? Visit the ' +\n",
              "            '<a target=\"_blank\" href=https://colab.research.google.com/notebooks/data_table.ipynb>data table notebook</a>'\n",
              "            + ' to learn more about interactive tables.';\n",
              "          element.innerHTML = '';\n",
              "          dataTable['output_type'] = 'display_data';\n",
              "          await google.colab.output.renderOutput(dataTable, element);\n",
              "          const docLink = document.createElement('div');\n",
              "          docLink.innerHTML = docLinkHtml;\n",
              "          element.appendChild(docLink);\n",
              "        }\n",
              "      </script>\n",
              "    </div>\n",
              "  </div>\n",
              "  "
            ]
          },
          "metadata": {},
          "execution_count": 75
        }
      ]
    },
    {
      "cell_type": "code",
      "metadata": {
        "colab": {
          "base_uri": "https://localhost:8080/",
          "height": 714
        },
        "id": "-2V_u9mAyo3z",
        "outputId": "d0af550c-8a55-4c1e-c0e3-8686af7d5302"
      },
      "source": [
        "#  Plot mean of the iot data per every week\n",
        "iot_data.resample('W').mean().plot(kind='bar', #marker='o', ms=10, \n",
        "                                   figsize=(12,6), \n",
        "                                   title='Weekly change of temperature, humidity, and luminosity, pressure, R, G , B')"
      ],
      "execution_count": null,
      "outputs": [
        {
          "output_type": "execute_result",
          "data": {
            "text/plain": [
              "<matplotlib.axes._subplots.AxesSubplot at 0x7fdc1f80f450>"
            ]
          },
          "metadata": {},
          "execution_count": 76
        },
        {
          "output_type": "display_data",
          "data": {
            "text/plain": [
              "<Figure size 1200x600 with 1 Axes>"
            ],
            "image/png": "[encoded data removed]"
          },
          "metadata": {}
        }
      ]
    },
    {
      "cell_type": "code",
      "metadata": {
        "colab": {
          "base_uri": "https://localhost:8080/",
          "height": 714
        },
        "id": "JfDPpCrpdKHE",
        "outputId": "1f736d61-8fd8-4e90-c901-4e42ff425efc"
      },
      "source": [
        "#  Plot mean of the iot data per every week\n",
        "iot_data['temperature'].resample('W').mean().plot(kind='bar', #marker='o', ms=10, \n",
        "                                   figsize=(12,6), \n",
        "                                   title='Weekly change of temperature')"
      ],
      "execution_count": null,
      "outputs": [
        {
          "output_type": "execute_result",
          "data": {
            "text/plain": [
              "<matplotlib.axes._subplots.AxesSubplot at 0x7fdc1db006d0>"
            ]
          },
          "metadata": {},
          "execution_count": 77
        },
        {
          "output_type": "display_data",
          "data": {
            "text/plain": [
              "<Figure size 1200x600 with 1 Axes>"
            ],
            "image/png": "[encoded data removed]"
          },
          "metadata": {}
        }
      ]
    },
    {
      "cell_type": "code",
      "metadata": {
        "colab": {
          "base_uri": "https://localhost:8080/",
          "height": 714
        },
        "id": "11rqWBGEbmlk",
        "outputId": "0aa9337b-6d02-4c1b-846b-8e832376579c"
      },
      "source": [
        "#  Plot mean of the iot data per every week\n",
        "iot_data[['temperature','humidity']].resample('W').mean().plot(kind='bar', #marker='o', ms=10, \n",
        "                                   figsize=(12,6), \n",
        "                                   title='Weekly change of temperature and humidity')"
      ],
      "execution_count": null,
      "outputs": [
        {
          "output_type": "execute_result",
          "data": {
            "text/plain": [
              "<matplotlib.axes._subplots.AxesSubplot at 0x7fdc21d7dd10>"
            ]
          },
          "metadata": {},
          "execution_count": 78
        },
        {
          "output_type": "display_data",
          "data": {
            "text/plain": [
              "<Figure size 1200x600 with 1 Axes>"
            ],
            "image/png": "[encoded data removed]"
          },
          "metadata": {}
        }
      ]
    },
    {
      "cell_type": "markdown",
      "metadata": {
        "id": "plwo3ieEb95P"
      },
      "source": [
        "# [도전] 다중 파이 그래프"
      ]
    },
    {
      "cell_type": "markdown",
      "metadata": {
        "id": "J78vRZd9rNbg"
      },
      "source": [
        "### 다중 파이 그래프\n",
        "- https://medium.com/@kvnamipara/a-better-visualisation-of-pie-charts-by-matplotlib-935b7667d77f"
      ]
    },
    {
      "cell_type": "code",
      "metadata": {
        "colab": {
          "base_uri": "https://localhost:8080/"
        },
        "id": "ivUsPCzWcQWS",
        "outputId": "b93311f7-f54f-41c5-c955-3a1c2acfaad4"
      },
      "source": [
        "iot_rgb.shape,iot_rgb.index.size"
      ],
      "execution_count": null,
      "outputs": [
        {
          "output_type": "execute_result",
          "data": {
            "text/plain": [
              "((2, 3), 2)"
            ]
          },
          "metadata": {},
          "execution_count": 79
        }
      ]
    },
    {
      "cell_type": "code",
      "metadata": {
        "colab": {
          "base_uri": "https://localhost:8080/",
          "height": 422
        },
        "id": "FHgZpSWiqdF-",
        "outputId": "5a80f2b2-32ba-4501-d5c4-8abf44128812"
      },
      "source": [
        "fig, axs = plt.subplots(nrows=1, ncols=iot_rgb.index.size, figsize=(20,5))\n",
        "\n",
        "fig.subplots_adjust(hspace=0.5, wspace=0.05)\n",
        "\n",
        "for row in range(iot_rgb.index.size):\n",
        "    fig.add_subplot(axs[row] )\n",
        "    plt.pie(iot_rgb.iloc[row],\n",
        "            colors = ['red', 'green', 'blue'], labeldistance=None, \n",
        "                         autopct='%.2f')  #, labels=df.columns)\n",
        "    plt.ylabel(iot_rgb.index[row].strftime('%Y-%m-%d'))\n",
        "    # plt.axis('off')"
      ],
      "execution_count": null,
      "outputs": [
        {
          "output_type": "display_data",
          "data": {
            "text/plain": [
              "<Figure size 2000x500 with 2 Axes>"
            ],
            "image/png": "[encoded data removed]"
          },
          "metadata": {}
        }
      ]
    },
    {
      "cell_type": "markdown",
      "metadata": {
        "id": "7iRdsQuideDD"
      },
      "source": [
        "### axes array 코드 참조\n",
        "```\n",
        "for row in ax:\n",
        "    for col in row:\n",
        "        col.plot(x, y)\n",
        "```"
      ]
    },
    {
      "cell_type": "code",
      "metadata": {
        "colab": {
          "base_uri": "https://localhost:8080/"
        },
        "id": "yq-3rXwnJoY8",
        "outputId": "999db2d5-ffac-4912-fc2b-99ad95d00e51"
      },
      "source": [
        "iot_rgb.index.size"
      ],
      "execution_count": null,
      "outputs": [
        {
          "output_type": "execute_result",
          "data": {
            "text/plain": [
              "2"
            ]
          },
          "metadata": {},
          "execution_count": 81
        }
      ]
    },
    {
      "cell_type": "code",
      "metadata": {
        "id": "rBrWEwN2uyb4"
      },
      "source": [
        "# fig, axs = plt.subplots(nrows=(iot_rgb.index.size-1)//7+1, ncols=7, figsize=(16,16))\n",
        "# # axs.set_axis_off()\n",
        "\n",
        "# fig.subplots_adjust(hspace=0.5, wspace=0.05)\n",
        "# idx=0\n",
        "# for row in axs:\n",
        "#     # fig.add_subplot(axs[row] )\n",
        "#     # fig.add_subplot(5, 7, row+1)\n",
        "#     # ax = axs[row]\n",
        "#     for col in row:\n",
        "#         col.pie(iot_rgb.iloc[idx],\n",
        "#             colors = ['red', 'green', 'blue'], labeldistance=None, \n",
        "#                          autopct='%.2f')  #, labels=df.columns)\n",
        "        \n",
        "#         col.set_ylabel(iot_rgb.index[idx].strftime('%Y-%m-%d'),fontsize=12)\n",
        "#         idx = idx + 1\n",
        "\n",
        "#         if idx == iot_rgb.index.size:\n",
        "#             idx = iot_rgb.index.size-1\n",
        "        \n",
        "#     # plt.axis('off')\n",
        "#     # plt.axis('off')\n",
        "#     # plt.grid(False)\n",
        "# plt.show()"
      ],
      "execution_count": null,
      "outputs": []
    },
    {
      "cell_type": "markdown",
      "metadata": {
        "id": "3wvbI6pXnfCs"
      },
      "source": [
        "### animate pie chart\n",
        "- https://towardsdatascience.com/learn-how-to-create-animated-graphs-in-python-fce780421afe\n",
        "- https://pinkwink.kr/1090"
      ]
    },
    {
      "cell_type": "code",
      "metadata": {
        "colab": {
          "base_uri": "https://localhost:8080/"
        },
        "id": "T0r-hoYw7Svs",
        "outputId": "512eea56-b422-448f-c7b6-57680f0bcd06"
      },
      "source": [
        "iot_rgb.columns,iot_rgb.shape"
      ],
      "execution_count": null,
      "outputs": [
        {
          "output_type": "execute_result",
          "data": {
            "text/plain": [
              "(Index(['r_ratio', 'g_ratio', 'b_ratio'], dtype='object'), (2, 3))"
            ]
          },
          "metadata": {},
          "execution_count": 82
        }
      ]
    },
    {
      "cell_type": "code",
      "metadata": {
        "colab": {
          "base_uri": "https://localhost:8080/",
          "height": 932
        },
        "id": "0A5SzUM95xkI",
        "outputId": "a18b515b-999e-4150-e5e9-05c16a19fb8a"
      },
      "source": [
        "fig,ax = plt.subplots()\n",
        "explode=[0.01,0.01,0.01] #pop out each slice from the pie\n",
        "def getmepie(i):\n",
        "    iv = min(i, len(iot_rgb.index)-1)\n",
        "    # def absolute_value(val): #turn % back to a number\n",
        "    #     a  = np.round(val/100.*df1.head(i).max().sum(), 0)\n",
        "    #     return int(a)\n",
        "    ax.clear()\n",
        "    plot = iot_rgb.iloc[iv].plot.pie(y=iot_rgb.columns, autopct='%.2f', label='',explode = explode, colors=['r','g','b'], shadow = True)\n",
        "    plot.set_title('Date\\n' + str(iot_rgb.index[iv].strftime('%Y-%m-%d')), fontsize=12)\n",
        "\n",
        "# import matplotlib.animation as ani\n",
        "animator = animation.FuncAnimation(fig, getmepie, interval = 200)\n",
        "# plt.show()\n",
        "rc('animation', html='html5')\n",
        "animator"
      ],
      "execution_count": null,
      "outputs": [
        {
          "output_type": "execute_result",
          "data": {
            "text/plain": [
              "<matplotlib.animation.FuncAnimation at 0x7fdc21d7d250>"
            ],
            "text/html": [
              "<video width=\"640\" height=\"480\" controls autoplay loop>\n",
              "  <source type=\"video/mp4\" src=\"data:video/mp4;base64,AAAAHGZ0eXBNNFYgAAACAGlzb21pc28yYXZjMQAAAAhmcmVlAABI421kYXQAAAKtBgX//6ncRem9\n",
              "5tlIt5Ys2CDZI+7veDI2NCAtIGNvcmUgMTUyIHIyODU0IGU5YTU5MDMgLSBILjI2NC9NUEVHLTQg\n",
              "QVZDIGNvZGVjIC0gQ29weWxlZnQgMjAwMy0yMDE3IC0gaHR0cDovL3d3dy52aWRlb2xhbi5vcmcv\n",
              "eDI2NC5odG1sIC0gb3B0aW9uczogY2FiYWM9MSByZWY9MyBkZWJsb2NrPTE6MDowIGFuYWx5c2U9\n",
              "MHgzOjB4MTEzIG1lPWhleCBzdWJtZT03IHBzeT0xIHBzeV9yZD0xLjAwOjAuMDAgbWl4ZWRfcmVm\n",
              "PTEgbWVfcmFuZ2U9MTYgY2hyb21hX21lPTEgdHJlbGxpcz0xIDh4OGRjdD0xIGNxbT0wIGRlYWR6\n",
              "b25lPTIxLDExIGZhc3RfcHNraXA9MSBjaHJvbWFfcXBfb2Zmc2V0PS0yIHRocmVhZHM9MyBsb29r\n",
              "YWhlYWRfdGhyZWFkcz0xIHNsaWNlZF90aHJlYWRzPTAgbnI9MCBkZWNpbWF0ZT0xIGludGVybGFj\n",
              "ZWQ9MCBibHVyYXlfY29tcGF0PTAgY29uc3RyYWluZWRfaW50cmE9MCBiZnJhbWVzPTMgYl9weXJh\n",
              "bWlkPTIgYl9hZGFwdD0xIGJfYmlhcz0wIGRpcmVjdD0xIHdlaWdodGI9MSBvcGVuX2dvcD0wIHdl\n",
              "aWdodHA9MiBrZXlpbnQ9MjUwIGtleWludF9taW49NSBzY2VuZWN1dD00MCBpbnRyYV9yZWZyZXNo\n",
              "PTAgcmNfbG9va2FoZWFkPTQwIHJjPWNyZiBtYnRyZWU9MSBjcmY9MjMuMCBxY29tcD0wLjYwIHFw\n",
              "bWluPTAgcXBtYXg9NjkgcXBzdGVwPTQgaXBfcmF0aW89MS40MCBhcT0xOjEuMDAAgAAAK+lliIQA\n",
              "FP/+98dPwKbo+WbLnUU9ITCK2PpIKL1Y7NAydQIW/8ahUuZgG1J8ac+LcFGsXwEjuf/Cbw1/csQT\n",
              "oywrK9W5aIQpZyqH+2ToZsKhGlD8f82bXJeLgAAAAwBE+PIfkl7VVFOCrzT1eFjXUtPiS7P1x5uN\n",
              "CH+QvDOYzFBNMrg9Kwxv17iORvQj3GF7b7zXc/TkYnakp+P+I3zel+s1PdmH8o7LyG0UU7H1z6mS\n",
              "Ui26jaSbs8S5d8zi06ach0lJ0oY2VyPliViUDZlaizGojCbsT21zyOHvuy5BvbJQ8xl7e2hyZKv+\n",
              "YLesISISaCz+TPsq1AjPv2PgAzIq5/kct+SZ8szK/xo3CA7tsVVexKrnFqTfdGqWbnbb0913U0cF\n",
              "/3/IOslFK21CiFvnZpUlZXXBWSBiaQYBBe2Vrzy6K6BcPcxubEESkcpkWPzkhbvfkjzolVgsMVpj\n",
              "cV6TSLdVHyoQwMN9NP4wVFehtou3+nfxtlUX7CfbQQ1/tXoHqGhBpRxWKk5y36dg0Yt1bdfbcIAA\n",
              "Bzw4LpifFE5OQcC5WzXwi1KrNVB8F2CNAc7+OVpQn/Zpmyf0djiTBWAw3HForKnJKouJNbL1IWwP\n",
              "zRbOAqgNni5RPjte/nDRLmTl1+BbtqNDl6qRhne666KpRKJMOoHySmT1MwviyzEF+sHGlZmrE3yW\n",
              "dx/EaMvSFr+N6YPdvEKXRUV0t0k6TKWwTvyI8Uo4gfr+RVscr/YdTM+oOqDzZ3e/JFVRjQGEJ5iB\n",
              "kP/lYGzkFoLGHCCL/nDPGUbgpZtdrdF2SNuHh0JjB9XEu4s1jbfrfM8OncFStra1K98898mm3oHN\n",
              "pC8fmk0lst1n+dMA2ro2IyOM37maqJ8gzkPagbzwi6992atZclUHYOOXbbw/2ie/w/wQI8aq+Fvp\n",
              "Ch4ZZUXVOEnCRn5fNCZI6Q+Y1QkvZ0cuOSv4TbXiVT5uReg0fv827BqhJEDfEFbS4W6QjEeHreVF\n",
              "zmf2yXx1XUVld3Y3HnLag+ySqRPE2Hyuqs49mMTiiPnM/nJJVhZcYQq30niPJEYG5Lh1Od3nxjqF\n",
              "N7ODFdic91ISDDh8ZFphaemNS8/imSj+W5H4RttgP+5boerkAlM8swVzvP69nJZoUNpqkazbI8Jg\n",
              "g4fQrIn51XLjDtISP6xiqXM1ucr6ajzwo+x4OVuni1gj7SCrw6NOa7c66t7gpJZQWkBurBJ77MkQ\n",
              "79GriCrk/B+Ze4y90RI5nerQ4BztZFCX5tNINVu2PFjpdlLR/w38gYb7m/smj++r/QtmOgD8SyiY\n",
              "vcajfXSjm//LphY2LK3ta46f3vhaZIgG/vQ6lqETAkNXQ/yuwBI/g9qf2xqrtDrRrqaO7RLoZCPd\n",
              "qW0x8uwMv/qtctOaXMhUHD6lJe96YImBUyL6idGPmEnN3Fzr62anw3YXhmNqzKByVMYckaaTDz2f\n",
              "YpHuzR/w/kjQ9d//+6PsJc9fetN4Xf2U/kXHKPSbzc22kD5v6hgcLoVWONL0uLg2apGVDGHxjs/A\n",
              "rqE2rjkKvhp/+hf4sMHtsBVbHPAt4hRxyW88nY1wQ1Zpm7W9CTtzbsgyzoiTf1ucuxXSjEooxGhp\n",
              "yiQMj3IdBut3Ad8+jAv2Z7/hPM9aLWwCREo9Ns5tVubLGCAaem+hrCEnwOnx7qWNPjaY6dx44/uu\n",
              "C20hCX1cjWY+GBe/PX6JUzP7BWwCXTgNd26NeDwD6vah3Jql8wINQof6MWiB/vFzZanwa12mTdMO\n",
              "syx6UJvlwLJcAHoSUEzpHWIrovyVSL8NvT7LoOYDlXl/6f+Qk9zyuBg8QzBiZRPGRfWXeRdMQ7Ww\n",
              "F1l1Uc7L4iFmgeVTpv2YMNvLAlbQvB2YS8hgXEUZf0gRXqbKzdkYD3URwLSmd4sIx53pV7T2wMLr\n",
              "8lY1OQ084gsze2TLQ1MasElqY1UGafZTM9QTdK9U22z0uIENAsiBLRLguSfIaZjVkhbIrMGuTmsw\n",
              "go76GC4uIE9FEEkYk/PbDa6uwUoKSRODdZam0wzqE4EBT0PDbxK88AtlaYmmxvu/Co7wO7YVJRGl\n",
              "xS993DGp+q39RFYyCOoaGkH95J7XbLWepelwnThReM6WQ+HnHaMH+c1+h64U++Z1iu6eTQCDLX0f\n",
              "7e4/vURVeXvNk6N30ZSGa0Nh0gLXEe7/Rkx3/Pbf/gyXTtwv9PvPpzFWKKiZtLa6k7KWNGrcFWmz\n",
              "i70h7p3BVt844jp0rAC5HqbiYynGPXqbXbuAE9roBNxq5t3+UFlaJCJBh34cL/5EQQ+VODo3FfOa\n",
              "rTDG/Q8gZrzkNjXJ006C/BpMOcJNAXw8QSRMQ+1mrEf7FeQJt6VU8GvB81FpTXwBzTG+BMObXujn\n",
              "JUMqPdydZ3rmb6jWsg7eVg+87WLof/gmUcyzC++O6l0r3TpJ5UjS2/GXsa0O1eVzPeuDjjmO+kMy\n",
              "KPpgqRkqFNaxDKNVaHPmQqP3geX6xiy+WG/4eduBR4E9B/3gDuDlIbhIuSLxhRMdTaxHZ7lfif4N\n",
              "GkqMZcEgOs8qycgJnYqnT+KvmyvGlCZrbb4956uu+N37K2FTLuF0Ww46XQz3CK9k2UxOrS1s5Ipl\n",
              "/139+csxkJ6T9yfHHh9SUvLuOiGhWL49cMYmJKC8/DBIcgSJOL/ICddDe5xXYsopREIo5BduN4vg\n",
              "lZwu2AMnwl3tgl0C3Rs1mYyDYbcZhS5VWeInkJSU440gxtRBFlx65vdKgTyTQ159D/dbyNfd3yF9\n",
              "xQSmvzR14y4afjL58XDBIu9TYjhUybXdw7iYluqJzuRsA6k0ODKwqmxSwRzihPDdf3pB1wH9sFoW\n",
              "eyi0UH4unNt/+kdktgtMxOr1HOHj9ufZAXVinetT46qwhkLr0LFX2NOxT/XLJNO+58YVNtP/XbR4\n",
              "Wwjuo3nXxO2QiKMqzxqmVxMlPNKCRka/RK8W6aYqg685g24JtTnNMnVdI4k5jwD/tSsxOeU1/iqL\n",
              "ajydVoc+eM9+I3IICpIMtcwIfwSbGA7iI0usW25QbHf2F5ALE1qhBw3Zr9SEjfF9FdoZd4mHS9VD\n",
              "pjmke/4sE3xib2WTSWG0EuJ9wm0LCxvfDPcFT0t9zz4dbSYrixSMYGsHYnE1zuHlMXpqTBsaUWCe\n",
              "3TtOrJX3wIo4IgYyfmgIGJK0yoPnY+QjyuJMWSb9U4GGmJX42Eb2J48Y28XyFJZs5XkEr5riuZiI\n",
              "nGt0nrsWseCXqg6f+AUrfFa38bYou+sob5W7DPCGJs4c7vCWb10SOk2NI8owFhfeUbqCNxRocNDm\n",
              "1fhQ+d/RNcViHenhZgcABqxwZo6kx2b6gvO02baSkMbSlPSPB+8jmzxFL6CGANqH63GvJ+qTrYhl\n",
              "kRu/wCIKPFM0IiypktrchqcmLNu5+7WlG+XxJ4GD2qwprkUlmbXWFcg0+WHuFnyr+sl0NWArZa0b\n",
              "Fkh+fHafmXTMnq5mmz+Hg+ngK4ZJoREp4yn/KD87ndTNaJIYyGU1cClcKNYV9jJ+BTA6jl7f7eUD\n",
              "E9rpdvHGxdggSyxGIyb59AES++lkk2XNbdEmxA8f8wxLWfysnNMeuFjE3FaglLjq+Xg9FSXkWgr2\n",
              "n0OIpnAh994WN/+vGXHLLkVHEUdDCISxZelkLxvlADt5a69cduTD103cnkF1PFklk6R9JJg+a0sN\n",
              "mMe2SUuFYUVAvAWMG6KYY3WH7UisUaM6nDM6ZNEvLedsNTwGrQeDHnisys6/4CSHgKggUJFxUnwJ\n",
              "bssd1D21dVXg56qxidG1GYUs6lcbxxJlqrZ4udHWIpTbDCZrSKdZotu+wkmLgL3n7JgQbKfjP+WO\n",
              "pe3zIzK5f46zwUoDOwQARvqB6pYn1MgREcrPj+9kRbx9/m3D7JqnuTDSn5DOyQ75JumWzY2EnX75\n",
              "eXcXaRBQty0Bu2tBiDZHmh7W/bknH7GelVjESBpDVmz1ebV/KEDbjW4TynnnYMe2cJ3B9ibO34dr\n",
              "7ilXiA4exi+BGkeDMmXVMWUkiaapfFX+PH84CdEVXOXPTVC8UiXg4km9sMjvaarm6gIOA5bKTpG+\n",
              "5MXEF6RLA4dvvQc9cA1T3qDnMepgrQ2AdBJ8Ulhv1hCJc5DeNYAIxOh8tDmhBaOwAD/Lxd1TjuVa\n",
              "X0wRYpb5h7fs3dEcKvU4IePgxiRvRoyYO2TXG+t/jAqqMv26KKIqYp5yLdcDTXpHj2Zcp468A4bE\n",
              "O7C7zu2eWv+dmZm/EvM6VCKrzq1OMU7dVbPQ0pv6q0Q5NbMxZ3wEeDMRo2asOeI9NQG7QVA+9h8o\n",
              "vUYwFekoNst2tpcPr6b70iWwgI9dJRnP5HX9bg6vSXQKptEYOe0dPML5cEsIeAABhcLthiE8g/P+\n",
              "u0ABZq0uceaIfxAFsQC+pMx8d/EmVoBI/b1slBTLKd6QU4lsthsPKEVy9/igfMfJmlgjOlqFAbnp\n",
              "kKyrrGgEL3I8+GxDhreTEWGO22GsriLQ+ZgGv7m4MRmSomaR7JxUXdw6tTV+D4eoEOTZSpXzMqNO\n",
              "RGUiQyYy+JZX3HSLHCM4vKVXHZfYZiVtolSvlkUn/sE5y53HsagzLNdITtz3OVplnRaClvqBmGsM\n",
              "Ceig+0V1G6N88Pjw58iWsepOQWsx0MfSkOXEWEbBruzcElZiflFOi/+vMaVNRykV13ozuClA0k+1\n",
              "KKjr213qKkTCieUkvrpTBDzHOWFHKxSGlwxdjsWpSN+auVo7Ji2W8zEVuwnf03V/PgHQ4mXB6ULR\n",
              "7yhYzPca6ILb3UfA6G4CQkGC2Os79/4IbMXc7GunGwCatLR0cc8TUWKrTa3vhsS+sgpV+EVFTEU/\n",
              "5XErhyK10/516WaCt0qHH6STTSqYy6TSqDGxb4VVp4hQ4vgLJiU5gKz+uCMyPBlDhemiD0YpCedF\n",
              "bIEQR310DGlhQ80OqrtMtRGD84HSlAX6yzNtRASUCC+3vSZrLqG9hl3AgugJsdT5jNSTYqypAscV\n",
              "JWPpLHS78p+wcemLF1PbsHwVx6CLkbqb4/+Am8WgQNAWIX2+648SljnrU/JlMWP1Oa7Ro8UydqAF\n",
              "aHq2dCSTH+mbYRhP30jFFL5bG5E3frmwgJ+Qtx0VEgnTOb8pK8BdphR2DKFRHTxfLctsur+I2Qlx\n",
              "OKTEhW1irG/91r7/DeBf/uQfJ3nPmi7cj8z9ZqIxa+kUQWc/FOQuLkoef5Sxes6UuOJhdjE78PBD\n",
              "3nieOsLQ6aFYZwnsMBLxy9BF4XrcsaXvlKgThwdDXndJTQg/8Yvx2B7y/lqQUdv6JdSazl5sSz0h\n",
              "JoIhj97o9rJgpr6rzU3O/s6EcpkZIZ1XKJqe/on/K/xoAAHs5PNBzIvMtLURItwP0FwLQjAj8E1M\n",
              "+yXNRdmpf1GSlTlUxn8wxetI/5CptvoWwqvW0kmTVuVuXu/DUC7TR16wL1wQ1QbyTxTi2p3XfXzc\n",
              "Te2aAjn6w1tCCJ5C4DVvZrHSiv8+ffn6r39Qgk2YiXD2COlI3W/hljmq0EpPSr/D3FE1pWfMXIil\n",
              "HNJu2Si3y3Juq/30v6ktpqLrL0FY6MKyBGE1WfDrnyTa7HgddOTktGFE757h0BC9LoUTZfLQrUh5\n",
              "wc5M/ulZFvNnB45btNhf+7JKR7rQgJiQZNSF7IDYguN7UjFB+T0+hVmOUua0vp9A1aR1/eLDXO2b\n",
              "QT/r+J8anh70tdPAszrW9kVeJybPm8wqSvSJgwV8MlBczC/adJvRCTNiU4jGGKTiUQo30tVgZocW\n",
              "r8wXHPRM6sIcPiVprfEqnWjqbNqjq2ptKc1KXV+tClxEsn8rcr+5bhmIRb3NeBil+ASS5BMg1WkR\n",
              "Vlk3cPEG5Gk9wGOM9piQa69VwC2+btnv1B3IuL94IqUtgZlwjQ5g/Ov1169930riZfozFY6Bcuch\n",
              "+5/4xIXBoYFEIoUWMydDqxdmM4ikHvaQR0zkM6+IeqPbeMNsS4EwDZcE5/fk0PM61tl7gtbY0SKi\n",
              "+hhdVwzE3ycBN1Cpj+rTYuHyo3eD1chfU/Lx4QgdYUxZlPTh4O39PLb1g8mGRs+PEA2mtTKRbTGT\n",
              "CteUWx2ff9CSK751/le+WzFU4WKObNM4oj3XBcSjRr/jtr2XIJ9aNjMFfYVs5q52+fhkoVHAOmvI\n",
              "jcYelVkgceL2BeFSaV4Gdsr/VrbMb8xtpOvr7aLd1rk0EgRN/NWDIrPCdpnDnXm7Ut/rO58UHiFy\n",
              "20nssNW/3v6crp7U3ujJBDrcrsPI4oQ2hUjlfdu8QU/s00MWCMBUGBnFYxpCqDDpgfiud3Fu7/mv\n",
              "ZJduuaTR+RJxKsfkfA/qSvxpCkDhEKndjDJ5cktAxah9mNfOnhOQgQjYid3bQcUCmEUHqEmH/C8j\n",
              "S6ziyjCI5KplqV5AT9mFUUN2TehvX9SPAxYEEhQBmWqb0oy99/EkYBV3O/5xN00fs3lzQAQBaNuz\n",
              "reZAswSuPna0HqyOdpboiHdUDmhsdQYCL5UGcaPl6YjHbSt8s875ka1LX1qnK3/Vky2yUbXaiMrv\n",
              "DsCCIRGrOIl1dHHz92Yp7TTpdEX3JWJ0z2YIHiApcev07gkwj/SflxfgGuoYcGm6N6xvC9Zx74Wo\n",
              "jVoJ+o8BmWTSk0oc6eJDQ1ObqbiMJfsCsaqESmbmIV8dib//IBsrDelfueAmVRomE6QSxlOpjAZq\n",
              "9XAz9yyS5VW8RbjEgxTH7b64AwOesIaRotwYz8hsWWeTTv+s8DRYUcIJZpc/K/IfXacwf6Pthsa9\n",
              "RDJ/dzk9KfoDI9+eL4tiTOBRD2gkeCd8oPZazUFhBnCq42h8QCF/5a1oKXngl5G4r0yJ3d2zcApp\n",
              "ECQKxxVUGQWp+7E07K4NuOJKW2xqt8jCMWnKPafvRG9taZ2FYbpRIWe0QJpGNkyXRArRHPH8l7fG\n",
              "ewucUevF6fi/k/F90WuzOsEhu9wxuufScTnA1t0U9xT3ho4BxETrDyoyPWv10Xd+EQumfB4GCm5Y\n",
              "FaDONOWWYBXRl/ols/ZFa4+JF+AW/NY2BKFbCGuNE1qLtO0IBiUE6w5QAwendl12lEUwPRF09ZS9\n",
              "ITUyd5U8sPDDf9EITv9mYNKMUi01V3Ux9JGcZscFQkJP4AdByjgTNPg2BhLVeofa4XV4OivyOKNW\n",
              "i3U/oXUtTWIoZt13A7O6RYMO7R859OLndAmgCTkiks42sE6ZMHqJ/LKat8rNr9yyRGjUTCgJrzQF\n",
              "HLzmpbwdvdp2RSzk52y+cULkdzMy0Z42ITEvRUcKl19EoBupJHP91H5lIu53ZKOlJl/c885sqVRU\n",
              "bd5Ms9Pskls1NkliZNxjAtV052fydsfSZfOQ+xJI+wDYqZQQDu4xQxa8h2a782zvkO46viRTRLoR\n",
              "56vppl7EagAfDBeiWw1VJROaBP4RcNhfNgjqYnNm/o+fL7PnDzV6yxsQ8hMaeZdBLf41tUXEhvXe\n",
              "Pftb2wBO8bS6xB1pjbnkOrSBQprzEwTWvOkGTTkn4pCRiLoczUCxtO1Zvw7LcglpeVlFmiZOQ659\n",
              "gCmR+1hzR9A1Sm9Mkgd3Nyd+1KHnykU2G3No7S0tKYezbxWTzH9dk4WCuQmOHsxS82O4AhAOAhZT\n",
              "ae03uteUGIp3/4OG3291f8g+9LFs7tF/3aD0KfREhLr+rLp/65gKUp6mbZw84eQovu5rqKWXOD6C\n",
              "QBbb1d23lbIs3887mYLlduESxGXQ5fCgmPAiKqCKZcS8xLN5BLYSbrvXo9EIuT64SiTl4J7wsmOm\n",
              "oG9hVc0k04hvwKH7tYEfQnwUuLZPRS/YurFh4WLvsRnQYXc4KS0z+PTJJVnJt5Bml9vnan7VhGbC\n",
              "2Ju1IlWMQwQRmfH4agtfdAGgH4PJJsy2w3eerIGfzmCsE6qfNUrStVZ60Sxx/wc2Sd4ynGMb6OG0\n",
              "HWWPkFBHHSILidMTBPNgM5KlNki4OPOctz7fViZgco8tq/Ot3JYj7BCro1ZArU5Kz2ZXwPBnCa8Q\n",
              "tSaFudvj995BYg+joHze+79BQM4LQwNJ5XHWU/TLFAqI+dC3rKBVz0f4Se18qGiqdR9MDZ/vcYO7\n",
              "H0QC9MjlVnePA0VcpR92T8IxurkUnpXuq+cR34ofDsu83UWx4rXe+ed90LtcfN+aRRIjNB1Pm3do\n",
              "j9Ux9GMZPVBVzVJSIgZv6FWNMVsjrxmAjAbBluhhB8Kw0pX39RuLGQKNjmf39RsXgHVGggAxkHgK\n",
              "Mfwh3M/5VQ1UcNvJrkaof0a1nZOi/kixwoiGPVf5adphHo9E2sQ/hHSWrnUFCCvj7rqqnu3YRgVw\n",
              "MbaBXbveq5zZPy4cvVPzbVGZ7uLEzUmADgHPyl/xRWKGFsArm+kJFZwipHTcHs3DpaOd7pHWqSve\n",
              "9co8IAZuZ9IaQvfLhuVZgZ97bp36Ef2WdKHG/pPdrB+hyTzpMNjq5zYCewYmwnKwrddK7jkencva\n",
              "K57JigMH/A8yL9jA8ZXbG1hzsgwLFcxALhj8bxZaOJ6yHsfHxRucCy0mWecQepbFNmYfMUM/HjgL\n",
              "I5vh4fJBe1gRbRFpy2dfl53a+Ks5Tnco5vRZxkto+vuq1lIETMSgtWHiNx3JmlD8FZPZgu9j+EtH\n",
              "TYJgrPRmnan1qgwy8PwEIWr4Pn8Qt6ICwGDmmvPgD/B8s8szPMb+kvZcxydRP8RFBBMDRdd3yAUr\n",
              "X6v9OQOrxsJ+JAFHZuVoNSBj8gsbNds8vtm/ZZ+PtLtsiMC/L3C+005xKk9Rfuf+vuBua5EtVL3K\n",
              "NDMkbJleXJOIvCSW9Sdxz6VHUfaDXk4vUF1uQFMk/XX6hEK/IEIkQ4pMaEvEPDHl4zE3lUc2QT7c\n",
              "pPTh+RmPNLfR10Bxp60d0L3DMzvHMWTr9h0sLwXrq5EoBVC7oO+34vio4HhsX6ASO0hyrVDZ6mKw\n",
              "dFJ8FNELAwb/hq74aKMxjElK13oXwZMuYwh4+vcf+Rvq+6p6z0HhtTPegDf/mGzJaF5MJKqZztCz\n",
              "n2oCqSuiH8CAPG3Jtqo3j0tNYqTMJysZ1rVu7F9LAhUU2eG9U0kszIOwnFO5CdC6iRi2GSISYgP+\n",
              "CM9F/xfuJ3XoVvZ/8oo4fAcfRzdYjEaiSSTmGhuJ3dAKwYgmkQMKPESEpM7KnRTXJsD5S5cV4KFN\n",
              "sfsxoohxdbc8Q3R+Imc4Sv782/FAC8aNcfnEm3NL8gFbhyYzX6tlDRh9tUbJ41wwI7tJF6LVOEvT\n",
              "zn1hXTkGGrVKNN218GM1JE+yBkUP8hmb6eUmUB+X+U1s4hYWuLkk28CwJXy19n+ojEnzHXbTZDM6\n",
              "+ZnA8cKE7PoG5H3G4PE1QnvjGD0xlusTIaULu8c36NZ3OHXjRMSqpiels0BiPJqyKWmIeAOOKGGY\n",
              "N4C9k4V5TD0BClcfWgbS0pu2GIkdlGOoqFJsbUJxDR9QGJJ6ZpX1PcGTtWs7cIthdMzTAiGM3J3k\n",
              "8Jj+6uFOzMo3ZDq+d3/Vr8dopMYxxMLVxvBPGa4MyTcShZliAB6z+c2CZvrfDnMp6ybToZtgy/s9\n",
              "bNevb+CuvH1h6WXezCImlPNunB0+zptJl+56w/O85EQg3o3bN39qRMWkWbEXOwnhNFunioSjrjcI\n",
              "NFMd5iRn3LbAgG2QACx7NrlDvGy7E1B9sBkugwdTcIrDF4vWTUPqEeteYhkM33+pNAYVbRZ1+cw+\n",
              "9pEtAAWAwwPuekVK8Ck+7QS+M13x+X5o6lOAjNU/uHXdqDgbiAOLZ5qfXcDQZZtvylQzU0h8opYL\n",
              "cZ5a+UIPcfxYv2iAOn+VJ3zoi4swiGzWWgMwvXFDxMCeMnP4gcOib24BvGlYSKFFLhfhfMn2EHje\n",
              "dLVVdHEvWAaAej/6YKQvLwlhzstk8tGxs5itLFJ34B++EANrqnhq2NG7RtDYqgAFESyB6B+b2K+C\n",
              "XvBjirLKq1ErhNzQU3guzrBYYQw+O+3QplBdQggEsX1PrSxpTRzHhBJBuMxd+9QNIq6dZY/siiI/\n",
              "s/wqK81qzrOsJMNG0wru4VudyDDx1YluEGFVw3ImMxdSbgMYsyzzGXxJ1DdgZAx1sXFQs4PMUkgP\n",
              "169a8c053ivichg9GI1yY/zyS8FE23TCZem9PCet6DYQ5TwlTM/S9TvYC5TaVsnxfM6idLkvTMqu\n",
              "/JxM9SMvjt2fcQDyCyvqS2ZdbtEPjsgFcDs2PxdwmlHG/PzqqPGZ9NgdweyExwmicaG2nM4DrJpY\n",
              "M7X/O/RK0hl8HgCTw9ShNujicZhBwJQ34tX9HcE/rCkyojNQK2/cAMwhHjSe6bd4dSoM7alKV7jv\n",
              "iZfdUttORH13dDzTYMCufhaolF1PUWjFtl/zMT+V83CfzFcZiRT6U1K/psC8jTJg+X4tmj7b6gqm\n",
              "JlaOYwMCjygS+Esx0Sz1yboCyr5nS4pnE5OFw5Nb/fSUeW+VpSyCWLy97IXgooNPGMn5MXVtKAaW\n",
              "lK3XQ1mgkzP5YtR1RFkOp9JvxbUj/B6NbuOSzfYBLVnlc21VyHG6P4HO2TqPNEoFg1WvZEi2AiUj\n",
              "Qec5m3iKhpZyRWIP4co6ATHI+6HAmBSQg3TS/qBabFzBvRPVeQL7VZmkSzyJyxBbUp+QCl0Wujl+\n",
              "mEVKtmE957jAuXgYZD1NsysB0+MEwXGbkOQEPT0iJhJZ3Uzf+VfJpVFb6QTSddWTyWhAS6lEtqwA\n",
              "9eCns5Vt8MMoWz9gdpEWqMN/VBqG1u9wTmDugG0mDDKZhI3e6z+5bgK/FijO6dXhUboMRGVmea4A\n",
              "calSkNbtFHo+w7/V7gPbrTQHK2KdZAxR8/59/4ULsb6d8122OFNxpQ7qgQ01REFWLTe58kLww4wR\n",
              "QMhXwBCDMI/ZGgKhP1pD8iFHoZhfBC/Ve4d7Uh1SFcfeKpgTbuvEbkIvQNbZfAC2qbhHdRiOAbJZ\n",
              "MKXWfRxcv3+uYVzsege51EQCR0kcTkW6wKWXj2PY9Kjota5BS0BfiJPg8dvyoPPUtnIvNU1l0a8L\n",
              "46J3zE6mObI9Bxmwhp9pzJurCoRbN7e3jQFMpw9xEIPvkE8ioudP7RkRWzEccbncegZEcSFiF8dq\n",
              "7tvXGj32Vx4Lfj79Xc0u8qLEjN8E4vEE0jcZfFFtdrNpT9zj4aa2dNkRKiLh8txKwlpLtPGCxDuA\n",
              "3KvgYWU3nlMHl2SWL2Z64kpJBVV5W9/fsBMFgFpIL3cj5SPbot8yzDc6rgr5ZWB+9DnsH7TsTMLN\n",
              "VUW65bDAuWci3nR+YbW8fHPwHEGQA1XM4Jqom5CtLGvoQfEVTB75Kg+LQ91dNp6RAGtM70I38E5O\n",
              "LpXXXT71x4dAmjoAXVvBd+TYNr383BzoxdGRW2N/pD1zpoSo6V7E03catheWtrdItVcrFrSKgjiy\n",
              "pVoJIN9fii76pCNrWTnpkD6mYIjmFWT2m1ZXQJMQpFkZoCgI/kASS3KkQ5oK660uIioc02pW1iOS\n",
              "GVJoTZRZXH9U7eLs7h/YTaIIleGY/EFdU9xcIbWPgl5JaRESvxEejqeODbhLBKPFaPVLrZn/y+7v\n",
              "h0+GL/azknCPomqInUHWx0LH15a7GyEeV5yd7QKRNpoGvEYWGt+iYqCL5YcG6RHVZeVGHBIiMlYc\n",
              "2tpx/fRd2t6enquzq5yots/8jQkgHEVeu/jTx2Gd6zwNR9MVK7Z/VUMyt1ZO9MqCANXiE2uj+oM4\n",
              "T9PVWnGXSsouWHuFm2LoIEmnwwzxY1NgDYqRO14a1GS2wFaiQhdSRtXlMjA/kGpByvgGunMabGW+\n",
              "HxTeAT81H3UAE/5DS2VGaM06vSD3VD+EfvvKx/NbQF9NcXr8MHOk87yCjzXx74QmXQycyZIY69KY\n",
              "bh90ldF1I0NFQzIQNoypbmY8ilCBo19EooqzO6BEWoO5rrLsb8pLQs3GDAwqsJ+7rJids32wQooE\n",
              "7KtgTCIFunRbJvyYLdIy2apV+rPaeoPx+Fh3oSPbrp+x5j5gtjjiWscbyA49aBonowxBYoq1C0+E\n",
              "0WH1oJ53iybACFYaTB2r95INjyKlpA/G0yKqP74k3PPx4tByqQOCDkf5UhlnS6A85mFo9UvPk5Y0\n",
              "wa77GAQMU0t9KzmzUpQJ9o4IHrIJmDI9SlOPFti/qri8J1owX8sYJixX+8ksViy1NWUwvjwsLnxG\n",
              "EhmkzbG4Df46O+4t0rvbuQUvUpcYQJ2WrpPZ6tkkqWirdwQYR5HgX+H0GCrdczL2aL35iv4eXosb\n",
              "wNeU4lxMXR4QlIV4QWcnMhFSFgioi/M1Uh250wSgGDHgD5AZoYTT8RISzT1UPNjoSChsx/zQmlPv\n",
              "ce0VnRGCuw6+/lLiWKVMegAFemaF3jRUJvpXuhRK9Bmiyy5qVNmKf2LLgdHTucb4Jct20+MeZUQ/\n",
              "R/42JwRrZhgM3fvXcH8xyUn9vj629ZQa3Cqmv7dfu6FcVPFAIfsUeFW0rSFQCpP3Nk9SL3GqELEd\n",
              "PMLN3nshdJkZdCiA6VMq1pucAsM4AxUstik3yv6c+qn1h8X+HvMTfWXgICI/b8yIJiyMgvd8v2sn\n",
              "rjrstZfqQVvLZTKhOxxgXvzSLpC2H87mzwlgeBN9ikcrEP9CedzybG9gjlHPazNwSKO2XY9TXseY\n",
              "rWNtkheTDjiCeMIWqMy1FKEeE+2+2GKm0xLTVD6Neb2N1u2UbjHzFRYS6+1vIf+J9f8Hzz5YPXPt\n",
              "FgK23+cbFBTi3tfahRJ0vMwDwMhK1DURzWfjKBZRFNOzkTB7JxzK0tEsJBe4kG7cLwLUWa+JI4hq\n",
              "VMcsA8VrRPc44bMtNPwAZ1CVC3xXw0fR4ab7UAtJA0G37rBDeirnjST/KU7SxMstPAphj053zL0m\n",
              "zHbKnZOCyF6L55szBp+ULVGw/NP5+d/8jAtUsFDmt8efmgX2YX4UQEjrCNknA6p7D2JMdUieavnm\n",
              "RTgrSoiusKsT6bnkw/J9BQY9GNiYPUqOhzCNhncwizaVjYYR5w79PfAuPaF/Y35QjQjvjDVHG2fp\n",
              "/I916z2u6NxVWMD+9s42iVAcXZMm0rUXTw24ptJcDocftd++jTPWldtPhIexPpWxT38iPM2xXEgk\n",
              "In41bK15gT9S5HnDl1/Nj9n2VmatQF3DK2BIT+Pz/VoNj/dTdSNZs4piIgARKxhtx1KRljXR2djd\n",
              "zmpA+iQuzRHbcJXOA52haVQGOQwFKkL6DirNciaCBqsLTgs80+iW9DPXduuV46AUDCCzkUW1F39e\n",
              "OAFaHrmznnhLtCeeKOt4cW3biYERhlCHoKGklDrS0iHZo80k2nPwKNBXLv6btJNsibZ+3BvAWSzG\n",
              "5PGvfU7/3CsD403GEigDVu1/EBmY7KveNJ1T/sKNjZGYh8ZVnxkKhIEMwrQabMCbBForJH7UJE3w\n",
              "kwYxU/MPAwY65n3Lv0gA2KT/PD2qPtELQTYj4KPueiq/XE1VaXEGt1dTp6S15YjicH1qgJYH01hC\n",
              "jb0sWXL65TFAv5+l1gxLhDt7IHoxomO/h3r3Yu0rg5XFg2tohhk1RJYWJ58IeQEFyUmApfgKayaR\n",
              "i44MJ1cujRHxGHYhpiEqEmG/EUNnqkf6whAHaN6Bc9JnZer+CpL3hRmEU5GBE5v3ySfjTPelnonD\n",
              "2tpyON4uWqGjGU33SrFD8QhH1GdYAKntL643Z8m6lRBg4VC1A3+PdGBp5e+2/ngPkTV/rao5U8ON\n",
              "1laiH+D7/tydqeCGCzWizFznW0q5l0gAa0Dlp9bftDJJauAc9WDsopXfXr6Ki+QsouWeXaS7OdNd\n",
              "L9rhJAcHfasoZtuZvlUM5UxZZyFbXOYJcVRttQJqWs2tKhzAvhb4kgejgjk7Z9CshRqCzw7DDe/o\n",
              "ZxVezGX8Lvcqtj0Q7GVNDg4auPqCFDs445dnQF3dPdQk/AUF1hQts4K7SiR7VO0W6RQfzX3SE0Zj\n",
              "hgNIJefeOmneDfiY2RZljotAjYFhOTAE5Z3lHGj5+ZUSHgIiqfi90evG6BfE5IFBcdH2a8YdbwdO\n",
              "SeE5U0ipBykPPBPr2v6Ig/dcg7025Bp8eyVIaRfPafs+Eu9YDzDn5RgrJUsjLJ7oVx7c+Qff1fut\n",
              "l9KCPOhaqRskwwFccNUYziMP/q5F2+sZRVv4+fQyYDYTqzWlidB3cxcluiDwsg73GfZkDZix1X/M\n",
              "C03Ldr+F78USM70t2RgUFXek3u9sTPMTgZD2MXAwUPqfkPArM19v3lwd0c9Knxab1aVfaQJr741s\n",
              "B1BD+F9a89JNOo8QUEnIWHH6LSAXEYyScvQR1OxQFxuw9Tyw5M9BT2AU+ndqQ/IS6jJz48WKwh0K\n",
              "yitKrQ8YHafX3pAYJZGEAfYZbugAZdMOmMGXjZpfjet7mCzTghW4NUJNrC+R0FJyHUIWBdWPwYsU\n",
              "9Cdey8zQBlZxUs6pS74Q04Cm7FKj6bXot1xU0sYJnp/ULJLwH9TVODXgK/2ySqy76nPrtg2iRLBk\n",
              "dSvHXpMWQtyW+qNz5OOL9lROsymJmDIfqxGHlfY3mtVwGUIRpgjO3OQ4yHdUj+XpXOPrMYvOE5G/\n",
              "Qvnv1ojFlfu4JeIeHncdtn0nLq65F90h/E56kgsAOv104jPdB/vmEIOShYLIY35HYYtqUuYARuaL\n",
              "ybXyA3VrGH41bOIj01PHlpQkcl5+0Pc9uWGk3wKGc1pwKaO57hWarQ57MlNdViXrILAHfqjkOfqv\n",
              "7jl4/yCEhoC0X1BqByRf9TEmQx/HE3X53fuc6fNnkpd9Zr6Rlsc+9LvgJqpchqvLoxpDoGy/qzJ9\n",
              "u9NRCDO1fXs4z9NTj5M+WIkXzX+/pFwzNT/VXpyp5NU6CcahxznaaH7LkZP9BquITIx/nRxgwy0o\n",
              "EIyJliTGYmP9rVrQTSAhTgJEsRNNo/5eNFZn2Q+DC1fCK5LzWyNBKraoDbwljLZp8WgoT1nvl2CE\n",
              "B5LDqFz/bEEA7JDmqjRx4nB2KFS6uooHH2P6r6WJIHhnlMs9wwBipSVASLFbcFMIZl//P/x1QYyG\n",
              "QRTPuGMeap2/B4WN+c5tR2bQjUfejhqvLnt3RsCsaPOLrSL/8yCKqQ7v4KYEnWtgnZuaWuFt+hiT\n",
              "ZgA9Kb32nsWz5Vf/2qFx5dvPSCX8vefTAMYpOQgyW5qQVUWSmrjr7YzNMpis79Ls4ubfcQMtjHAA\n",
              "AAMAAAMABNUAAAsUQZokbEFP/taMsAKmQ8AAHR5ryweNu6m4qfQ2ic5y/H6HWuIx3h+n3q4IpiTu\n",
              "YV0U20rQZefODiB0CuUFx5Lu0dwYDqvhjAv9XSqqfG6Wb+QDVf1+kCBE51fwmAj7e+c2CXZgaceG\n",
              "/uR2o4xZEFCXGqyBBmx2U9uE82ltvmYKwybhOrgknbXUeKA9en3jHwFK3b2hTuIcGndDJmOJh3Xj\n",
              "GAouhkms2rUr9ek8+nKNHJx9GCNJbydsbBIiLdwJoyXNCY/RFlL3ZhLm08MhliesVI3qKJumOeBG\n",
              "1yS1zpWfW8EyUwolFyP34anZ751xQQXwatVgio0jUzKclE1Navj+D1+r4/UeSHilevQZ21vMY44k\n",
              "XKBSu0ASrv4zcAYCq8Yz/VM2aKx4719DJ6XrVC0WowGEeWDchHCtX/TT7aVA7vReyKEkemIkm5Pl\n",
              "MWuxUkv8s6RRmYk3XeJzCJcHrhpxn9boeCsS3Q7/qr8D7RtLGeM/sNhFRjTEP4WCh5RzWHzmEKjT\n",
              "/kPp30P80fqhQz3Ujh5kfBmdj2b8W6MuGDNLtT8dsGvNW+BjoAu8DxWPOUM8MO0KNSiAzI60KVMh\n",
              "ZBJi2vvWSGd9HRw0dyRhxR7X4gFEbhmMGajq+NdIKhlk8DfZApR3LrghNYRG0RUmGyZZabHtKVdP\n",
              "eR+ylH5iizi39PicQgIWMBsBjEWKd/vzUb0pgvYwzXMltTqhbc5vhlrPKkj+0S5s5ARCUZy4V4Ot\n",
              "hAUDQE6SBKJuKtCJ7zERjxHS/AoZfDKVcxok+VmrVe1Pbe6xrmAjizeLTGzFI79boqX7gbuR1nww\n",
              "dPbKzdFiSInp5iz93Qo2g2I0haKMEvSD1Oate+o2+Py5RS6V2q1oBu4/XlU9YuIucERsGv+6Y2bw\n",
              "PVIpb/ytodxVGqKO+yreYWnjVcXopJ7x192zDhtMPXs0EGzDL2q80LGGKp2cgZl75rdhuvLpPsby\n",
              "PaxEw4djOqRYpgyFHfuBH+tmQh52kJXO+Jay/F54CSF6x897ZrxJSc9JWSwRFnOWJT7lIzPB8eFM\n",
              "mNj1skQ392TEAaGpZ7QqAUVa74uJsChkfPu3yFpa/2h0trCclC6NLhNx5kzkyaGp6LLZ8XrwOcyr\n",
              "FhDb8tBCrIUmQMMNQ0FI3X2gOj3Jl+2JcAIrHYQ02w8nAQTueHa4a6t0Vd9hwQneV4fO8mOyB55Y\n",
              "a1UvSKlSNFLnun3MOX90n0JGig3997VaeaYPXf69xBxSd5TWbkDALnnJXQxebK5/bykpVNI6iVDm\n",
              "4QraFdLAMoFZEPf7YAV0oqeq3+zlP/k5sZOCG0NVQ+wIB0El9E1e2PNdrmoxELartNpdGQCBXAQp\n",
              "gLyn6tBTcQuhQnNt1+8BwVqxMOui/qh1yTb+puF3RzIsrKQotAz8L/83WrctcIBUVcLsoN79Jg+Z\n",
              "l4wYKaFPaCeIEd7+cSdn2zcdYyfazCxf8psnQg7X5mSjNb8PucaTBlkjVxCCUdgIJKYi0vYrs6AL\n",
              "+Ppb8EA0BDCo07NL61wiu3HEfard9P9ggjkZ9iP3uSc2DrgC6uGMka/sFmWjD/AGZoO/NcCZ+1nx\n",
              "oG5Fm4JiUAUMo6jq6dVvSEa+k9KV9LvLFnGH1koJXPGVZYIh3PadXMYWdwg5YvBB9Xnuo1GiQbca\n",
              "zAaaDJdX3jBPOUyAubCegcVB1qFNOnpiNJHKrhVR/RTJLNpI43YmWcOBCEo0k3GbDJrm7x0LTshg\n",
              "xRMFq6z3Mz4HTzn3hB1y40pp53luWCRoq4wpSblHQTkOrfR7hwlD7WgGicSGzOG563aZtpqUYbCu\n",
              "8qnPif6nSAFPH3nSTL745P971XpyEo8UEWIQ0q27EA4ZkL+2uhF9FznfUuhFyubJvMZ0bCBb8bJy\n",
              "WyO6Pvhik0+p6kb3PVVLOuy9h67lAuyUpYCIdPRCzj0Aeu86nPqTyh56xijuffzhIeb8ElbUB5Vn\n",
              "btnnj/UESn7zvnVCIRcfqtpGSVq55SQ+Dgekm2kNkVDjtiAwqFnnB5RqdfgTsOrOzMncQEc4DbNs\n",
              "DlSzdQSdioNgrWE87Giyhrsvm3Qq5U7SVT9dCybsjXbt9FYmOf0GHS5vo4Qn9+ymxoL2C2Deq1Ox\n",
              "uA18hVHeKO9I/1Ifqy6m4Buxz8/qBEff0rV8fl0KeCKP3qUoCNknS8pQUKnsp6rucJHV44aXnmz7\n",
              "SxzBkztjUE/flU3zwx64oxfSCQpOeReVwXNntFbfGduYCCsC3a//P6qVUpZuYFjGAIasf4eJkqZN\n",
              "nGLTCh2l7RGNP/w/mx3GwdSYtOdZ8KewoSYiccpsAWl3yKxw/n4ExhsvOz/Aax/YIqZBS13N4+WV\n",
              "yDKWTfmDjkRR+5raVNNLZpumfNxt6Nbwjg7zJ3zrpQWLtreIFXeQywImw09TFswexHbqXxt2dhhD\n",
              "e4drtGNQsMpPcn4VibruCit+7bk5sAK9oExul9pKcSP5ugY51yIBmtL6QyUCU/J0C9hZxl0gHkAN\n",
              "ntgmEXyjlQwD1P2R3ZNixEjAEaqMl60td0XUVeQLpUtAYrCafdEWALUaow3jVaJN3wAj5MbinQg5\n",
              "5bMbZFVwYOAE499NI8y9o7ZxOfd78TlXLi7MhGqNIXHJttO1bgJ1Fxh/7xg96HXQjzGlHp7rJAsd\n",
              "8qlkIqC+Zgl88Pt1i233/6ROQW5vShC9VQEqnsemvHlTLzj9n9Br0RP+5d8sK1XnEvT5/+MlWsHm\n",
              "1mh3dUQAEg8tx4HTYoMaX6xmCq+q9h6Pedd6VKv1wj+Bol/kaeNo/PpMjz6sfGXJWrkaieI+ft9J\n",
              "t41xUBSh3plya0O7+r6D9ii0AVUmr1jucWIqC5e+0iGyYUXHxq1j7m6pqvAZVq1fY53OAe/BnFlW\n",
              "YYilyNAgXw/1RgZcv3wZZJNe+f5lA96cYk8ScMIA40PmtIBGq9gSD1jmgh7fxl9HtT8Gkv+wknbv\n",
              "jd12XtG7Pj3PgJWAHl97UvWNWed2CKGKGk0Ji8+Se0XCR5Yex/noUyIzbCClgdvk8BJKImgzU3Qi\n",
              "ZqLZf3CZ93h+CMTNbuNtfmZi4ahNINjA4a0dTCRi7FM7YUDPH6Ruh6OBQ0He8xa4MynCQdmdxqEr\n",
              "Hhv1m502NkhxmFedgwnztgts30OpuCToN+yiGONw6/tiDK5H0qkNjvAnWahuisLiEan1PgSCmBzR\n",
              "0/0udVLb+F3oCAe3LV2DTvNFZW/178IqEXFqdubdgWRTbnS4C1wu65RjnP3zq8+vn/A+jpsuVl4r\n",
              "cv316nUgMZS1WhV3ayW0oT78p0mrlZhUTaLt/VSgjYN742f2V5rtp4mH9P0okq95EvqAK6CKdlfD\n",
              "axObxgxGf1mxk1K2NncsTybZFVH59Z3s6cAWXFMFA1/Q7+oY3nSI1NY8QGnJdc8xWyQvZdCQfc3u\n",
              "x9VX30Cet9TmXMzA9KTWsKZDOvyAUbnTN509E0Zt1GOoEf0kxpTW0JKXSmfBH9GExcWSgTNvBaVI\n",
              "Hs/PKCF6UGKkVI0z62SdYIBYN7oSW4P1n+Ejw6eApun07bUjpDe4M+iB5KmVD6aiNrUjgcbaSbNB\n",
              "RVnzut5QuZDznGbmuF0i6Ww6OMvlwVKiKZFUH3x0xPn4qjpLm/YyzrWEENg5Vne3dA4PP3hxgHNt\n",
              "GgDJTUC+Qr7m8gTpLw/74FRU7yt5SP27j0LJSbNgREIRXyeGh6P7uWkAzOQ/VVKrKR0RBfK6l9A7\n",
              "BzdYKHz4sSv5C8D6IAqKuwlebNn4k4W2c6/Wi2M9WGmdmz/4oVhH2ygbry8/ixlcvIfnI4gs9wAA\n",
              "AFdBnkJ4gh8AC1fOmbnV6kPEZuxsfMLlxCC2P4L0E8qhH6CYmjbT1EVhIJgPPgmVkLUamz2IAFvU\n",
              "eDvF8iFswOpjx+WflMe+6PqFvZUmKkEvEklE63DKB80AAABSAZ5hdEP/ABud7N56KkDdlBpYro7C\n",
              "32WHfgDp+refgeSrYsB5x1H5IZH0N0KWkL3czPGXRYCOwmQbA94mSuhDsY0kD6+eMX/huPJ82iT2\n",
              "D2BQQAAAACMBnmNqQ/8AAAMB++yZXgxm7zhi8pAxK5rQFGEV4ItvYjAEfQAAAGtBmmhJqEFomUwI\n",
              "Kf/+1oywAAlDka4AdJMcoBH6nzdI0P0tSojt6mumo42DOgkfxYpYswUetl0OnEGJ/nrgIAvWzoKf\n",
              "hDoVtrsxVwZhDBSYSUnh86vKlMVm17AVEuFZUgxljWih/gq4J/w3oQAAAClBnoZFESwQ/wAAAwDn\n",
              "6pxZCZ83cwp8rJ31dLza5iGmxDD+6Lcr53Qz4QAAABoBnqV0Q/8AAAMB+6+t/FccomuxYPwd9NoD\n",
              "AwAAAB4BnqdqQ/8AAAMB++yZXgxm7zfgjqfEs2k1WTAADugAAABPQZqsSahBbJlMCCn//taMsAAB\n",
              "IHQLsAJsMCvlS2w4tcP/71u0axFDih74VL/0T7XT0sFulH4n8b5A+lQABKNAlWqmehwlCcz0zDF+\n",
              "LBuF5AAAAChBnspFFSwQ/wAAAwDn6pxZCZ83cwq8oFR1gvFDkBA4vBGyTpDdNA1JAAAAHgGe6XRD\n",
              "/wAAAwH7r638VxyibPx/T4lm0erZ3AAtoAAAAB8BnutqQ/8AAAMB++yZXgxm7zfyi6RFYv93mgkI\n",
              "ACdgAAAAIEGa8EmoQWyZTAgp//7WjLAAAAMAACcOOsADC7szwPmBAAAAJ0GfDkUVLBD/AAADAPg+\n",
              "l76g7w2moST8+3lxa/NKBxdVsCf/bqAFtQAAAB8Bny10Q/8AAAMB+6+t/Fccom0ceUhqxf7ktCpQ\n",
              "AHzBAAAAHwGfL2pD/wAAAwH77JleDGbvN/KLpEVi/3eaCQgAJ2AAAAAgQZs0SahBbJlMCCn//taM\n",
              "sAAAAwAAJw46wAMLErPA+YAAAAAnQZ9SRRUsEP8AAAMA+D6XvqDvDaahJPz7eXFr80oHF1WwJ/9u\n",
              "oAW1AAAAHwGfcXRD/wAAAwH7r638VxyibRx5SGrF/uS0KlAAfMAAAAAfAZ9zakP/AAADAfvsmV4M\n",
              "Zu838oukRWL/d5oJCAAnYAAAACBBm3hJqEFsmUwIKf/+1oywAAADAAAnDjrAAwu7M8D5gQAAACdB\n",
              "n5ZFFSwQ/wAAAwD4Ppe+oO8NpqEk/Pt5cWvzSgcXVbAn/26gBbQAAAAfAZ+1dEP/AAADAfuvrfxX\n",
              "HKJtHHlIasX+5LQqUAB8wQAAAB8Bn7dqQ/8AAAMB++yZXgxm7zfyi6RFYv93mgkIACdhAAAAIEGb\n",
              "vEmoQWyZTAgp//7WjLAAAAMAACcOOsADCxKzwPmAAAAAJ0Gf2kUVLBD/AAADAPg+l76g7w2moST8\n",
              "+3lxa/NKBxdVsCf/bqAFtQAAAB8Bn/l0Q/8AAAMB+6+t/Fccom0ceUhqxf7ktCpQAHzAAAAAHwGf\n",
              "+2pD/wAAAwH77JleDGbvN/KLpEVi/3eaCQgAJ2EAAAAgQZvgSahBbJlMCCn//taMsAAAAwAAJw46\n",
              "wAMLuzPA+YEAAAAnQZ4eRRUsEP8AAAMA+D6XvqDvDaahJPz7eXFr80oHF1WwJ/9uoAW0AAAAHwGe\n",
              "PXRD/wAAAwH7r638VxyibRx5SGrF/uS0KlAAfMAAAAAfAZ4/akP/AAADAfvsmV4MZu838oukRWL/\n",
              "d5oJCAAnYQAAACBBmiRJqEFsmUwIKf/+1oywAAADAAAnDjrAAwsSs8D5gAAAACdBnkJFFSwQ/wAA\n",
              "AwD4Ppe+oO8NpqEk/Pt5cWvzSgcXVbAn/26gBbUAAAAfAZ5hdEP/AAADAfuvrfxXHKJtHHlIasX+\n",
              "5LQqUAB8wAAAAB8BnmNqQ/8AAAMB++yZXgxm7zfyi6RFYv93mgkIACdhAAAAIEGaaEmoQWyZTAgp\n",
              "//7WjLAAAAMAACcOOsADC7szwPmBAAAAJ0GehkUVLBD/AAADAPg+l76g7w2moST8+3lxa/NKBxdV\n",
              "sCf/bqAFtQAAAB8BnqV0Q/8AAAMB+6+t/Fccom0ceUhqxf7ktCpQAHzBAAAAHwGep2pD/wAAAwH7\n",
              "7JleDGbvN/KLpEVi/3eaCQgAJ2AAAAAgQZqsSahBbJlMCCn//taMsAAAAwAAJw46wAMLErPA+YAA\n",
              "AAAnQZ7KRRUsEP8AAAMA+D6XvqDvDaahJPz7eXFr80oHF1WwJ/9uoAW1AAAAHwGe6XRD/wAAAwH7\n",
              "r638VxyibRx5SGrF/uS0KlAAfMAAAAAfAZ7rakP/AAADAfvsmV4MZu838oukRWL/d5oJCAAnYAAA\n",
              "ACBBmvBJqEFsmUwIKf/+1oywAAADAAAnDjrAAwu7M8D5gQAAACdBnw5FFSwQ/wAAAwD4Ppe+oO8N\n",
              "pqEk/Pt5cWvzSgcXVbAn/26gBbUAAAAfAZ8tdEP/AAADAfuvrfxXHKJtHHlIasX+5LQqUAB8wQAA\n",
              "AB8Bny9qQ/8AAAMB++yZXgxm7zfyi6RFYv93mgkIACdgAAAAIEGbNEmoQWyZTAgp//7WjLAAAAMA\n",
              "ACcOOsADCxKzwPmAAAAAJ0GfUkUVLBD/AAADAPg+l76g7w2moST8+3lxa/NKBxdVsCf/bqAFtQAA\n",
              "AB8Bn3F0Q/8AAAMB+6+t/Fccom0ceUhqxf7ktCpQAHzAAAAAHwGfc2pD/wAAAwH77JleDGbvN/KL\n",
              "pEVi/3eaCQgAJ2AAAAAgQZt4SahBbJlMCCn//taMsAAAAwAAJw46wAMLuzPA+YEAAAAnQZ+WRRUs\n",
              "EP8AAAMA+D6XvqDvDaahJPz7eXFr80oHF1WwJ/9uoAW0AAAAHwGftXRD/wAAAwH7r638VxyibRx5\n",
              "SGrF/uS0KlAAfMEAAAAfAZ+3akP/AAADAfvsmV4MZu838oukRWL/d5oJCAAnYQAAACBBm7xJqEFs\n",
              "mUwIKf/+1oywAAADAAAnDjrAAwsSs8D5gAAAACdBn9pFFSwQ/wAAAwD4Ppe+oO8NpqEk/Pt5cWvz\n",
              "SgcXVbAn/26gBbUAAAAfAZ/5dEP/AAADAfuvrfxXHKJtHHlIasX+5LQqUAB8wAAAAB8Bn/tqQ/8A\n",
              "AAMB++yZXgxm7zfyi6RFYv93mgkIACdhAAAAIEGb4EmoQWyZTAgp//7WjLAAAAMAACcOOsADC7sz\n",
              "wPmBAAAAJ0GeHkUVLBD/AAADAPg+l76g7w2moST8+3lxa/NKBxdVsCf/bqAFtAAAAB8Bnj10Q/8A\n",
              "AAMB+6+t/Fccom0ceUhqxf7ktCpQAHzAAAAAHwGeP2pD/wAAAwH77JleDGbvN/KLpEVi/3eaCQgA\n",
              "J2EAAAAgQZokSahBbJlMCCn//taMsAAAAwAAJw46wAMLErPA+YAAAAAnQZ5CRRUsEP8AAAMA+D6X\n",
              "vqDvDaahJPz7eXFr80oHF1WwJ/9uoAW1AAAAHwGeYXRD/wAAAwH7r638VxyibRx5SGrF/uS0KlAA\n",
              "fMAAAAAfAZ5jakP/AAADAfvsmV4MZu838oukRWL/d5oJCAAnYQAAABlBmmhJqEFsmUwIKf/+1oyw\n",
              "AAADAAADAAF5AAAAJ0GehkUVLBD/AAADAPg+l76g7w2moST8+3lxa/NKBxdVsCf/bqAFtQAAAB8B\n",
              "nqV0Q/8AAAMB+6+t/Fccom0ceUhqxf7ktCpQAHzBAAAAHwGep2pD/wAAAwH77JleDGbvN/KLpEVi\n",
              "/3eaCQgAJ2AAAAAjQZqsSahBbJlMCCn//taMsAAd2CIgAvnrnIAAHakmuZhgdUAAAAAnQZ7KRRUs\n",
              "EP8AAAMA+D6XvqDvDaahJPz7eXFr80oHF1WwJ/9uoAW1AAAAHwGe6XRD/wAAAwH7r638VxyibRx5\n",
              "SGrF/uS0KlAAfMAAAAAfAZ7rakP/AAADAfvsmV4MZu838oukRWL/d5oJCAAnYAAAADNBmvBJqEFs\n",
              "mUwIKf/+1oywAB3YIiAC+noco69OOPWl+CLxMFJhfqTqwBjfXa9NecrUJeEAAAApQZ8ORRUsEP8A\n",
              "AAMA+D6XvqDvDaahJP3Mj87KvPlXxD3UkYOg6WwAr4EAAAAfAZ8tdEP/AAADAfuvrfxXHKJtHHlI\n",
              "asX+5LQqUAB8wQAAACABny9qQ/8AAAMB++yZXgxm7zhP0gOGG7wOyWcOZcACBgAAABlBmzRJqEFs\n",
              "mUwIJ//+tSqAAAADAAADAAXEAAAAKUGfUkUVLBD/AAADAPg+l76g7w2moST9yzvSYaB8q+IoFW+i\n",
              "/sS8AK2BAAAAIAGfcXRD/wAAAwH7r638VxyibccQBxsTtDJvj7sKAA2YAAAAIAGfc2pD/wAAAwH7\n",
              "7JleDGbvOE/SA4YbvA7JZw5lwAIGAAAAGUGbeEmoQWyZTAgn//61KoAAAAMAAAMABcUAAAApQZ+W\n",
              "RRUsEP8AAAMA+D6XvqDvDaahJP3LO9JhoHyr4igVb6L+xLwArYAAAAAgAZ+1dEP/AAADAfuvrfxX\n",
              "HKJtxxAHGxO0Mm+PuwoADZkAAAAgAZ+3akP/AAADAfvsmV4MZu84T9IDhhu8DslnDmXAAgcAAAAZ\n",
              "QZu8SahBbJlMCCf//rUqgAAAAwAAAwAFxAAAAClBn9pFFSwQ/wAAAwD4Ppe+oO8NpqEk/cs70mGg\n",
              "fKviKBVvov7EvACtgQAAACABn/l0Q/8AAAMB+6+t/Fccom3HEAcbE7Qyb4+7CgANmAAAACABn/tq\n",
              "Q/8AAAMB++yZXgxm7zhP0gOGG7wOyWcOZcACBwAAABlBm+BJqEFsmUwIJf/+tSqAAAADAAADAAXF\n",
              "AAAAKUGeHkUVLBD/AAADAPg+l76g7w2moST9yzvSYaB8q+IoFW+i/sS8AK2AAAAAIAGePXRD/wAA\n",
              "AwH7r638VxyibccQBxsTtDJvj7sKAA2YAAAAIAGeP2pD/wAAAwH77JleDGbvOE/SA4YbvA7JZw5l\n",
              "wAIHAAAAGUGaI0moQWyZTAh///6plgAAAwAAAwAALOAAAAApQZ5BRRUsEP8AAAMA+D6XvqDvDaah\n",
              "JP3LO9JhoHyr4igVb6L+xLwArYEAAAAgAZ5iakP/AAADAfvsmV4MZu84T9IDhhu8DslnDmXAAgYA\n",
              "AAfWbW9vdgAAAGxtdmhkAAAAAAAAAAAAAAAAAAAD6AAATiAAAQAAAQAAAAAAAAAAAAAAAAEAAAAA\n",
              "AAAAAAAAAAAAAAABAAAAAAAAAAAAAAAAAABAAAAAAAAAAAAAAAAAAAAAAAAAAAAAAAAAAAAAAAAA\n",
              "AgAABwB0cmFrAAAAXHRraGQAAAADAAAAAAAAAAAAAAABAAAAAAAATiAAAAAAAAAAAAAAAAAAAAAA\n",
              "AAEAAAAAAAAAAAAAAAAAAAABAAAAAAAAAAAAAAAAAABAAAAAAoAAAAHgAAAAAAAkZWR0cwAAABxl\n",
              "bHN0AAAAAAAAAAEAAE4gAAAQAAABAAAAAAZ4bWRpYQAAACBtZGhkAAAAAAAAAAAAAAAAAAAoAAAD\n",
              "IABVxAAAAAAALWhkbHIAAAAAAAAAAHZpZGUAAAAAAAAAAAAAAABWaWRlb0hhbmRsZXIAAAAGI21p\n",
              "bmYAAAAUdm1oZAAAAAEAAAAAAAAAAAAAACRkaW5mAAAAHGRyZWYAAAAAAAAAAQAAAAx1cmwgAAAA\n",
              "AQAABeNzdGJsAAAAs3N0c2QAAAAAAAAAAQAAAKNhdmMxAAAAAAAAAAEAAAAAAAAAAAAAAAAAAAAA\n",
              "AoAB4ABIAAAASAAAAAAAAAABAAAAAAAAAAAAAAAAAAAAAAAAAAAAAAAAAAAAAAAAAAAAGP//AAAA\n",
              "MWF2Y0MBZAAW/+EAGGdkABas2UCgPaEAAAMAAQAAAwAKDxYtlgEABmjr48siwAAAABx1dWlka2hA\n",
              "8l8kT8W6OaUbzwMj8wAAAAAAAAAYc3R0cwAAAAAAAAABAAAAZAAACAAAAAAUc3RzcwAAAAAAAAAB\n",
              "AAAAAQAAAyhjdHRzAAAAAAAAAGMAAAABAAAQAAAAAAEAACgAAAAAAQAAEAAAAAABAAAAAAAAAAEA\n",
              "AAgAAAAAAQAAKAAAAAABAAAQAAAAAAEAAAAAAAAAAQAACAAAAAABAAAoAAAAAAEAABAAAAAAAQAA\n",
              "AAAAAAABAAAIAAAAAAEAACgAAAAAAQAAEAAAAAABAAAAAAAAAAEAAAgAAAAAAQAAKAAAAAABAAAQ\n",
              "AAAAAAEAAAAAAAAAAQAACAAAAAABAAAoAAAAAAEAABAAAAAAAQAAAAAAAAABAAAIAAAAAAEAACgA\n",
              "AAAAAQAAEAAAAAABAAAAAAAAAAEAAAgAAAAAAQAAKAAAAAABAAAQAAAAAAEAAAAAAAAAAQAACAAA\n",
              "AAABAAAoAAAAAAEAABAAAAAAAQAAAAAAAAABAAAIAAAAAAEAACgAAAAAAQAAEAAAAAABAAAAAAAA\n",
              "AAEAAAgAAAAAAQAAKAAAAAABAAAQAAAAAAEAAAAAAAAAAQAACAAAAAABAAAoAAAAAAEAABAAAAAA\n",
              "AQAAAAAAAAABAAAIAAAAAAEAACgAAAAAAQAAEAAAAAABAAAAAAAAAAEAAAgAAAAAAQAAKAAAAAAB\n",
              "AAAQAAAAAAEAAAAAAAAAAQAACAAAAAABAAAoAAAAAAEAABAAAAAAAQAAAAAAAAABAAAIAAAAAAEA\n",
              "ACgAAAAAAQAAEAAAAAABAAAAAAAAAAEAAAgAAAAAAQAAKAAAAAABAAAQAAAAAAEAAAAAAAAAAQAA\n",
              "CAAAAAABAAAoAAAAAAEAABAAAAAAAQAAAAAAAAABAAAIAAAAAAEAACgAAAAAAQAAEAAAAAABAAAA\n",
              "AAAAAAEAAAgAAAAAAQAAKAAAAAABAAAQAAAAAAEAAAAAAAAAAQAACAAAAAABAAAoAAAAAAEAABAA\n",
              "AAAAAQAAAAAAAAABAAAIAAAAAAEAACgAAAAAAQAAEAAAAAABAAAAAAAAAAEAAAgAAAAAAQAAKAAA\n",
              "AAABAAAQAAAAAAEAAAAAAAAAAQAACAAAAAABAAAoAAAAAAEAABAAAAAAAQAAAAAAAAABAAAIAAAA\n",
              "AAEAACAAAAAAAgAACAAAAAAcc3RzYwAAAAAAAAABAAAAAQAAAGQAAAABAAABpHN0c3oAAAAAAAAA\n",
              "AAAAAGQAAC6eAAALGAAAAFsAAABWAAAAJwAAAG8AAAAtAAAAHgAAACIAAABTAAAALAAAACIAAAAj\n",
              "AAAAJAAAACsAAAAjAAAAIwAAACQAAAArAAAAIwAAACMAAAAkAAAAKwAAACMAAAAjAAAAJAAAACsA\n",
              "AAAjAAAAIwAAACQAAAArAAAAIwAAACMAAAAkAAAAKwAAACMAAAAjAAAAJAAAACsAAAAjAAAAIwAA\n",
              "ACQAAAArAAAAIwAAACMAAAAkAAAAKwAAACMAAAAjAAAAJAAAACsAAAAjAAAAIwAAACQAAAArAAAA\n",
              "IwAAACMAAAAkAAAAKwAAACMAAAAjAAAAJAAAACsAAAAjAAAAIwAAACQAAAArAAAAIwAAACMAAAAd\n",
              "AAAAKwAAACMAAAAjAAAAJwAAACsAAAAjAAAAIwAAADcAAAAtAAAAIwAAACQAAAAdAAAALQAAACQA\n",
              "AAAkAAAAHQAAAC0AAAAkAAAAJAAAAB0AAAAtAAAAJAAAACQAAAAdAAAALQAAACQAAAAkAAAAHQAA\n",
              "AC0AAAAkAAAAFHN0Y28AAAAAAAAAAQAAACwAAABidWR0YQAAAFptZXRhAAAAAAAAACFoZGxyAAAA\n",
              "AAAAAABtZGlyYXBwbAAAAAAAAAAAAAAAAC1pbHN0AAAAJal0b28AAAAdZGF0YQAAAAEAAAAATGF2\n",
              "ZjU3LjgzLjEwMA==\n",
              "\">\n",
              "  Your browser does not support the video tag.\n",
              "</video>"
            ]
          },
          "metadata": {},
          "execution_count": 83
        },
        {
          "output_type": "display_data",
          "data": {
            "text/plain": [
              "<Figure size 640x480 with 1 Axes>"
            ],
            "image/png": "[encoded data removed]"
          },
          "metadata": {}
        }
      ]
    },
    {
      "cell_type": "markdown",
      "metadata": {
        "id": "CiIDU0dHwl0h"
      },
      "source": [
        "## 와, Great!"
      ]
    },
    {
      "cell_type": "code",
      "metadata": {
        "id": "LgCISM41wl0j"
      },
      "source": [],
      "execution_count": null,
      "outputs": []
    }
  ]
}